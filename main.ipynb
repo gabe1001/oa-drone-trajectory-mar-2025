{
 "cells": [
  {
   "cell_type": "markdown",
   "id": "fcdcb3d0-62af-41df-9fad-fcb84f5af016",
   "metadata": {},
   "source": [
    "# Drone Trajectory Planner\n",
    "\n",
    "In this project, we will develop the drone trajectory planner. This notebook serves as the main file for the project, where we will refer to the instructions and demonstrate our code.\n",
    "\n",
    "Please follow week by week instructions, which includes writing the code in the `src/` folder."
   ]
  },
  {
   "cell_type": "code",
   "execution_count": 45,
   "id": "83a63ad4-c249-484a-99e2-d9724aa5d41e",
   "metadata": {},
   "outputs": [
    {
     "name": "stdout",
     "output_type": "stream",
     "text": [
      "The autoreload extension is already loaded. To reload it, use:\n",
      "  %reload_ext autoreload\n"
     ]
    }
   ],
   "source": [
    "# Import all the files and libraries required for the project\n",
    "%load_ext autoreload\n",
    "%autoreload 2\n",
    "import copy\n",
    "    \n",
    "import numpy as np\n",
    "\n",
    "from src.camera_utils import compute_image_footprint_on_surface, compute_ground_sampling_distance, project_world_point_to_image\n",
    "from src.data_model import Camera, DatasetSpec\n",
    "from src.plan_computation import compute_distance_between_images, compute_speed_during_photo_capture, generate_photo_plan_on_grid\n",
    "from src.visualization import plot_photo_plan"
   ]
  },
  {
   "cell_type": "markdown",
   "id": "44eb7f16-9094-4bc8-8ce7-065991ea0b78",
   "metadata": {},
   "source": [
    "# Week 1: Introduction\n",
    "\n",
    "No code contribution expected this week"
   ]
  },
  {
   "cell_type": "markdown",
   "id": "0c08643e-1e37-4614-bc8f-b5636127b345",
   "metadata": {},
   "source": [
    "# Week 2: Camera System Modeling and Operations\n",
    "\n",
    "We plan to\n",
    "- Model the simple pinhole camera system\n",
    "- Write utility functions to\n",
    "    - project a 3D world point to an image\n",
    "    - Compute image footprint on a surface\n",
    "    - Compute the Ground Sampling Distance"
   ]
  },
  {
   "cell_type": "markdown",
   "id": "c65c8b8f-6f33-4cd4-8c3a-74acbdbd2c7d",
   "metadata": {},
   "source": [
    "## Model the camera parameters\n",
    "\n",
    "We want to model the following camera parameters in Python:\n",
    "- focal length along x axis (in pixels)\n",
    "- focal length along y axis (in pixels)\n",
    "- optical center of the image along the x axis (in pixels)\n",
    "- optical center of the image along the y axis (in pixels)\n",
    "- Size of the sensor along the x axis (in mm)\n",
    "- Size of the sensor along the y axis (in mm)\n",
    "- Number of pixels in the image along the x axis\n",
    "- Number of pixels in the image along the y axis\n",
    "\n",
    "I recommend to use `dataclasses` ([Python documentation](https://docs.python.org/3/library/dataclasses.html), [Blog](https://www.dataquest.io/blog/how-to-use-python-data-classes/) to model these parameters.\n",
    "\n",
    "$\\color{red}{\\text{TODO: }}$ Implement `Camera` in `src/data_model.py`"
   ]
  },
  {
   "cell_type": "code",
   "execution_count": null,
   "id": "51f75a3f-b1b1-4087-b9ea-6d5b245ab0fc",
   "metadata": {},
   "outputs": [],
   "source": [
    "# Define the parameters for Skydio VT300L - Wide camera\n",
    "# Ref: https://support.skydio.com/hc/en-us/articles/20856347470491-Skydio-X10-camera-and-metadata-overview\n",
    "fx = 4938.56\n",
    "fy = 4936.49\n",
    "cx = 4095.5\n",
    "cy = 3071.5\n",
    "sensor_size_x_mm = 13.107 # single pixel size * number of pixels in X dimension\n",
    "sensor_size_y_mm = 9.830 # single pixel size * number of pixels in Y dimension\n",
    "image_size_x = 8192\n",
    "image_size_y = 6144\n",
    "\n",
    "camera_x10 = Camera(fx, fy, cx, cy, sensor_size_x_mm, sensor_size_y_mm, image_size_x, image_size_y)"
   ]
  },
  {
   "cell_type": "code",
   "execution_count": 47,
   "id": "d0c3834b-6ae4-49b2-8a4f-9a50a08c2cb7",
   "metadata": {},
   "outputs": [
    {
     "name": "stdout",
     "output_type": "stream",
     "text": [
      "X10 camera model: Camera(fx=4938.56, fy=4936.49, cx=4095.5, cy=3071.5, sensor_size_x_mm=13.107, sensor_size_y_mm=9.83, image_size_x=8192, image_size_y=6144)\n"
     ]
    }
   ],
   "source": [
    "print(f\"X10 camera model: {camera_x10}\")"
   ]
  },
  {
   "cell_type": "markdown",
   "id": "1f1db4d3-824e-49b9-af3a-dbeb3323625a",
   "metadata": {},
   "source": [
    "## Project 3D world points into the image\n",
    "\n",
    "\n",
    "![Camera Projection](assets/image_projection.png)\n",
    "Reference: [Robert Collins CSE483](https://www.cse.psu.edu/~rtc12/CSE486/lecture12.pdf)\n",
    "\n",
    "\n",
    "Equations to implement:\n",
    "$$ x = f_x \\frac{X}{Z} $$\n",
    "$$ y = f_y \\frac{Y}{Z} $$\n",
    "$$ u = x + c_x $$\n",
    "$$ v = y + c_y $$\n",
    "\n",
    "$\\color{red}{\\text{TODO: }}$ Implement function `project_world_point_to_image` in `src/camera_utils.py`"
   ]
  },
  {
   "cell_type": "code",
   "execution_count": 48,
   "id": "4a3bd4c0-188b-4f95-98c9-95bb351e2d59",
   "metadata": {},
   "outputs": [
    {
     "name": "stdout",
     "output_type": "stream",
     "text": [
      "[ 25. -30.  50.] projected to [6564.7803   109.60571]\n"
     ]
    }
   ],
   "source": [
    "\n",
    "point_3d = np.array([25, -30, 50], dtype=np.float32)\n",
    "expected_uv = np.array([6564.80, 109.60], dtype=np.float32)\n",
    "uv = project_world_point_to_image(camera_x10, point_3d)\n",
    "\n",
    "print(f\"{point_3d} projected to {uv}\")\n",
    "\n",
    "assert np.allclose(uv, expected_uv, atol=1e-2)"
   ]
  },
  {
   "cell_type": "markdown",
   "id": "cf58acce-ca40-492d-9281-791c05c92776",
   "metadata": {},
   "source": [
    "## Compute Image Footprint on the surface\n",
    "\n",
    "We have written code to *project* a 3D point into the image. The reverse operation is reprojection, where we take $(x, y)$ and compute the $(X, Y)$ for a given value of $Z$. Note that while going from 3D to 2D, the depth becomes ambiguous so we need the to specify the $Z$.\n",
    "\n",
    "An image's footprint is the area on the surface which is captured by the image. We can take the two corners of the image and reproject them at a given distance to obtain the width and length of the image.\n",
    "\n",
    "$\\color{red}{\\text{TODO: }}$ Implement function `compute_image_footprint_on_surface` in `src/camera_utils.py`"
   ]
  },
  {
   "cell_type": "code",
   "execution_count": 49,
   "id": "9d3e87ae-2123-4362-bf6e-279e6afb360c",
   "metadata": {},
   "outputs": [
    {
     "name": "stdout",
     "output_type": "stream",
     "text": [
      "Footprint at 100m = [165.87831271 124.46090238]\n"
     ]
    }
   ],
   "source": [
    "footprint_at_100m = compute_image_footprint_on_surface(camera_x10, 100)\n",
    "expected_footprint_at_100m = np.array([165.88, 124.46], dtype=np.float32)\n",
    "\n",
    "print(f\"Footprint at 100m = {footprint_at_100m}\")\n",
    "\n",
    "assert np.allclose(footprint_at_100m, expected_footprint_at_100m, atol=1e-2)\n"
   ]
  },
  {
   "cell_type": "code",
   "execution_count": 50,
   "id": "bf7af93f-e95b-40e2-b607-39020015381b",
   "metadata": {},
   "outputs": [
    {
     "name": "stdout",
     "output_type": "stream",
     "text": [
      "Footprint at 200m = [331.75662541 248.92180476]\n"
     ]
    }
   ],
   "source": [
    "footprint_at_200m = compute_image_footprint_on_surface(camera_x10, 200)\n",
    "expected_footprint_at_200m = expected_footprint_at_100m * 2\n",
    "\n",
    "print(f\"Footprint at 200m = {footprint_at_200m}\")\n",
    "\n",
    "assert np.allclose(footprint_at_200m, expected_footprint_at_200m, atol=1e-2)"
   ]
  },
  {
   "cell_type": "markdown",
   "id": "84486ad6-a4c5-4e5a-ba40-ad125ced7d3d",
   "metadata": {},
   "source": [
    "## Ground Sampling Distance\n",
    "\n",
    "Ground sampling distance is the length of the ground (in m) captured by a single pixel. We have the image footpring (the dimensions of ground captured by the whole sensor, and the number of pixels along the horizontal and vertical dimension. Can we get GSD from these two quantities?\n",
    "\n",
    "Note: Please return just one value of the GSD. Take the mininum of the values along the two axes."
   ]
  },
  {
   "cell_type": "code",
   "execution_count": 51,
   "id": "f21aa3d1-08be-4bce-8554-ec834ad000bf",
   "metadata": {},
   "outputs": [
    {
     "name": "stdout",
     "output_type": "stream",
     "text": [
      "GSD at 100m: 0.020257308330412907\n"
     ]
    }
   ],
   "source": [
    "gsd_at_100m = compute_ground_sampling_distance(camera_x10, 100)\n",
    "expected_gsd_at_100m = 0.0202\n",
    "\n",
    "print(f\"GSD at 100m: {gsd_at_100m}\")\n",
    "\n",
    "assert np.allclose(gsd_at_100m, expected_gsd_at_100m, atol=1e-4)"
   ]
  },
  {
   "cell_type": "markdown",
   "id": "47477599-e78b-46d4-9cac-725bcbb5e6eb",
   "metadata": {},
   "source": [
    "## Bonus: Reprojection from 2D to 3D\n",
    "\n",
    "If we have a 2d pixel location of a point along with the camera model, can we go back to 3D?\n",
    "Do we need any additional information.\n",
    "\n",
    "\n",
    "$\\color{red}{\\text{TODO: }}$ Implement function `reproject_image_point_to_world` in `src/camera_utils.py` and demonstrate it by running it in the notebook. Confirm that your reprojection + projection function are consistent."
   ]
  },
  {
   "cell_type": "markdown",
   "id": "59349449-f7ed-4e2f-aa80-17a2fabf51f1",
   "metadata": {},
   "source": [
    "# Week 3: Model the user requirements\n",
    "\n",
    "For this week, we will model the dataset specifications.\n",
    "\n",
    "- Overlap: the ratio (in 0 to 1) of scene shared between two consecutive images.\n",
    "- Sidelap: the ratio (in 0 to 1) of scene shared between two images in adjacent rows.\n",
    "- Height: the height of the scan above the ground (in meters).\n",
    "- Scan_dimension_x: the horizontal size of the rectangle to be scanned\n",
    "- Scan_dimension_y: the vertical size of the rectangle to be scanned\n",
    "- exposure_time_ms: the exposure time for each image (in milliseconds).\n",
    "\n",
    "\n",
    "$\\color{red}{\\text{TODO: }}$ Implement `DatasetSpec` in `src/data_model.py`\n"
   ]
  },
  {
   "cell_type": "code",
   "execution_count": 52,
   "id": "38206e65-458d-4d0d-b3fc-7e45039c0b64",
   "metadata": {},
   "outputs": [
    {
     "name": "stdout",
     "output_type": "stream",
     "text": [
      "Nominal specs: DatasetSpec(overlap=0.7, sidelap=0.7, height=30.48, scan_dimension_x=150, scan_dimension_y=150, exposure_time_ms=2)\n"
     ]
    }
   ],
   "source": [
    "# Model the nomimal dataset spec\n",
    "\n",
    "overlap = 0.7\n",
    "sidelap = 0.7\n",
    "height = 30.48 # 100 ft\n",
    "scan_dimension_x = 150\n",
    "scan_dimension_y = 150\n",
    "exposure_time_ms = 2 # 1/500 exposure time\n",
    "\n",
    "dataset_spec = DatasetSpec(overlap, sidelap, height, scan_dimension_x, scan_dimension_y, exposure_time_ms)\n",
    "\n",
    "print(f\"Nominal specs: {dataset_spec}\")"
   ]
  },
  {
   "cell_type": "markdown",
   "id": "135a5201-bcbc-4e57-9201-31d3dbb50005",
   "metadata": {},
   "source": [
    "# Week 4: Compute Distance Between Photos\n",
    "\n",
    "The overlap and sidelap are the ratio of the dimensions shared between two photos. We already know the footprint of a single image at a given distance. Can we convert the ratio into actual distances? And how does the distance on the surface relate to distance travelled by the camera?\n",
    "\n",
    "$\\color{red}{\\text{TODO: }}$ Implement `compute_distance_between_images` in `src/plan_computation.py`\n",
    "\n"
   ]
  },
  {
   "cell_type": "code",
   "execution_count": 53,
   "id": "70b32a91-2577-46ec-bb07-9a0a5fd01243",
   "metadata": {},
   "outputs": [
    {
     "name": "stdout",
     "output_type": "stream",
     "text": [
      "Computed distance for X10 camera with nominal dataset specs: [15.16791291 11.38070491]\n"
     ]
    }
   ],
   "source": [
    "computed_distances = compute_distance_between_images(camera_x10, dataset_spec)\n",
    "expected_distances = np.array([15.17, 11.38], dtype=np.float32)\n",
    "\n",
    "print(f\"Computed distance for X10 camera with nominal dataset specs: {computed_distances}\")\n",
    "\n",
    "assert np.allclose(computed_distances, expected_distances, atol=1e-2)"
   ]
  },
  {
   "cell_type": "markdown",
   "id": "5474e7ac-28bb-4ab3-ad8d-cb5398d5696b",
   "metadata": {},
   "source": [
    "$\\color{red}{\\text{TODO: }}$ define more specifications/camera parameters and check the computed distances. Does that align with your expections\n"
   ]
  },
  {
   "cell_type": "markdown",
   "id": "23b2a246",
   "metadata": {},
   "source": [
    "### $\\color{Cyan}{\\text{Camera Parameters Experiments}}$\n",
    "\n",
    "Experiment 1: Double the flight height in dataset_spec_.\n",
    "* **Prediction:** Doubling the flight height will double both distance_x (distance along the flight path) and distance_y (distance between flight lines)\n",
    "\n",
    "* **Reasoning:**\n",
    "    * The image footprint (footprint_x, footprint_y) is linearly proportional to the distance_from_surface (height), as seen in the compute_image_footprint_on_surface calculation: footprint = (sensor_size * distance) / focal_length_mm."
   ]
  },
  {
   "cell_type": "code",
   "execution_count": 54,
   "id": "f7f9334a-6ee1-4aa4-8770-d0f48b36f18b",
   "metadata": {},
   "outputs": [
    {
     "name": "stdout",
     "output_type": "stream",
     "text": [
      "Experiment 1: Double Height\n",
      "Computed distance (Height x2): [30.33582583 22.76140983]\n",
      "Original distance: [15.16791291 11.38070491]\n",
      "==============================\n",
      "\n"
     ]
    }
   ],
   "source": [
    "# Experiment 1 - Double the flight height\n",
    "print(\"Experiment 1: Double Height\")\n",
    "camera_1 = copy.copy(camera_x10)\n",
    "dataset_spec_1 = copy.copy(dataset_spec)\n",
    "original_height = dataset_spec_1.height\n",
    "dataset_spec_1.height = original_height * 2 # Double the height\n",
    "computed_distances_1 = compute_distance_between_images(camera_1, dataset_spec_1)\n",
    "print(f\"Computed distance (Height x2): {computed_distances_1}\")\n",
    "print(f\"Original distance: {computed_distances}\\n\" + \"=\"*30 + \"\\n\")"
   ]
  },
  {
   "cell_type": "markdown",
   "id": "2f9593d8",
   "metadata": {},
   "source": [
    "Experiment 2: Increase Overlap Ratio\n",
    "* **Prediction:** Increasing the `overlap` ratio will *decrease* `distance_x` while `distance_y` will stay the same.\n",
    "* **Reasoning:**\n",
    "    *   The image footprint width (`footprint_x`) remains constant because the `height` and camera parameters are unchanged.\n",
    "    *   As the `overlap` ratio increases: $$ (1 - \\text{overlap})$$ this value decreases. This means the drone needs to travel a shorter distance forward between photos to achieve the required higher overlap."
   ]
  },
  {
   "cell_type": "code",
   "execution_count": 55,
   "id": "7516f326",
   "metadata": {},
   "outputs": [
    {
     "name": "stdout",
     "output_type": "stream",
     "text": [
      "Experiment 2: Increase Overlap\n",
      "Computed distance (Overlap = 0.9): [ 5.05597097 11.38070491]\n",
      "Original distance: [15.16791291 11.38070491]\n",
      "==============================\n",
      "\n"
     ]
    }
   ],
   "source": [
    "# Experiment 2 - Increase the overlap ratio\n",
    "print(\"Experiment 2: Increase Overlap\")\n",
    "camera_2 = copy.copy(camera_x10)\n",
    "dataset_spec_2 = copy.copy(dataset_spec)\n",
    "dataset_spec_2.overlap = 0.9 # Increase overlap to 90%\n",
    "computed_distances_2 = compute_distance_between_images(camera_2, dataset_spec_2)\n",
    "print(f\"Computed distance (Overlap = 0.9): {computed_distances_2}\")\n",
    "print(f\"Original distance: {computed_distances}\\n\" + \"=\"*30 + \"\\n\")"
   ]
  },
  {
   "cell_type": "markdown",
   "id": "d2ab2af3",
   "metadata": {},
   "source": [
    "Experiment 3: Increase Sidelap Ratio\n",
    "* **Prediction:**  Increasing the `sidelap` ratio will *decrease* `distance_y` and `distance_x` will stay the same.\n",
    "* **Reasoning:**\n",
    "    *   As the `sidelap` ratio increases: $$ (1 - \\text{sidelap})$$ this value decreases. This means the adjacent flight lines need to be closer together (smaller `distance_y`) to achieve the required higher sidelap."
   ]
  },
  {
   "cell_type": "code",
   "execution_count": 56,
   "id": "c8a96721",
   "metadata": {},
   "outputs": [
    {
     "name": "stdout",
     "output_type": "stream",
     "text": [
      "Experiment 3: Increase Sidelap\n",
      "Computed distance (Sidelap=0.9): [15.16791291  3.7935683 ]\n",
      "Original distance: [15.16791291 11.38070491]\n",
      "==============================\n",
      "\n"
     ]
    }
   ],
   "source": [
    "\n",
    "# Experiment 3 - Increase the sidelap ratio\n",
    "print(\"Experiment 3: Increase Sidelap\")\n",
    "camera_3 = copy.copy(camera_x10)\n",
    "dataset_spec_3 = copy.copy(dataset_spec)\n",
    "dataset_spec_3.sidelap = 0.9 # Increase sidelap to 90%\n",
    "computed_distances_3 = compute_distance_between_images(camera_3, dataset_spec_3)\n",
    "print(f\"Computed distance (Sidelap=0.9): {computed_distances_3}\")\n",
    "print(f\"Original distance: {computed_distances}\\n\" + \"=\"*30 + \"\\n\")"
   ]
  },
  {
   "cell_type": "markdown",
   "id": "a75555a3",
   "metadata": {},
   "source": [
    "Experiment 4: Increase Camera Focal Length (fx, fy)\n",
    "* **Prediction:**  Increasing `fx` and `fy` (focal length in pixels) will *decrease* the image footprint. Consequently, both `distance_x` and `distance_y` will *decrease*.\n",
    "* **Reasoning:**\n",
    "    * `distance_x` and `distance_y` are directly proportional to `footprint_x` and `footprint_y`"
   ]
  },
  {
   "cell_type": "code",
   "execution_count": 57,
   "id": "64ada4d3",
   "metadata": {},
   "outputs": [
    {
     "name": "stdout",
     "output_type": "stream",
     "text": [
      "Experiment 4: Increase Focal Length (fx, fy)\n",
      "Computed distance (Focal Length x1.5 & x2): [10.11194194  5.69035246]\n",
      "Original distance: [15.16791291 11.38070491]\n",
      "==============================\n",
      "\n"
     ]
    }
   ],
   "source": [
    "# Experiment 4 - Increase Camera Focal Length\n",
    "print(\"Experiment 4: Increase Focal Length (fx, fy)\")\n",
    "camera_4 = copy.copy(camera_x10)\n",
    "dataset_spec_4 = copy.copy(dataset_spec)\n",
    "camera_4.fx = camera_x10.fx * 1.5 # Increase fx by 50%\n",
    "camera_4.fy = camera_x10.fy * 2 # Increase fy by 100%\n",
    "computed_distances_4 = compute_distance_between_images(camera_4, dataset_spec_4)\n",
    "print(f\"Computed distance (Focal Length x1.5 & x2): {computed_distances_4}\")\n",
    "print(f\"Original distance: {computed_distances}\\n\" + \"=\"*30 + \"\\n\")"
   ]
  },
  {
   "cell_type": "markdown",
   "id": "515878c7",
   "metadata": {},
   "source": [
    "\n",
    "Experiment 5: Increase Image Resolution (image_size_x, image_size_y)\n",
    "* **Prediction:**  Increasing `image_size_x` and `image_size_y` (while keeping `fx`/`fy` and `sensor_size_mm` constant in the `Camera` object) will *decrease* the calculated physical focal length (`focal_length_mm`). This will *increase* the image footprint (`footprint_x`, `footprint_y`). Consequently, both `distance_x` and `distance_y` will *increase*.\n",
    "* **Reasoning:**\n",
    "    * $$ \\text{focal\\_length\\_mm} = \\text{camera.fx} \\times \\frac{\\text{sensor\\_size\\_mm}}{\\text{image\\_size\\_px}} $$\n",
    "        If `image_size_px` increases while `camera.fx` and `sensor_size_mm` remain constant, the calculated `focal_length_mm` *decreases*.\n",
    "    *   $$ \\text{footprint} = \\frac{\\text{sensor\\_size\\_mm} \\times \\text{distance\\_mm}}{\\text{focal\\_length\\_mm}} $$\n",
    "        A smaller `focal_length_mm` in the denominator results in a *larger* calculated footprint.\n",
    "    *  Since `distance_x` and `distance_y` are directly proportional to `footprint_x` and `footprint_y` they will also increase."
   ]
  },
  {
   "cell_type": "code",
   "execution_count": 58,
   "id": "34a57ce4",
   "metadata": {},
   "outputs": [
    {
     "name": "stdout",
     "output_type": "stream",
     "text": [
      "Experiment 5: Increase Image Resolution\n",
      "Computed distance (Resolution x1.5): [22.75186937 17.07105737]\n",
      "Original distance: [15.16791291 11.38070491]\n",
      "==============================\n",
      "\n"
     ]
    }
   ],
   "source": [
    "\n",
    "# Experiment 5 - Increase Sensor Size\n",
    "print(\"Experiment 5: Increase Image Resolution\")\n",
    "camera_5 = copy.copy(camera_x10)\n",
    "dataset_spec_5 = copy.copy(dataset_spec)\n",
    "camera_5.image_size_x = (camera_x10.image_size_x * 1.5) # Increase resolution by 50%\n",
    "camera_5.image_size_y = (camera_x10.image_size_y * 1.5) # Increase resolution by 50%\n",
    "computed_distances_5 = compute_distance_between_images(camera_5, dataset_spec_5)\n",
    "print(f\"Computed distance (Resolution x1.5): {computed_distances_5}\")\n",
    "print(f\"Original distance: {computed_distances}\\n\" + \"=\"*30 + \"\\n\")"
   ]
  },
  {
   "cell_type": "markdown",
   "id": "cea6d39a-89af-42bc-bb63-2d22380dec1f",
   "metadata": {},
   "source": [
    "## Bonus: Non-Nadir photos\n",
    "\n",
    "We have solved for the distance assuming that the camera is facing straight down to the ground. This is called [Nadir scanning](https://support.esri.com/en-us/gis-dictionary/nadir). However, in practise we might want a custom gimbal angle.\n",
    "\n",
    "Your bonus task is to make the distance computation general. Introduce a double `camera_angle` parameter (which is the angle from the X-axis) in the dataset specification, and work out how to adapt your computation. Feel free to reach out to Ayush to discuss ideas and assumptions!\n",
    "\n",
    "![Non Nadir Footprint](assets/non_nadir_gimbal_angle.png)"
   ]
  },
  {
   "cell_type": "markdown",
   "id": "8dfc13a5-d13d-4930-a47b-2851e5458ceb",
   "metadata": {},
   "source": [
    "# Week 5: Compute Maximum Speed For Blur Free Photos\n",
    "\n",
    "To restrict motion blur due to camera movement to tolerable limits, we need to restrict the speed such that the image contents move less than 1px away. \n",
    "\n",
    "How much does 1px of movement translate to movement of the scene on the ground? It is the ground sampling distance!\n",
    "From previous week, we know that this is the maximum movement the camera can have. \n",
    "We have the distance now. To get speed we need to divide it with time. Do we have time already in our data models?\n",
    "\n",
    "$\\color{red}{\\text{TODO: }}$ Implement `compute_speed_during_photo_capture` in `src/plan_computation.py`."
   ]
  },
  {
   "cell_type": "code",
   "execution_count": 59,
   "id": "1292957c-d66f-4ac9-bb6f-1dc783d1a5aa",
   "metadata": {},
   "outputs": [
    {
     "name": "stdout",
     "output_type": "stream",
     "text": [
      "Computed speed during photo captures: 3.09\n"
     ]
    }
   ],
   "source": [
    "computed_speed = compute_speed_during_photo_capture(camera_x10, dataset_spec, allowed_movement_px=1)\n",
    "expected_speed = 3.09\n",
    "\n",
    "print(f\"Computed speed during photo captures: {computed_speed:.2f}\")\n",
    "\n",
    "assert np.allclose(computed_speed, expected_speed, atol=1e-2)"
   ]
  },
  {
   "cell_type": "markdown",
   "id": "b7fe63d9-c416-4bbf-b0ce-8c678de681de",
   "metadata": {},
   "source": [
    "$\\color{red}{\\text{TODO: }}$ define more specifications/camera parameters and check the computed distances. Does that align with your expections\n"
   ]
  },
  {
   "cell_type": "markdown",
   "id": "e9c5566c",
   "metadata": {},
   "source": [
    "### $\\color{Cyan}{\\text{Maximum Speed Experiments}}$\n",
    "\n",
    "#### Experiment 1: Increase Flight Height\n",
    "\n",
    "*   **Parameter Change:** Double the flight `height`\n",
    "*   **Prediction:** Doubling the flight height will *increase* the maximum allowed speed during photo capture.\n",
    "*   **Reasoning:**\n",
    "    *   Ground Sampling Distance increases linearly with height (`distance_from_surface`). A larger GSD means that 1 pixel of allowed movement corresponds to a larger physical distance on the ground.\n",
    "    *   Since the allowed ground distance increases with height the maximum permissible speed increases.\n",
    "*   **Importance in the Field:** This demonstrates the relationship between flight altitude and the speed constraints imposed by motion blur. While flying higher reduces ground resolution (larger GSD), it allows the drone to fly faster *during* image capture for the same pixel blur tolerance."
   ]
  },
  {
   "cell_type": "code",
   "execution_count": 60,
   "id": "85212946-83d0-475c-9740-e04d10a1ec32",
   "metadata": {},
   "outputs": [
    {
     "name": "stdout",
     "output_type": "stream",
     "text": [
      "Experiment 1: Double Height\n",
      "Modified Parameters: height = 60.96m\n",
      "Original speed: 3.09 m/s\n",
      "Computed speed (Height x2): 6.17 m/s\n"
     ]
    }
   ],
   "source": [
    "# Experiment 1 - Double the flight height\n",
    "print(\"Experiment 1: Double Height\")\n",
    "camera_1 = copy.copy(camera_x10)\n",
    "dataset_spec_1 = copy.copy(dataset_spec)\n",
    "original_height = dataset_spec_1.height\n",
    "dataset_spec_1.height = original_height * 2 # Double the height\n",
    "print(f\"Modified Parameters: height = {dataset_spec_1.height:.2f}m\")\n",
    "computed_speed_1 = compute_speed_during_photo_capture(camera_1, dataset_spec_1)\n",
    "print(f\"Original speed: {computed_speed:.2f} m/s\")\n",
    "print(f\"Computed speed (Height x2): {computed_speed_1:.2f} m/s\")"
   ]
  },
  {
   "cell_type": "markdown",
   "id": "4dae959b",
   "metadata": {},
   "source": [
    "#### Experiment 2: Increase Exposure Time\n",
    "\n",
    "*   **Parameter Change:** Increase the `exposure_time_ms`\n",
    "*   **Prediction:** Increasing the exposure time will *decrease* the maximum allowed speed during photo capture.\n",
    "*   **Reasoning:**\n",
    "    *   As the `exposure_time_seconds` increases, the maximum permissible speed must decrease to ensure the drone doesn't cover more than the maximum allowed ground distance *while the shutter is open*.\n",
    "*   **Importance in the Field:** This is critical for adapting flights to changing environmental conditions. In lower light, longer exposures are necessary, which directly forces a reduction in the drone's speed during capture to prevent motion blur."
   ]
  },
  {
   "cell_type": "code",
   "execution_count": 61,
   "id": "7fda68bd",
   "metadata": {},
   "outputs": [
    {
     "name": "stdout",
     "output_type": "stream",
     "text": [
      "Experiment 2: Increase Exposure Time\n",
      "New speed (Exposure = 4ms): 1.54 m/s\n",
      "Original speed (Exposure = 2ms): 3.09 m/s\n"
     ]
    }
   ],
   "source": [
    "print(\"Experiment 2: Increase Exposure Time\")\n",
    "camera_2 = copy.copy(camera_x10)\n",
    "dataset_spec_2 = copy.copy(dataset_spec)\n",
    "dataset_spec_2.exposure_time_ms = 4\n",
    "computed_speed_2 = compute_speed_during_photo_capture(camera_2, dataset_spec_2)\n",
    "print(f\"New speed (Exposure = {dataset_spec_2.exposure_time_ms}ms): {computed_speed_2:.2f} m/s\")\n",
    "print(f\"Original speed (Exposure = {exposure_time_ms}ms): {computed_speed:.2f} m/s\")\n"
   ]
  },
  {
   "cell_type": "markdown",
   "id": "26d7075d-f520-43bd-8b8b-b36e9c6a6bc2",
   "metadata": {},
   "source": [
    "# Week 6: Generate Full Flight Plans  \n",
    "\n",
    "We now have all the tools to generate the full flight plan.\n",
    "\n",
    "Steps for this week:\n",
    "1. Define the `Waypoint` data model. What attributes should the data model have?\n",
    "   1. For Nadir scans, just the position of the camera is enough as we will always look drown to the ground.\n",
    "   2. For general case (bonus), we also need to define where the drone will look at.\n",
    "3. Implement the function `generate_photo_plan_on_grid` to generate the full plan.\n",
    "   1. Compute the maximum distance between two images, horizontally and vertically.\n",
    "   2. Layer the images such that we cover the whole scan area. Note that you need to take care when the scan dimension is not a multiple of distance between images. Example: to cover 45m length with 10m between images, we would need 4.5 images. Not possible. 4 images would not satisfy the overlap, so we should go with 5. How should we arrange 5 images in the given 45m.\n",
    "   3. Assign the speed to each waypoint.\n",
    "\n",
    "$\\color{red}{\\text{TODO: }}$ Implement:\n",
    "- `Waypoint` in `src/data_model.py`\n",
    "- `generate_photo_plan_on_grid` in `src/plan_computation.py`."
   ]
  },
  {
   "cell_type": "code",
   "execution_count": 62,
   "id": "7f1e5c3e-9974-4f50-9413-1b9c5b523051",
   "metadata": {},
   "outputs": [
    {
     "name": "stdout",
     "output_type": "stream",
     "text": [
      "Computed plan with 165 waypoints\n"
     ]
    }
   ],
   "source": [
    "computed_plan = generate_photo_plan_on_grid(camera_x10, dataset_spec) \n",
    "\n",
    "print(f\"Computed plan with {len(computed_plan)} waypoints\")"
   ]
  },
  {
   "cell_type": "code",
   "execution_count": 63,
   "id": "71f3bf15-c584-44da-a789-c821acb3f9a6",
   "metadata": {},
   "outputs": [
    {
     "name": "stdout",
     "output_type": "stream",
     "text": [
      "Idx 0: Waypoint(x=0.0, y=0.0, z=30.48, speed=3.0872137895549265)\n",
      "Idx 1: Waypoint(x=15.0, y=0.0, z=30.48, speed=3.0872137895549265)\n",
      "Idx 2: Waypoint(x=30.0, y=0.0, z=30.48, speed=3.0872137895549265)\n",
      "Idx 3: Waypoint(x=45.0, y=0.0, z=30.48, speed=3.0872137895549265)\n",
      "Idx 4: Waypoint(x=60.0, y=0.0, z=30.48, speed=3.0872137895549265)\n",
      "Idx 5: Waypoint(x=75.0, y=0.0, z=30.48, speed=3.0872137895549265)\n",
      "Idx 6: Waypoint(x=90.0, y=0.0, z=30.48, speed=3.0872137895549265)\n",
      "Idx 7: Waypoint(x=105.0, y=0.0, z=30.48, speed=3.0872137895549265)\n",
      "Idx 8: Waypoint(x=120.0, y=0.0, z=30.48, speed=3.0872137895549265)\n",
      "Idx 9: Waypoint(x=135.0, y=0.0, z=30.48, speed=3.0872137895549265)\n",
      "Idx 10: Waypoint(x=150.0, y=0.0, z=30.48, speed=3.0872137895549265)\n",
      "Idx 11: Waypoint(x=150.0, y=10.714285714285714, z=30.48, speed=3.0872137895549265)\n",
      "Idx 12: Waypoint(x=135.0, y=10.714285714285714, z=30.48, speed=3.0872137895549265)\n",
      "Idx 13: Waypoint(x=120.0, y=10.714285714285714, z=30.48, speed=3.0872137895549265)\n",
      "Idx 14: Waypoint(x=105.0, y=10.714285714285714, z=30.48, speed=3.0872137895549265)\n",
      "Idx 15: Waypoint(x=90.0, y=10.714285714285714, z=30.48, speed=3.0872137895549265)\n",
      "Idx 16: Waypoint(x=75.0, y=10.714285714285714, z=30.48, speed=3.0872137895549265)\n",
      "Idx 17: Waypoint(x=60.0, y=10.714285714285714, z=30.48, speed=3.0872137895549265)\n",
      "Idx 18: Waypoint(x=45.0, y=10.714285714285714, z=30.48, speed=3.0872137895549265)\n",
      "Idx 19: Waypoint(x=30.0, y=10.714285714285714, z=30.48, speed=3.0872137895549265)\n",
      "...\n"
     ]
    }
   ],
   "source": [
    "MAX_NUM_WAYPOINTS_TO_PRINT = 20\n",
    "\n",
    "for idx, waypoint in enumerate(computed_plan[:20]):\n",
    "    print(f\"Idx {idx}: {waypoint}\")\n",
    "if len(computed_plan) >= MAX_NUM_WAYPOINTS_TO_PRINT:\n",
    "    print(\"...\")"
   ]
  },
  {
   "cell_type": "markdown",
   "id": "5544587f-fff7-406a-be65-ad99c7217e51",
   "metadata": {},
   "source": [
    "## Bonus: Time computation \n",
    "\n",
    "if you have some time, you can implement a time computation function. We can make the drone fly as fast as possible between photos, but make sure it can decelerate back to the required speed at the photos. Please use the following data: \n",
    "- Max drone speed: 16m/s.\n",
    "- Max acceleration: 3.5 m/s^2.\n",
    "\n",
    "Hint: you might need to use a trapezoidal speed profile"
   ]
  },
  {
   "cell_type": "markdown",
   "id": "1a326c0e-86ff-443d-98ee-7a4fae0bfe81",
   "metadata": {},
   "source": [
    "# Week 7: Visualize Flight Plans\n",
    "\n",
    "This week, we will use a third party plotting framework called [Plotly](https://plotly.com/python/) to visualize our plans. Please follow this [tutorial](https://www.kaggle.com/code/kanncaa1/plotly-tutorial-for-beginners) to gain some basic experience with Plotly, and then come up with your own visualization function. You are free to choose to come up with your own visualization, and use something other than Plotly.\n",
    "\n",
    "$\\color{red}{\\text{TODO: }}$ Implement `plot_photo_plan` in `src/visualization.py`"
   ]
  },
  {
   "cell_type": "code",
   "execution_count": 64,
   "id": "3996504a-28fc-48f1-8094-94d9a6bd58f9",
   "metadata": {},
   "outputs": [
    {
     "name": "stdout",
     "output_type": "stream",
     "text": [
      "Generated 165 waypoints.\n"
     ]
    },
    {
     "data": {
      "application/vnd.plotly.v1+json": {
       "config": {
        "plotlyServerURL": "https://plot.ly"
       },
       "data": [
        {
         "line": {
          "color": "LightSkyBlue",
          "width": 2
         },
         "marker": {
          "angleref": "previous",
          "color": "MediumPurple",
          "size": 10,
          "symbol": "arrow"
         },
         "mode": "lines+markers",
         "name": "Flight Path",
         "type": "scatter",
         "x": [
          0,
          15,
          30,
          45,
          60,
          75,
          90,
          105,
          120,
          135,
          150,
          150,
          135,
          120,
          105,
          90,
          75,
          60,
          45,
          30,
          15,
          0,
          0,
          15,
          30,
          45,
          60,
          75,
          90,
          105,
          120,
          135,
          150,
          150,
          135,
          120,
          105,
          90,
          75,
          60,
          45,
          30,
          15,
          0,
          0,
          15,
          30,
          45,
          60,
          75,
          90,
          105,
          120,
          135,
          150,
          150,
          135,
          120,
          105,
          90,
          75,
          60,
          45,
          30,
          15,
          0,
          0,
          15,
          30,
          45,
          60,
          75,
          90,
          105,
          120,
          135,
          150,
          150,
          135,
          120,
          105,
          90,
          75,
          60,
          45,
          30,
          15,
          0,
          0,
          15,
          30,
          45,
          60,
          75,
          90,
          105,
          120,
          135,
          150,
          150,
          135,
          120,
          105,
          90,
          75,
          60,
          45,
          30,
          15,
          0,
          0,
          15,
          30,
          45,
          60,
          75,
          90,
          105,
          120,
          135,
          150,
          150,
          135,
          120,
          105,
          90,
          75,
          60,
          45,
          30,
          15,
          0,
          0,
          15,
          30,
          45,
          60,
          75,
          90,
          105,
          120,
          135,
          150,
          150,
          135,
          120,
          105,
          90,
          75,
          60,
          45,
          30,
          15,
          0,
          0,
          15,
          30,
          45,
          60,
          75,
          90,
          105,
          120,
          135,
          150
         ],
         "y": [
          0,
          0,
          0,
          0,
          0,
          0,
          0,
          0,
          0,
          0,
          0,
          10.714285714285714,
          10.714285714285714,
          10.714285714285714,
          10.714285714285714,
          10.714285714285714,
          10.714285714285714,
          10.714285714285714,
          10.714285714285714,
          10.714285714285714,
          10.714285714285714,
          10.714285714285714,
          21.428571428571427,
          21.428571428571427,
          21.428571428571427,
          21.428571428571427,
          21.428571428571427,
          21.428571428571427,
          21.428571428571427,
          21.428571428571427,
          21.428571428571427,
          21.428571428571427,
          21.428571428571427,
          32.14285714285714,
          32.14285714285714,
          32.14285714285714,
          32.14285714285714,
          32.14285714285714,
          32.14285714285714,
          32.14285714285714,
          32.14285714285714,
          32.14285714285714,
          32.14285714285714,
          32.14285714285714,
          42.857142857142854,
          42.857142857142854,
          42.857142857142854,
          42.857142857142854,
          42.857142857142854,
          42.857142857142854,
          42.857142857142854,
          42.857142857142854,
          42.857142857142854,
          42.857142857142854,
          42.857142857142854,
          53.57142857142857,
          53.57142857142857,
          53.57142857142857,
          53.57142857142857,
          53.57142857142857,
          53.57142857142857,
          53.57142857142857,
          53.57142857142857,
          53.57142857142857,
          53.57142857142857,
          53.57142857142857,
          64.28571428571428,
          64.28571428571428,
          64.28571428571428,
          64.28571428571428,
          64.28571428571428,
          64.28571428571428,
          64.28571428571428,
          64.28571428571428,
          64.28571428571428,
          64.28571428571428,
          64.28571428571428,
          75,
          75,
          75,
          75,
          75,
          75,
          75,
          75,
          75,
          75,
          75,
          85.71428571428571,
          85.71428571428571,
          85.71428571428571,
          85.71428571428571,
          85.71428571428571,
          85.71428571428571,
          85.71428571428571,
          85.71428571428571,
          85.71428571428571,
          85.71428571428571,
          85.71428571428571,
          96.42857142857142,
          96.42857142857142,
          96.42857142857142,
          96.42857142857142,
          96.42857142857142,
          96.42857142857142,
          96.42857142857142,
          96.42857142857142,
          96.42857142857142,
          96.42857142857142,
          96.42857142857142,
          107.14285714285714,
          107.14285714285714,
          107.14285714285714,
          107.14285714285714,
          107.14285714285714,
          107.14285714285714,
          107.14285714285714,
          107.14285714285714,
          107.14285714285714,
          107.14285714285714,
          107.14285714285714,
          117.85714285714285,
          117.85714285714285,
          117.85714285714285,
          117.85714285714285,
          117.85714285714285,
          117.85714285714285,
          117.85714285714285,
          117.85714285714285,
          117.85714285714285,
          117.85714285714285,
          117.85714285714285,
          128.57142857142856,
          128.57142857142856,
          128.57142857142856,
          128.57142857142856,
          128.57142857142856,
          128.57142857142856,
          128.57142857142856,
          128.57142857142856,
          128.57142857142856,
          128.57142857142856,
          128.57142857142856,
          139.28571428571428,
          139.28571428571428,
          139.28571428571428,
          139.28571428571428,
          139.28571428571428,
          139.28571428571428,
          139.28571428571428,
          139.28571428571428,
          139.28571428571428,
          139.28571428571428,
          139.28571428571428,
          150,
          150,
          150,
          150,
          150,
          150,
          150,
          150,
          150,
          150,
          150
         ]
        }
       ],
       "layout": {
        "hovermode": "closest",
        "template": {
         "data": {
          "bar": [
           {
            "error_x": {
             "color": "#2a3f5f"
            },
            "error_y": {
             "color": "#2a3f5f"
            },
            "marker": {
             "line": {
              "color": "#E5ECF6",
              "width": 0.5
             },
             "pattern": {
              "fillmode": "overlay",
              "size": 10,
              "solidity": 0.2
             }
            },
            "type": "bar"
           }
          ],
          "barpolar": [
           {
            "marker": {
             "line": {
              "color": "#E5ECF6",
              "width": 0.5
             },
             "pattern": {
              "fillmode": "overlay",
              "size": 10,
              "solidity": 0.2
             }
            },
            "type": "barpolar"
           }
          ],
          "carpet": [
           {
            "aaxis": {
             "endlinecolor": "#2a3f5f",
             "gridcolor": "white",
             "linecolor": "white",
             "minorgridcolor": "white",
             "startlinecolor": "#2a3f5f"
            },
            "baxis": {
             "endlinecolor": "#2a3f5f",
             "gridcolor": "white",
             "linecolor": "white",
             "minorgridcolor": "white",
             "startlinecolor": "#2a3f5f"
            },
            "type": "carpet"
           }
          ],
          "choropleth": [
           {
            "colorbar": {
             "outlinewidth": 0,
             "ticks": ""
            },
            "type": "choropleth"
           }
          ],
          "contour": [
           {
            "colorbar": {
             "outlinewidth": 0,
             "ticks": ""
            },
            "colorscale": [
             [
              0,
              "#0d0887"
             ],
             [
              0.1111111111111111,
              "#46039f"
             ],
             [
              0.2222222222222222,
              "#7201a8"
             ],
             [
              0.3333333333333333,
              "#9c179e"
             ],
             [
              0.4444444444444444,
              "#bd3786"
             ],
             [
              0.5555555555555556,
              "#d8576b"
             ],
             [
              0.6666666666666666,
              "#ed7953"
             ],
             [
              0.7777777777777778,
              "#fb9f3a"
             ],
             [
              0.8888888888888888,
              "#fdca26"
             ],
             [
              1,
              "#f0f921"
             ]
            ],
            "type": "contour"
           }
          ],
          "contourcarpet": [
           {
            "colorbar": {
             "outlinewidth": 0,
             "ticks": ""
            },
            "type": "contourcarpet"
           }
          ],
          "heatmap": [
           {
            "colorbar": {
             "outlinewidth": 0,
             "ticks": ""
            },
            "colorscale": [
             [
              0,
              "#0d0887"
             ],
             [
              0.1111111111111111,
              "#46039f"
             ],
             [
              0.2222222222222222,
              "#7201a8"
             ],
             [
              0.3333333333333333,
              "#9c179e"
             ],
             [
              0.4444444444444444,
              "#bd3786"
             ],
             [
              0.5555555555555556,
              "#d8576b"
             ],
             [
              0.6666666666666666,
              "#ed7953"
             ],
             [
              0.7777777777777778,
              "#fb9f3a"
             ],
             [
              0.8888888888888888,
              "#fdca26"
             ],
             [
              1,
              "#f0f921"
             ]
            ],
            "type": "heatmap"
           }
          ],
          "heatmapgl": [
           {
            "colorbar": {
             "outlinewidth": 0,
             "ticks": ""
            },
            "colorscale": [
             [
              0,
              "#0d0887"
             ],
             [
              0.1111111111111111,
              "#46039f"
             ],
             [
              0.2222222222222222,
              "#7201a8"
             ],
             [
              0.3333333333333333,
              "#9c179e"
             ],
             [
              0.4444444444444444,
              "#bd3786"
             ],
             [
              0.5555555555555556,
              "#d8576b"
             ],
             [
              0.6666666666666666,
              "#ed7953"
             ],
             [
              0.7777777777777778,
              "#fb9f3a"
             ],
             [
              0.8888888888888888,
              "#fdca26"
             ],
             [
              1,
              "#f0f921"
             ]
            ],
            "type": "heatmapgl"
           }
          ],
          "histogram": [
           {
            "marker": {
             "pattern": {
              "fillmode": "overlay",
              "size": 10,
              "solidity": 0.2
             }
            },
            "type": "histogram"
           }
          ],
          "histogram2d": [
           {
            "colorbar": {
             "outlinewidth": 0,
             "ticks": ""
            },
            "colorscale": [
             [
              0,
              "#0d0887"
             ],
             [
              0.1111111111111111,
              "#46039f"
             ],
             [
              0.2222222222222222,
              "#7201a8"
             ],
             [
              0.3333333333333333,
              "#9c179e"
             ],
             [
              0.4444444444444444,
              "#bd3786"
             ],
             [
              0.5555555555555556,
              "#d8576b"
             ],
             [
              0.6666666666666666,
              "#ed7953"
             ],
             [
              0.7777777777777778,
              "#fb9f3a"
             ],
             [
              0.8888888888888888,
              "#fdca26"
             ],
             [
              1,
              "#f0f921"
             ]
            ],
            "type": "histogram2d"
           }
          ],
          "histogram2dcontour": [
           {
            "colorbar": {
             "outlinewidth": 0,
             "ticks": ""
            },
            "colorscale": [
             [
              0,
              "#0d0887"
             ],
             [
              0.1111111111111111,
              "#46039f"
             ],
             [
              0.2222222222222222,
              "#7201a8"
             ],
             [
              0.3333333333333333,
              "#9c179e"
             ],
             [
              0.4444444444444444,
              "#bd3786"
             ],
             [
              0.5555555555555556,
              "#d8576b"
             ],
             [
              0.6666666666666666,
              "#ed7953"
             ],
             [
              0.7777777777777778,
              "#fb9f3a"
             ],
             [
              0.8888888888888888,
              "#fdca26"
             ],
             [
              1,
              "#f0f921"
             ]
            ],
            "type": "histogram2dcontour"
           }
          ],
          "mesh3d": [
           {
            "colorbar": {
             "outlinewidth": 0,
             "ticks": ""
            },
            "type": "mesh3d"
           }
          ],
          "parcoords": [
           {
            "line": {
             "colorbar": {
              "outlinewidth": 0,
              "ticks": ""
             }
            },
            "type": "parcoords"
           }
          ],
          "pie": [
           {
            "automargin": true,
            "type": "pie"
           }
          ],
          "scatter": [
           {
            "fillpattern": {
             "fillmode": "overlay",
             "size": 10,
             "solidity": 0.2
            },
            "type": "scatter"
           }
          ],
          "scatter3d": [
           {
            "line": {
             "colorbar": {
              "outlinewidth": 0,
              "ticks": ""
             }
            },
            "marker": {
             "colorbar": {
              "outlinewidth": 0,
              "ticks": ""
             }
            },
            "type": "scatter3d"
           }
          ],
          "scattercarpet": [
           {
            "marker": {
             "colorbar": {
              "outlinewidth": 0,
              "ticks": ""
             }
            },
            "type": "scattercarpet"
           }
          ],
          "scattergeo": [
           {
            "marker": {
             "colorbar": {
              "outlinewidth": 0,
              "ticks": ""
             }
            },
            "type": "scattergeo"
           }
          ],
          "scattergl": [
           {
            "marker": {
             "colorbar": {
              "outlinewidth": 0,
              "ticks": ""
             }
            },
            "type": "scattergl"
           }
          ],
          "scattermapbox": [
           {
            "marker": {
             "colorbar": {
              "outlinewidth": 0,
              "ticks": ""
             }
            },
            "type": "scattermapbox"
           }
          ],
          "scatterpolar": [
           {
            "marker": {
             "colorbar": {
              "outlinewidth": 0,
              "ticks": ""
             }
            },
            "type": "scatterpolar"
           }
          ],
          "scatterpolargl": [
           {
            "marker": {
             "colorbar": {
              "outlinewidth": 0,
              "ticks": ""
             }
            },
            "type": "scatterpolargl"
           }
          ],
          "scatterternary": [
           {
            "marker": {
             "colorbar": {
              "outlinewidth": 0,
              "ticks": ""
             }
            },
            "type": "scatterternary"
           }
          ],
          "surface": [
           {
            "colorbar": {
             "outlinewidth": 0,
             "ticks": ""
            },
            "colorscale": [
             [
              0,
              "#0d0887"
             ],
             [
              0.1111111111111111,
              "#46039f"
             ],
             [
              0.2222222222222222,
              "#7201a8"
             ],
             [
              0.3333333333333333,
              "#9c179e"
             ],
             [
              0.4444444444444444,
              "#bd3786"
             ],
             [
              0.5555555555555556,
              "#d8576b"
             ],
             [
              0.6666666666666666,
              "#ed7953"
             ],
             [
              0.7777777777777778,
              "#fb9f3a"
             ],
             [
              0.8888888888888888,
              "#fdca26"
             ],
             [
              1,
              "#f0f921"
             ]
            ],
            "type": "surface"
           }
          ],
          "table": [
           {
            "cells": {
             "fill": {
              "color": "#EBF0F8"
             },
             "line": {
              "color": "white"
             }
            },
            "header": {
             "fill": {
              "color": "#C8D4E3"
             },
             "line": {
              "color": "white"
             }
            },
            "type": "table"
           }
          ]
         },
         "layout": {
          "annotationdefaults": {
           "arrowcolor": "#2a3f5f",
           "arrowhead": 0,
           "arrowwidth": 1
          },
          "autotypenumbers": "strict",
          "coloraxis": {
           "colorbar": {
            "outlinewidth": 0,
            "ticks": ""
           }
          },
          "colorscale": {
           "diverging": [
            [
             0,
             "#8e0152"
            ],
            [
             0.1,
             "#c51b7d"
            ],
            [
             0.2,
             "#de77ae"
            ],
            [
             0.3,
             "#f1b6da"
            ],
            [
             0.4,
             "#fde0ef"
            ],
            [
             0.5,
             "#f7f7f7"
            ],
            [
             0.6,
             "#e6f5d0"
            ],
            [
             0.7,
             "#b8e186"
            ],
            [
             0.8,
             "#7fbc41"
            ],
            [
             0.9,
             "#4d9221"
            ],
            [
             1,
             "#276419"
            ]
           ],
           "sequential": [
            [
             0,
             "#0d0887"
            ],
            [
             0.1111111111111111,
             "#46039f"
            ],
            [
             0.2222222222222222,
             "#7201a8"
            ],
            [
             0.3333333333333333,
             "#9c179e"
            ],
            [
             0.4444444444444444,
             "#bd3786"
            ],
            [
             0.5555555555555556,
             "#d8576b"
            ],
            [
             0.6666666666666666,
             "#ed7953"
            ],
            [
             0.7777777777777778,
             "#fb9f3a"
            ],
            [
             0.8888888888888888,
             "#fdca26"
            ],
            [
             1,
             "#f0f921"
            ]
           ],
           "sequentialminus": [
            [
             0,
             "#0d0887"
            ],
            [
             0.1111111111111111,
             "#46039f"
            ],
            [
             0.2222222222222222,
             "#7201a8"
            ],
            [
             0.3333333333333333,
             "#9c179e"
            ],
            [
             0.4444444444444444,
             "#bd3786"
            ],
            [
             0.5555555555555556,
             "#d8576b"
            ],
            [
             0.6666666666666666,
             "#ed7953"
            ],
            [
             0.7777777777777778,
             "#fb9f3a"
            ],
            [
             0.8888888888888888,
             "#fdca26"
            ],
            [
             1,
             "#f0f921"
            ]
           ]
          },
          "colorway": [
           "#636efa",
           "#EF553B",
           "#00cc96",
           "#ab63fa",
           "#FFA15A",
           "#19d3f3",
           "#FF6692",
           "#B6E880",
           "#FF97FF",
           "#FECB52"
          ],
          "font": {
           "color": "#2a3f5f"
          },
          "geo": {
           "bgcolor": "white",
           "lakecolor": "white",
           "landcolor": "#E5ECF6",
           "showlakes": true,
           "showland": true,
           "subunitcolor": "white"
          },
          "hoverlabel": {
           "align": "left"
          },
          "hovermode": "closest",
          "mapbox": {
           "style": "light"
          },
          "paper_bgcolor": "white",
          "plot_bgcolor": "#E5ECF6",
          "polar": {
           "angularaxis": {
            "gridcolor": "white",
            "linecolor": "white",
            "ticks": ""
           },
           "bgcolor": "#E5ECF6",
           "radialaxis": {
            "gridcolor": "white",
            "linecolor": "white",
            "ticks": ""
           }
          },
          "scene": {
           "xaxis": {
            "backgroundcolor": "#E5ECF6",
            "gridcolor": "white",
            "gridwidth": 2,
            "linecolor": "white",
            "showbackground": true,
            "ticks": "",
            "zerolinecolor": "white"
           },
           "yaxis": {
            "backgroundcolor": "#E5ECF6",
            "gridcolor": "white",
            "gridwidth": 2,
            "linecolor": "white",
            "showbackground": true,
            "ticks": "",
            "zerolinecolor": "white"
           },
           "zaxis": {
            "backgroundcolor": "#E5ECF6",
            "gridcolor": "white",
            "gridwidth": 2,
            "linecolor": "white",
            "showbackground": true,
            "ticks": "",
            "zerolinecolor": "white"
           }
          },
          "shapedefaults": {
           "line": {
            "color": "#2a3f5f"
           }
          },
          "ternary": {
           "aaxis": {
            "gridcolor": "white",
            "linecolor": "white",
            "ticks": ""
           },
           "baxis": {
            "gridcolor": "white",
            "linecolor": "white",
            "ticks": ""
           },
           "bgcolor": "#E5ECF6",
           "caxis": {
            "gridcolor": "white",
            "linecolor": "white",
            "ticks": ""
           }
          },
          "title": {
           "x": 0.05
          },
          "xaxis": {
           "automargin": true,
           "gridcolor": "white",
           "linecolor": "white",
           "ticks": "",
           "title": {
            "standoff": 15
           },
           "zerolinecolor": "white",
           "zerolinewidth": 2
          },
          "yaxis": {
           "automargin": true,
           "gridcolor": "white",
           "linecolor": "white",
           "ticks": "",
           "title": {
            "standoff": 15
           },
           "zerolinecolor": "white",
           "zerolinewidth": 2
          }
         }
        },
        "title": {
         "text": "Drone Flight Plan<br><sup>Height (Z): 30.48m | Capture Speed: 3.09 m/s</sup>"
        },
        "xaxis": {
         "title": {
          "text": "X-coordinate (m)"
         }
        },
        "yaxis": {
         "scaleanchor": "x",
         "scaleratio": 1,
         "title": {
          "text": "Y-coordinate (m)"
         }
        }
       }
      }
     },
     "metadata": {},
     "output_type": "display_data"
    }
   ],
   "source": [
    "fig = plot_photo_plan(computed_plan)\n",
    "print(f\"Generated {len(plan_abl4)} waypoints.\")\n",
    "fig.show()"
   ]
  },
  {
   "cell_type": "markdown",
   "id": "74ff5833-f107-4332-974c-b9294e02a1da",
   "metadata": {},
   "source": [
    "$\\color{red}{\\text{TODO: }}$ Compute the following ablations (and any other you can think of). \n",
    "You need to describe the input params you are changing, what impact you can observe, explanation behind the change in output, and practical implication of the correlation.\n",
    "\n",
    "1. Change overlap and confirm it affects the consecutive images\n",
    "2. Change sidelap and confirm it does not affect the consecutive images\n",
    "3. Change the height of the scan and document the affect on scan plans\n",
    "4. Change exposure time"
   ]
  },
  {
   "cell_type": "markdown",
   "id": "1ecf4e95",
   "metadata": {},
   "source": [
    "### <font color='dodgerblue'>Ablation 1: Increase Overlap</font>\n",
    "\n",
    "*   **Change:** Increase `dataset_spec.overlap` from the baseline (0.7) to 0.9.\n",
    "*   **Observation:** The waypoints along each horizontal flight line are now much closer together, increasing the total number of waypoints significantly. The vertical spacing between flight lines remains unchanged.\n",
    "*   **Reasoning:** Requiring more overlap between consecutive photos means the drone must travel a shorter distance forward before taking the next picture. Since the sidelap requirement didn't change, the distance between flight lines is unaffected.\n",
    "*   **Implication:** Higher overlap improves 3D reconstruction quality but increases the number of photos, flight time, and data processing needed.\n"
   ]
  },
  {
   "cell_type": "code",
   "execution_count": 65,
   "id": "7dbe090a-b696-4800-8373-6f4b3be02a87",
   "metadata": {},
   "outputs": [
    {
     "name": "stdout",
     "output_type": "stream",
     "text": [
      "\n",
      "Ablation 1: Increase Overlap to 0.9\n",
      "Generated 465 waypoints.\n"
     ]
    },
    {
     "data": {
      "application/vnd.plotly.v1+json": {
       "config": {
        "plotlyServerURL": "https://plot.ly"
       },
       "data": [
        {
         "line": {
          "color": "LightSkyBlue",
          "width": 2
         },
         "marker": {
          "angleref": "previous",
          "color": "MediumPurple",
          "size": 10,
          "symbol": "arrow"
         },
         "mode": "lines+markers",
         "name": "Flight Path",
         "type": "scatter",
         "x": [
          0,
          5,
          10,
          15,
          20,
          25,
          30,
          35,
          40,
          45,
          50,
          55,
          60,
          65,
          70,
          75,
          80,
          85,
          90,
          95,
          100,
          105,
          110,
          115,
          120,
          125,
          130,
          135,
          140,
          145,
          150,
          150,
          145,
          140,
          135,
          130,
          125,
          120,
          115,
          110,
          105,
          100,
          95,
          90,
          85,
          80,
          75,
          70,
          65,
          60,
          55,
          50,
          45,
          40,
          35,
          30,
          25,
          20,
          15,
          10,
          5,
          0,
          0,
          5,
          10,
          15,
          20,
          25,
          30,
          35,
          40,
          45,
          50,
          55,
          60,
          65,
          70,
          75,
          80,
          85,
          90,
          95,
          100,
          105,
          110,
          115,
          120,
          125,
          130,
          135,
          140,
          145,
          150,
          150,
          145,
          140,
          135,
          130,
          125,
          120,
          115,
          110,
          105,
          100,
          95,
          90,
          85,
          80,
          75,
          70,
          65,
          60,
          55,
          50,
          45,
          40,
          35,
          30,
          25,
          20,
          15,
          10,
          5,
          0,
          0,
          5,
          10,
          15,
          20,
          25,
          30,
          35,
          40,
          45,
          50,
          55,
          60,
          65,
          70,
          75,
          80,
          85,
          90,
          95,
          100,
          105,
          110,
          115,
          120,
          125,
          130,
          135,
          140,
          145,
          150,
          150,
          145,
          140,
          135,
          130,
          125,
          120,
          115,
          110,
          105,
          100,
          95,
          90,
          85,
          80,
          75,
          70,
          65,
          60,
          55,
          50,
          45,
          40,
          35,
          30,
          25,
          20,
          15,
          10,
          5,
          0,
          0,
          5,
          10,
          15,
          20,
          25,
          30,
          35,
          40,
          45,
          50,
          55,
          60,
          65,
          70,
          75,
          80,
          85,
          90,
          95,
          100,
          105,
          110,
          115,
          120,
          125,
          130,
          135,
          140,
          145,
          150,
          150,
          145,
          140,
          135,
          130,
          125,
          120,
          115,
          110,
          105,
          100,
          95,
          90,
          85,
          80,
          75,
          70,
          65,
          60,
          55,
          50,
          45,
          40,
          35,
          30,
          25,
          20,
          15,
          10,
          5,
          0,
          0,
          5,
          10,
          15,
          20,
          25,
          30,
          35,
          40,
          45,
          50,
          55,
          60,
          65,
          70,
          75,
          80,
          85,
          90,
          95,
          100,
          105,
          110,
          115,
          120,
          125,
          130,
          135,
          140,
          145,
          150,
          150,
          145,
          140,
          135,
          130,
          125,
          120,
          115,
          110,
          105,
          100,
          95,
          90,
          85,
          80,
          75,
          70,
          65,
          60,
          55,
          50,
          45,
          40,
          35,
          30,
          25,
          20,
          15,
          10,
          5,
          0,
          0,
          5,
          10,
          15,
          20,
          25,
          30,
          35,
          40,
          45,
          50,
          55,
          60,
          65,
          70,
          75,
          80,
          85,
          90,
          95,
          100,
          105,
          110,
          115,
          120,
          125,
          130,
          135,
          140,
          145,
          150,
          150,
          145,
          140,
          135,
          130,
          125,
          120,
          115,
          110,
          105,
          100,
          95,
          90,
          85,
          80,
          75,
          70,
          65,
          60,
          55,
          50,
          45,
          40,
          35,
          30,
          25,
          20,
          15,
          10,
          5,
          0,
          0,
          5,
          10,
          15,
          20,
          25,
          30,
          35,
          40,
          45,
          50,
          55,
          60,
          65,
          70,
          75,
          80,
          85,
          90,
          95,
          100,
          105,
          110,
          115,
          120,
          125,
          130,
          135,
          140,
          145,
          150,
          150,
          145,
          140,
          135,
          130,
          125,
          120,
          115,
          110,
          105,
          100,
          95,
          90,
          85,
          80,
          75,
          70,
          65,
          60,
          55,
          50,
          45,
          40,
          35,
          30,
          25,
          20,
          15,
          10,
          5,
          0,
          0,
          5,
          10,
          15,
          20,
          25,
          30,
          35,
          40,
          45,
          50,
          55,
          60,
          65,
          70,
          75,
          80,
          85,
          90,
          95,
          100,
          105,
          110,
          115,
          120,
          125,
          130,
          135,
          140,
          145,
          150
         ],
         "y": [
          0,
          0,
          0,
          0,
          0,
          0,
          0,
          0,
          0,
          0,
          0,
          0,
          0,
          0,
          0,
          0,
          0,
          0,
          0,
          0,
          0,
          0,
          0,
          0,
          0,
          0,
          0,
          0,
          0,
          0,
          0,
          10.714285714285714,
          10.714285714285714,
          10.714285714285714,
          10.714285714285714,
          10.714285714285714,
          10.714285714285714,
          10.714285714285714,
          10.714285714285714,
          10.714285714285714,
          10.714285714285714,
          10.714285714285714,
          10.714285714285714,
          10.714285714285714,
          10.714285714285714,
          10.714285714285714,
          10.714285714285714,
          10.714285714285714,
          10.714285714285714,
          10.714285714285714,
          10.714285714285714,
          10.714285714285714,
          10.714285714285714,
          10.714285714285714,
          10.714285714285714,
          10.714285714285714,
          10.714285714285714,
          10.714285714285714,
          10.714285714285714,
          10.714285714285714,
          10.714285714285714,
          10.714285714285714,
          21.428571428571427,
          21.428571428571427,
          21.428571428571427,
          21.428571428571427,
          21.428571428571427,
          21.428571428571427,
          21.428571428571427,
          21.428571428571427,
          21.428571428571427,
          21.428571428571427,
          21.428571428571427,
          21.428571428571427,
          21.428571428571427,
          21.428571428571427,
          21.428571428571427,
          21.428571428571427,
          21.428571428571427,
          21.428571428571427,
          21.428571428571427,
          21.428571428571427,
          21.428571428571427,
          21.428571428571427,
          21.428571428571427,
          21.428571428571427,
          21.428571428571427,
          21.428571428571427,
          21.428571428571427,
          21.428571428571427,
          21.428571428571427,
          21.428571428571427,
          21.428571428571427,
          32.14285714285714,
          32.14285714285714,
          32.14285714285714,
          32.14285714285714,
          32.14285714285714,
          32.14285714285714,
          32.14285714285714,
          32.14285714285714,
          32.14285714285714,
          32.14285714285714,
          32.14285714285714,
          32.14285714285714,
          32.14285714285714,
          32.14285714285714,
          32.14285714285714,
          32.14285714285714,
          32.14285714285714,
          32.14285714285714,
          32.14285714285714,
          32.14285714285714,
          32.14285714285714,
          32.14285714285714,
          32.14285714285714,
          32.14285714285714,
          32.14285714285714,
          32.14285714285714,
          32.14285714285714,
          32.14285714285714,
          32.14285714285714,
          32.14285714285714,
          32.14285714285714,
          42.857142857142854,
          42.857142857142854,
          42.857142857142854,
          42.857142857142854,
          42.857142857142854,
          42.857142857142854,
          42.857142857142854,
          42.857142857142854,
          42.857142857142854,
          42.857142857142854,
          42.857142857142854,
          42.857142857142854,
          42.857142857142854,
          42.857142857142854,
          42.857142857142854,
          42.857142857142854,
          42.857142857142854,
          42.857142857142854,
          42.857142857142854,
          42.857142857142854,
          42.857142857142854,
          42.857142857142854,
          42.857142857142854,
          42.857142857142854,
          42.857142857142854,
          42.857142857142854,
          42.857142857142854,
          42.857142857142854,
          42.857142857142854,
          42.857142857142854,
          42.857142857142854,
          53.57142857142857,
          53.57142857142857,
          53.57142857142857,
          53.57142857142857,
          53.57142857142857,
          53.57142857142857,
          53.57142857142857,
          53.57142857142857,
          53.57142857142857,
          53.57142857142857,
          53.57142857142857,
          53.57142857142857,
          53.57142857142857,
          53.57142857142857,
          53.57142857142857,
          53.57142857142857,
          53.57142857142857,
          53.57142857142857,
          53.57142857142857,
          53.57142857142857,
          53.57142857142857,
          53.57142857142857,
          53.57142857142857,
          53.57142857142857,
          53.57142857142857,
          53.57142857142857,
          53.57142857142857,
          53.57142857142857,
          53.57142857142857,
          53.57142857142857,
          53.57142857142857,
          64.28571428571428,
          64.28571428571428,
          64.28571428571428,
          64.28571428571428,
          64.28571428571428,
          64.28571428571428,
          64.28571428571428,
          64.28571428571428,
          64.28571428571428,
          64.28571428571428,
          64.28571428571428,
          64.28571428571428,
          64.28571428571428,
          64.28571428571428,
          64.28571428571428,
          64.28571428571428,
          64.28571428571428,
          64.28571428571428,
          64.28571428571428,
          64.28571428571428,
          64.28571428571428,
          64.28571428571428,
          64.28571428571428,
          64.28571428571428,
          64.28571428571428,
          64.28571428571428,
          64.28571428571428,
          64.28571428571428,
          64.28571428571428,
          64.28571428571428,
          64.28571428571428,
          75,
          75,
          75,
          75,
          75,
          75,
          75,
          75,
          75,
          75,
          75,
          75,
          75,
          75,
          75,
          75,
          75,
          75,
          75,
          75,
          75,
          75,
          75,
          75,
          75,
          75,
          75,
          75,
          75,
          75,
          75,
          85.71428571428571,
          85.71428571428571,
          85.71428571428571,
          85.71428571428571,
          85.71428571428571,
          85.71428571428571,
          85.71428571428571,
          85.71428571428571,
          85.71428571428571,
          85.71428571428571,
          85.71428571428571,
          85.71428571428571,
          85.71428571428571,
          85.71428571428571,
          85.71428571428571,
          85.71428571428571,
          85.71428571428571,
          85.71428571428571,
          85.71428571428571,
          85.71428571428571,
          85.71428571428571,
          85.71428571428571,
          85.71428571428571,
          85.71428571428571,
          85.71428571428571,
          85.71428571428571,
          85.71428571428571,
          85.71428571428571,
          85.71428571428571,
          85.71428571428571,
          85.71428571428571,
          96.42857142857142,
          96.42857142857142,
          96.42857142857142,
          96.42857142857142,
          96.42857142857142,
          96.42857142857142,
          96.42857142857142,
          96.42857142857142,
          96.42857142857142,
          96.42857142857142,
          96.42857142857142,
          96.42857142857142,
          96.42857142857142,
          96.42857142857142,
          96.42857142857142,
          96.42857142857142,
          96.42857142857142,
          96.42857142857142,
          96.42857142857142,
          96.42857142857142,
          96.42857142857142,
          96.42857142857142,
          96.42857142857142,
          96.42857142857142,
          96.42857142857142,
          96.42857142857142,
          96.42857142857142,
          96.42857142857142,
          96.42857142857142,
          96.42857142857142,
          96.42857142857142,
          107.14285714285714,
          107.14285714285714,
          107.14285714285714,
          107.14285714285714,
          107.14285714285714,
          107.14285714285714,
          107.14285714285714,
          107.14285714285714,
          107.14285714285714,
          107.14285714285714,
          107.14285714285714,
          107.14285714285714,
          107.14285714285714,
          107.14285714285714,
          107.14285714285714,
          107.14285714285714,
          107.14285714285714,
          107.14285714285714,
          107.14285714285714,
          107.14285714285714,
          107.14285714285714,
          107.14285714285714,
          107.14285714285714,
          107.14285714285714,
          107.14285714285714,
          107.14285714285714,
          107.14285714285714,
          107.14285714285714,
          107.14285714285714,
          107.14285714285714,
          107.14285714285714,
          117.85714285714285,
          117.85714285714285,
          117.85714285714285,
          117.85714285714285,
          117.85714285714285,
          117.85714285714285,
          117.85714285714285,
          117.85714285714285,
          117.85714285714285,
          117.85714285714285,
          117.85714285714285,
          117.85714285714285,
          117.85714285714285,
          117.85714285714285,
          117.85714285714285,
          117.85714285714285,
          117.85714285714285,
          117.85714285714285,
          117.85714285714285,
          117.85714285714285,
          117.85714285714285,
          117.85714285714285,
          117.85714285714285,
          117.85714285714285,
          117.85714285714285,
          117.85714285714285,
          117.85714285714285,
          117.85714285714285,
          117.85714285714285,
          117.85714285714285,
          117.85714285714285,
          128.57142857142856,
          128.57142857142856,
          128.57142857142856,
          128.57142857142856,
          128.57142857142856,
          128.57142857142856,
          128.57142857142856,
          128.57142857142856,
          128.57142857142856,
          128.57142857142856,
          128.57142857142856,
          128.57142857142856,
          128.57142857142856,
          128.57142857142856,
          128.57142857142856,
          128.57142857142856,
          128.57142857142856,
          128.57142857142856,
          128.57142857142856,
          128.57142857142856,
          128.57142857142856,
          128.57142857142856,
          128.57142857142856,
          128.57142857142856,
          128.57142857142856,
          128.57142857142856,
          128.57142857142856,
          128.57142857142856,
          128.57142857142856,
          128.57142857142856,
          128.57142857142856,
          139.28571428571428,
          139.28571428571428,
          139.28571428571428,
          139.28571428571428,
          139.28571428571428,
          139.28571428571428,
          139.28571428571428,
          139.28571428571428,
          139.28571428571428,
          139.28571428571428,
          139.28571428571428,
          139.28571428571428,
          139.28571428571428,
          139.28571428571428,
          139.28571428571428,
          139.28571428571428,
          139.28571428571428,
          139.28571428571428,
          139.28571428571428,
          139.28571428571428,
          139.28571428571428,
          139.28571428571428,
          139.28571428571428,
          139.28571428571428,
          139.28571428571428,
          139.28571428571428,
          139.28571428571428,
          139.28571428571428,
          139.28571428571428,
          139.28571428571428,
          139.28571428571428,
          150,
          150,
          150,
          150,
          150,
          150,
          150,
          150,
          150,
          150,
          150,
          150,
          150,
          150,
          150,
          150,
          150,
          150,
          150,
          150,
          150,
          150,
          150,
          150,
          150,
          150,
          150,
          150,
          150,
          150,
          150
         ]
        }
       ],
       "layout": {
        "hovermode": "closest",
        "template": {
         "data": {
          "bar": [
           {
            "error_x": {
             "color": "#2a3f5f"
            },
            "error_y": {
             "color": "#2a3f5f"
            },
            "marker": {
             "line": {
              "color": "#E5ECF6",
              "width": 0.5
             },
             "pattern": {
              "fillmode": "overlay",
              "size": 10,
              "solidity": 0.2
             }
            },
            "type": "bar"
           }
          ],
          "barpolar": [
           {
            "marker": {
             "line": {
              "color": "#E5ECF6",
              "width": 0.5
             },
             "pattern": {
              "fillmode": "overlay",
              "size": 10,
              "solidity": 0.2
             }
            },
            "type": "barpolar"
           }
          ],
          "carpet": [
           {
            "aaxis": {
             "endlinecolor": "#2a3f5f",
             "gridcolor": "white",
             "linecolor": "white",
             "minorgridcolor": "white",
             "startlinecolor": "#2a3f5f"
            },
            "baxis": {
             "endlinecolor": "#2a3f5f",
             "gridcolor": "white",
             "linecolor": "white",
             "minorgridcolor": "white",
             "startlinecolor": "#2a3f5f"
            },
            "type": "carpet"
           }
          ],
          "choropleth": [
           {
            "colorbar": {
             "outlinewidth": 0,
             "ticks": ""
            },
            "type": "choropleth"
           }
          ],
          "contour": [
           {
            "colorbar": {
             "outlinewidth": 0,
             "ticks": ""
            },
            "colorscale": [
             [
              0,
              "#0d0887"
             ],
             [
              0.1111111111111111,
              "#46039f"
             ],
             [
              0.2222222222222222,
              "#7201a8"
             ],
             [
              0.3333333333333333,
              "#9c179e"
             ],
             [
              0.4444444444444444,
              "#bd3786"
             ],
             [
              0.5555555555555556,
              "#d8576b"
             ],
             [
              0.6666666666666666,
              "#ed7953"
             ],
             [
              0.7777777777777778,
              "#fb9f3a"
             ],
             [
              0.8888888888888888,
              "#fdca26"
             ],
             [
              1,
              "#f0f921"
             ]
            ],
            "type": "contour"
           }
          ],
          "contourcarpet": [
           {
            "colorbar": {
             "outlinewidth": 0,
             "ticks": ""
            },
            "type": "contourcarpet"
           }
          ],
          "heatmap": [
           {
            "colorbar": {
             "outlinewidth": 0,
             "ticks": ""
            },
            "colorscale": [
             [
              0,
              "#0d0887"
             ],
             [
              0.1111111111111111,
              "#46039f"
             ],
             [
              0.2222222222222222,
              "#7201a8"
             ],
             [
              0.3333333333333333,
              "#9c179e"
             ],
             [
              0.4444444444444444,
              "#bd3786"
             ],
             [
              0.5555555555555556,
              "#d8576b"
             ],
             [
              0.6666666666666666,
              "#ed7953"
             ],
             [
              0.7777777777777778,
              "#fb9f3a"
             ],
             [
              0.8888888888888888,
              "#fdca26"
             ],
             [
              1,
              "#f0f921"
             ]
            ],
            "type": "heatmap"
           }
          ],
          "heatmapgl": [
           {
            "colorbar": {
             "outlinewidth": 0,
             "ticks": ""
            },
            "colorscale": [
             [
              0,
              "#0d0887"
             ],
             [
              0.1111111111111111,
              "#46039f"
             ],
             [
              0.2222222222222222,
              "#7201a8"
             ],
             [
              0.3333333333333333,
              "#9c179e"
             ],
             [
              0.4444444444444444,
              "#bd3786"
             ],
             [
              0.5555555555555556,
              "#d8576b"
             ],
             [
              0.6666666666666666,
              "#ed7953"
             ],
             [
              0.7777777777777778,
              "#fb9f3a"
             ],
             [
              0.8888888888888888,
              "#fdca26"
             ],
             [
              1,
              "#f0f921"
             ]
            ],
            "type": "heatmapgl"
           }
          ],
          "histogram": [
           {
            "marker": {
             "pattern": {
              "fillmode": "overlay",
              "size": 10,
              "solidity": 0.2
             }
            },
            "type": "histogram"
           }
          ],
          "histogram2d": [
           {
            "colorbar": {
             "outlinewidth": 0,
             "ticks": ""
            },
            "colorscale": [
             [
              0,
              "#0d0887"
             ],
             [
              0.1111111111111111,
              "#46039f"
             ],
             [
              0.2222222222222222,
              "#7201a8"
             ],
             [
              0.3333333333333333,
              "#9c179e"
             ],
             [
              0.4444444444444444,
              "#bd3786"
             ],
             [
              0.5555555555555556,
              "#d8576b"
             ],
             [
              0.6666666666666666,
              "#ed7953"
             ],
             [
              0.7777777777777778,
              "#fb9f3a"
             ],
             [
              0.8888888888888888,
              "#fdca26"
             ],
             [
              1,
              "#f0f921"
             ]
            ],
            "type": "histogram2d"
           }
          ],
          "histogram2dcontour": [
           {
            "colorbar": {
             "outlinewidth": 0,
             "ticks": ""
            },
            "colorscale": [
             [
              0,
              "#0d0887"
             ],
             [
              0.1111111111111111,
              "#46039f"
             ],
             [
              0.2222222222222222,
              "#7201a8"
             ],
             [
              0.3333333333333333,
              "#9c179e"
             ],
             [
              0.4444444444444444,
              "#bd3786"
             ],
             [
              0.5555555555555556,
              "#d8576b"
             ],
             [
              0.6666666666666666,
              "#ed7953"
             ],
             [
              0.7777777777777778,
              "#fb9f3a"
             ],
             [
              0.8888888888888888,
              "#fdca26"
             ],
             [
              1,
              "#f0f921"
             ]
            ],
            "type": "histogram2dcontour"
           }
          ],
          "mesh3d": [
           {
            "colorbar": {
             "outlinewidth": 0,
             "ticks": ""
            },
            "type": "mesh3d"
           }
          ],
          "parcoords": [
           {
            "line": {
             "colorbar": {
              "outlinewidth": 0,
              "ticks": ""
             }
            },
            "type": "parcoords"
           }
          ],
          "pie": [
           {
            "automargin": true,
            "type": "pie"
           }
          ],
          "scatter": [
           {
            "fillpattern": {
             "fillmode": "overlay",
             "size": 10,
             "solidity": 0.2
            },
            "type": "scatter"
           }
          ],
          "scatter3d": [
           {
            "line": {
             "colorbar": {
              "outlinewidth": 0,
              "ticks": ""
             }
            },
            "marker": {
             "colorbar": {
              "outlinewidth": 0,
              "ticks": ""
             }
            },
            "type": "scatter3d"
           }
          ],
          "scattercarpet": [
           {
            "marker": {
             "colorbar": {
              "outlinewidth": 0,
              "ticks": ""
             }
            },
            "type": "scattercarpet"
           }
          ],
          "scattergeo": [
           {
            "marker": {
             "colorbar": {
              "outlinewidth": 0,
              "ticks": ""
             }
            },
            "type": "scattergeo"
           }
          ],
          "scattergl": [
           {
            "marker": {
             "colorbar": {
              "outlinewidth": 0,
              "ticks": ""
             }
            },
            "type": "scattergl"
           }
          ],
          "scattermapbox": [
           {
            "marker": {
             "colorbar": {
              "outlinewidth": 0,
              "ticks": ""
             }
            },
            "type": "scattermapbox"
           }
          ],
          "scatterpolar": [
           {
            "marker": {
             "colorbar": {
              "outlinewidth": 0,
              "ticks": ""
             }
            },
            "type": "scatterpolar"
           }
          ],
          "scatterpolargl": [
           {
            "marker": {
             "colorbar": {
              "outlinewidth": 0,
              "ticks": ""
             }
            },
            "type": "scatterpolargl"
           }
          ],
          "scatterternary": [
           {
            "marker": {
             "colorbar": {
              "outlinewidth": 0,
              "ticks": ""
             }
            },
            "type": "scatterternary"
           }
          ],
          "surface": [
           {
            "colorbar": {
             "outlinewidth": 0,
             "ticks": ""
            },
            "colorscale": [
             [
              0,
              "#0d0887"
             ],
             [
              0.1111111111111111,
              "#46039f"
             ],
             [
              0.2222222222222222,
              "#7201a8"
             ],
             [
              0.3333333333333333,
              "#9c179e"
             ],
             [
              0.4444444444444444,
              "#bd3786"
             ],
             [
              0.5555555555555556,
              "#d8576b"
             ],
             [
              0.6666666666666666,
              "#ed7953"
             ],
             [
              0.7777777777777778,
              "#fb9f3a"
             ],
             [
              0.8888888888888888,
              "#fdca26"
             ],
             [
              1,
              "#f0f921"
             ]
            ],
            "type": "surface"
           }
          ],
          "table": [
           {
            "cells": {
             "fill": {
              "color": "#EBF0F8"
             },
             "line": {
              "color": "white"
             }
            },
            "header": {
             "fill": {
              "color": "#C8D4E3"
             },
             "line": {
              "color": "white"
             }
            },
            "type": "table"
           }
          ]
         },
         "layout": {
          "annotationdefaults": {
           "arrowcolor": "#2a3f5f",
           "arrowhead": 0,
           "arrowwidth": 1
          },
          "autotypenumbers": "strict",
          "coloraxis": {
           "colorbar": {
            "outlinewidth": 0,
            "ticks": ""
           }
          },
          "colorscale": {
           "diverging": [
            [
             0,
             "#8e0152"
            ],
            [
             0.1,
             "#c51b7d"
            ],
            [
             0.2,
             "#de77ae"
            ],
            [
             0.3,
             "#f1b6da"
            ],
            [
             0.4,
             "#fde0ef"
            ],
            [
             0.5,
             "#f7f7f7"
            ],
            [
             0.6,
             "#e6f5d0"
            ],
            [
             0.7,
             "#b8e186"
            ],
            [
             0.8,
             "#7fbc41"
            ],
            [
             0.9,
             "#4d9221"
            ],
            [
             1,
             "#276419"
            ]
           ],
           "sequential": [
            [
             0,
             "#0d0887"
            ],
            [
             0.1111111111111111,
             "#46039f"
            ],
            [
             0.2222222222222222,
             "#7201a8"
            ],
            [
             0.3333333333333333,
             "#9c179e"
            ],
            [
             0.4444444444444444,
             "#bd3786"
            ],
            [
             0.5555555555555556,
             "#d8576b"
            ],
            [
             0.6666666666666666,
             "#ed7953"
            ],
            [
             0.7777777777777778,
             "#fb9f3a"
            ],
            [
             0.8888888888888888,
             "#fdca26"
            ],
            [
             1,
             "#f0f921"
            ]
           ],
           "sequentialminus": [
            [
             0,
             "#0d0887"
            ],
            [
             0.1111111111111111,
             "#46039f"
            ],
            [
             0.2222222222222222,
             "#7201a8"
            ],
            [
             0.3333333333333333,
             "#9c179e"
            ],
            [
             0.4444444444444444,
             "#bd3786"
            ],
            [
             0.5555555555555556,
             "#d8576b"
            ],
            [
             0.6666666666666666,
             "#ed7953"
            ],
            [
             0.7777777777777778,
             "#fb9f3a"
            ],
            [
             0.8888888888888888,
             "#fdca26"
            ],
            [
             1,
             "#f0f921"
            ]
           ]
          },
          "colorway": [
           "#636efa",
           "#EF553B",
           "#00cc96",
           "#ab63fa",
           "#FFA15A",
           "#19d3f3",
           "#FF6692",
           "#B6E880",
           "#FF97FF",
           "#FECB52"
          ],
          "font": {
           "color": "#2a3f5f"
          },
          "geo": {
           "bgcolor": "white",
           "lakecolor": "white",
           "landcolor": "#E5ECF6",
           "showlakes": true,
           "showland": true,
           "subunitcolor": "white"
          },
          "hoverlabel": {
           "align": "left"
          },
          "hovermode": "closest",
          "mapbox": {
           "style": "light"
          },
          "paper_bgcolor": "white",
          "plot_bgcolor": "#E5ECF6",
          "polar": {
           "angularaxis": {
            "gridcolor": "white",
            "linecolor": "white",
            "ticks": ""
           },
           "bgcolor": "#E5ECF6",
           "radialaxis": {
            "gridcolor": "white",
            "linecolor": "white",
            "ticks": ""
           }
          },
          "scene": {
           "xaxis": {
            "backgroundcolor": "#E5ECF6",
            "gridcolor": "white",
            "gridwidth": 2,
            "linecolor": "white",
            "showbackground": true,
            "ticks": "",
            "zerolinecolor": "white"
           },
           "yaxis": {
            "backgroundcolor": "#E5ECF6",
            "gridcolor": "white",
            "gridwidth": 2,
            "linecolor": "white",
            "showbackground": true,
            "ticks": "",
            "zerolinecolor": "white"
           },
           "zaxis": {
            "backgroundcolor": "#E5ECF6",
            "gridcolor": "white",
            "gridwidth": 2,
            "linecolor": "white",
            "showbackground": true,
            "ticks": "",
            "zerolinecolor": "white"
           }
          },
          "shapedefaults": {
           "line": {
            "color": "#2a3f5f"
           }
          },
          "ternary": {
           "aaxis": {
            "gridcolor": "white",
            "linecolor": "white",
            "ticks": ""
           },
           "baxis": {
            "gridcolor": "white",
            "linecolor": "white",
            "ticks": ""
           },
           "bgcolor": "#E5ECF6",
           "caxis": {
            "gridcolor": "white",
            "linecolor": "white",
            "ticks": ""
           }
          },
          "title": {
           "x": 0.05
          },
          "xaxis": {
           "automargin": true,
           "gridcolor": "white",
           "linecolor": "white",
           "ticks": "",
           "title": {
            "standoff": 15
           },
           "zerolinecolor": "white",
           "zerolinewidth": 2
          },
          "yaxis": {
           "automargin": true,
           "gridcolor": "white",
           "linecolor": "white",
           "ticks": "",
           "title": {
            "standoff": 15
           },
           "zerolinecolor": "white",
           "zerolinewidth": 2
          }
         }
        },
        "title": {
         "text": "Drone Flight Plan<br><sup>Height (Z): 30.48m | Capture Speed: 3.09 m/s</sup>"
        },
        "xaxis": {
         "title": {
          "text": "X-coordinate (m)"
         }
        },
        "yaxis": {
         "scaleanchor": "x",
         "scaleratio": 1,
         "title": {
          "text": "Y-coordinate (m)"
         }
        }
       }
      }
     },
     "metadata": {},
     "output_type": "display_data"
    }
   ],
   "source": [
    "# Ablation 1\n",
    "print(\"\\nAblation 1: Increase Overlap to 0.9\")\n",
    "camera_abl1 = copy.deepcopy(camera_x10)\n",
    "dataset_spec_abl1 = copy.deepcopy(dataset_spec)\n",
    "dataset_spec_abl1.overlap = 0.9\n",
    "\n",
    "plan_abl1 = generate_photo_plan_on_grid(camera_abl1, dataset_spec_abl1)\n",
    "print(f\"Generated {len(plan_abl1)} waypoints.\")\n",
    "fig_abl1 = plot_photo_plan(plan_abl1)\n",
    "fig_abl1.show()\n"
   ]
  },
  {
   "cell_type": "markdown",
   "id": "afa13e5d",
   "metadata": {},
   "source": [
    "### <font color='mediumseagreen'>Ablation 2: Increase Sidelap</font>\n",
    "\n",
    "*   **Change:** Increase `dataset_spec.sidelap` from the baseline (0.7) to 0.9.\n",
    "*   **Observation:** The horizontal flight lines are now packed much closer together vertically, increasing the total number of rows (and waypoints). The spacing of waypoints *along* each line remains unchanged.\n",
    "*   **Reasoning:** Requiring more overlap between adjacent flight lines means the drone must travel a shorter distance sideways to the next line. Since the forward overlap requirement didn't change, the spacing along the flight lines is unaffected.\n",
    "*   **Implication:** Higher sidelap also boosts reconstruction quality but increases the number of flight lines, total photos, flight time, and data processing.\n"
   ]
  },
  {
   "cell_type": "code",
   "execution_count": 66,
   "id": "b58d2d01",
   "metadata": {},
   "outputs": [
    {
     "name": "stdout",
     "output_type": "stream",
     "text": [
      "\n",
      "Ablation 2: Increase Sidelap to 0.9\n",
      "Generated 451 waypoints.\n"
     ]
    },
    {
     "data": {
      "application/vnd.plotly.v1+json": {
       "config": {
        "plotlyServerURL": "https://plot.ly"
       },
       "data": [
        {
         "line": {
          "color": "LightSkyBlue",
          "width": 2
         },
         "marker": {
          "angleref": "previous",
          "color": "MediumPurple",
          "size": 10,
          "symbol": "arrow"
         },
         "mode": "lines+markers",
         "name": "Flight Path",
         "type": "scatter",
         "x": [
          0,
          15,
          30,
          45,
          60,
          75,
          90,
          105,
          120,
          135,
          150,
          150,
          135,
          120,
          105,
          90,
          75,
          60,
          45,
          30,
          15,
          0,
          0,
          15,
          30,
          45,
          60,
          75,
          90,
          105,
          120,
          135,
          150,
          150,
          135,
          120,
          105,
          90,
          75,
          60,
          45,
          30,
          15,
          0,
          0,
          15,
          30,
          45,
          60,
          75,
          90,
          105,
          120,
          135,
          150,
          150,
          135,
          120,
          105,
          90,
          75,
          60,
          45,
          30,
          15,
          0,
          0,
          15,
          30,
          45,
          60,
          75,
          90,
          105,
          120,
          135,
          150,
          150,
          135,
          120,
          105,
          90,
          75,
          60,
          45,
          30,
          15,
          0,
          0,
          15,
          30,
          45,
          60,
          75,
          90,
          105,
          120,
          135,
          150,
          150,
          135,
          120,
          105,
          90,
          75,
          60,
          45,
          30,
          15,
          0,
          0,
          15,
          30,
          45,
          60,
          75,
          90,
          105,
          120,
          135,
          150,
          150,
          135,
          120,
          105,
          90,
          75,
          60,
          45,
          30,
          15,
          0,
          0,
          15,
          30,
          45,
          60,
          75,
          90,
          105,
          120,
          135,
          150,
          150,
          135,
          120,
          105,
          90,
          75,
          60,
          45,
          30,
          15,
          0,
          0,
          15,
          30,
          45,
          60,
          75,
          90,
          105,
          120,
          135,
          150,
          150,
          135,
          120,
          105,
          90,
          75,
          60,
          45,
          30,
          15,
          0,
          0,
          15,
          30,
          45,
          60,
          75,
          90,
          105,
          120,
          135,
          150,
          150,
          135,
          120,
          105,
          90,
          75,
          60,
          45,
          30,
          15,
          0,
          0,
          15,
          30,
          45,
          60,
          75,
          90,
          105,
          120,
          135,
          150,
          150,
          135,
          120,
          105,
          90,
          75,
          60,
          45,
          30,
          15,
          0,
          0,
          15,
          30,
          45,
          60,
          75,
          90,
          105,
          120,
          135,
          150,
          150,
          135,
          120,
          105,
          90,
          75,
          60,
          45,
          30,
          15,
          0,
          0,
          15,
          30,
          45,
          60,
          75,
          90,
          105,
          120,
          135,
          150,
          150,
          135,
          120,
          105,
          90,
          75,
          60,
          45,
          30,
          15,
          0,
          0,
          15,
          30,
          45,
          60,
          75,
          90,
          105,
          120,
          135,
          150,
          150,
          135,
          120,
          105,
          90,
          75,
          60,
          45,
          30,
          15,
          0,
          0,
          15,
          30,
          45,
          60,
          75,
          90,
          105,
          120,
          135,
          150,
          150,
          135,
          120,
          105,
          90,
          75,
          60,
          45,
          30,
          15,
          0,
          0,
          15,
          30,
          45,
          60,
          75,
          90,
          105,
          120,
          135,
          150,
          150,
          135,
          120,
          105,
          90,
          75,
          60,
          45,
          30,
          15,
          0,
          0,
          15,
          30,
          45,
          60,
          75,
          90,
          105,
          120,
          135,
          150,
          150,
          135,
          120,
          105,
          90,
          75,
          60,
          45,
          30,
          15,
          0,
          0,
          15,
          30,
          45,
          60,
          75,
          90,
          105,
          120,
          135,
          150,
          150,
          135,
          120,
          105,
          90,
          75,
          60,
          45,
          30,
          15,
          0,
          0,
          15,
          30,
          45,
          60,
          75,
          90,
          105,
          120,
          135,
          150,
          150,
          135,
          120,
          105,
          90,
          75,
          60,
          45,
          30,
          15,
          0,
          0,
          15,
          30,
          45,
          60,
          75,
          90,
          105,
          120,
          135,
          150,
          150,
          135,
          120,
          105,
          90,
          75,
          60,
          45,
          30,
          15,
          0,
          0,
          15,
          30,
          45,
          60,
          75,
          90,
          105,
          120,
          135,
          150,
          150,
          135,
          120,
          105,
          90,
          75,
          60,
          45,
          30,
          15,
          0,
          0,
          15,
          30,
          45,
          60,
          75,
          90,
          105,
          120,
          135,
          150
         ],
         "y": [
          0,
          0,
          0,
          0,
          0,
          0,
          0,
          0,
          0,
          0,
          0,
          3.75,
          3.75,
          3.75,
          3.75,
          3.75,
          3.75,
          3.75,
          3.75,
          3.75,
          3.75,
          3.75,
          7.5,
          7.5,
          7.5,
          7.5,
          7.5,
          7.5,
          7.5,
          7.5,
          7.5,
          7.5,
          7.5,
          11.25,
          11.25,
          11.25,
          11.25,
          11.25,
          11.25,
          11.25,
          11.25,
          11.25,
          11.25,
          11.25,
          15,
          15,
          15,
          15,
          15,
          15,
          15,
          15,
          15,
          15,
          15,
          18.75,
          18.75,
          18.75,
          18.75,
          18.75,
          18.75,
          18.75,
          18.75,
          18.75,
          18.75,
          18.75,
          22.5,
          22.5,
          22.5,
          22.5,
          22.5,
          22.5,
          22.5,
          22.5,
          22.5,
          22.5,
          22.5,
          26.25,
          26.25,
          26.25,
          26.25,
          26.25,
          26.25,
          26.25,
          26.25,
          26.25,
          26.25,
          26.25,
          30,
          30,
          30,
          30,
          30,
          30,
          30,
          30,
          30,
          30,
          30,
          33.75,
          33.75,
          33.75,
          33.75,
          33.75,
          33.75,
          33.75,
          33.75,
          33.75,
          33.75,
          33.75,
          37.5,
          37.5,
          37.5,
          37.5,
          37.5,
          37.5,
          37.5,
          37.5,
          37.5,
          37.5,
          37.5,
          41.25,
          41.25,
          41.25,
          41.25,
          41.25,
          41.25,
          41.25,
          41.25,
          41.25,
          41.25,
          41.25,
          45,
          45,
          45,
          45,
          45,
          45,
          45,
          45,
          45,
          45,
          45,
          48.75,
          48.75,
          48.75,
          48.75,
          48.75,
          48.75,
          48.75,
          48.75,
          48.75,
          48.75,
          48.75,
          52.5,
          52.5,
          52.5,
          52.5,
          52.5,
          52.5,
          52.5,
          52.5,
          52.5,
          52.5,
          52.5,
          56.25,
          56.25,
          56.25,
          56.25,
          56.25,
          56.25,
          56.25,
          56.25,
          56.25,
          56.25,
          56.25,
          60,
          60,
          60,
          60,
          60,
          60,
          60,
          60,
          60,
          60,
          60,
          63.75,
          63.75,
          63.75,
          63.75,
          63.75,
          63.75,
          63.75,
          63.75,
          63.75,
          63.75,
          63.75,
          67.5,
          67.5,
          67.5,
          67.5,
          67.5,
          67.5,
          67.5,
          67.5,
          67.5,
          67.5,
          67.5,
          71.25,
          71.25,
          71.25,
          71.25,
          71.25,
          71.25,
          71.25,
          71.25,
          71.25,
          71.25,
          71.25,
          75,
          75,
          75,
          75,
          75,
          75,
          75,
          75,
          75,
          75,
          75,
          78.75,
          78.75,
          78.75,
          78.75,
          78.75,
          78.75,
          78.75,
          78.75,
          78.75,
          78.75,
          78.75,
          82.5,
          82.5,
          82.5,
          82.5,
          82.5,
          82.5,
          82.5,
          82.5,
          82.5,
          82.5,
          82.5,
          86.25,
          86.25,
          86.25,
          86.25,
          86.25,
          86.25,
          86.25,
          86.25,
          86.25,
          86.25,
          86.25,
          90,
          90,
          90,
          90,
          90,
          90,
          90,
          90,
          90,
          90,
          90,
          93.75,
          93.75,
          93.75,
          93.75,
          93.75,
          93.75,
          93.75,
          93.75,
          93.75,
          93.75,
          93.75,
          97.5,
          97.5,
          97.5,
          97.5,
          97.5,
          97.5,
          97.5,
          97.5,
          97.5,
          97.5,
          97.5,
          101.25,
          101.25,
          101.25,
          101.25,
          101.25,
          101.25,
          101.25,
          101.25,
          101.25,
          101.25,
          101.25,
          105,
          105,
          105,
          105,
          105,
          105,
          105,
          105,
          105,
          105,
          105,
          108.75,
          108.75,
          108.75,
          108.75,
          108.75,
          108.75,
          108.75,
          108.75,
          108.75,
          108.75,
          108.75,
          112.5,
          112.5,
          112.5,
          112.5,
          112.5,
          112.5,
          112.5,
          112.5,
          112.5,
          112.5,
          112.5,
          116.25,
          116.25,
          116.25,
          116.25,
          116.25,
          116.25,
          116.25,
          116.25,
          116.25,
          116.25,
          116.25,
          120,
          120,
          120,
          120,
          120,
          120,
          120,
          120,
          120,
          120,
          120,
          123.75,
          123.75,
          123.75,
          123.75,
          123.75,
          123.75,
          123.75,
          123.75,
          123.75,
          123.75,
          123.75,
          127.5,
          127.5,
          127.5,
          127.5,
          127.5,
          127.5,
          127.5,
          127.5,
          127.5,
          127.5,
          127.5,
          131.25,
          131.25,
          131.25,
          131.25,
          131.25,
          131.25,
          131.25,
          131.25,
          131.25,
          131.25,
          131.25,
          135,
          135,
          135,
          135,
          135,
          135,
          135,
          135,
          135,
          135,
          135,
          138.75,
          138.75,
          138.75,
          138.75,
          138.75,
          138.75,
          138.75,
          138.75,
          138.75,
          138.75,
          138.75,
          142.5,
          142.5,
          142.5,
          142.5,
          142.5,
          142.5,
          142.5,
          142.5,
          142.5,
          142.5,
          142.5,
          146.25,
          146.25,
          146.25,
          146.25,
          146.25,
          146.25,
          146.25,
          146.25,
          146.25,
          146.25,
          146.25,
          150,
          150,
          150,
          150,
          150,
          150,
          150,
          150,
          150,
          150,
          150
         ]
        }
       ],
       "layout": {
        "hovermode": "closest",
        "template": {
         "data": {
          "bar": [
           {
            "error_x": {
             "color": "#2a3f5f"
            },
            "error_y": {
             "color": "#2a3f5f"
            },
            "marker": {
             "line": {
              "color": "#E5ECF6",
              "width": 0.5
             },
             "pattern": {
              "fillmode": "overlay",
              "size": 10,
              "solidity": 0.2
             }
            },
            "type": "bar"
           }
          ],
          "barpolar": [
           {
            "marker": {
             "line": {
              "color": "#E5ECF6",
              "width": 0.5
             },
             "pattern": {
              "fillmode": "overlay",
              "size": 10,
              "solidity": 0.2
             }
            },
            "type": "barpolar"
           }
          ],
          "carpet": [
           {
            "aaxis": {
             "endlinecolor": "#2a3f5f",
             "gridcolor": "white",
             "linecolor": "white",
             "minorgridcolor": "white",
             "startlinecolor": "#2a3f5f"
            },
            "baxis": {
             "endlinecolor": "#2a3f5f",
             "gridcolor": "white",
             "linecolor": "white",
             "minorgridcolor": "white",
             "startlinecolor": "#2a3f5f"
            },
            "type": "carpet"
           }
          ],
          "choropleth": [
           {
            "colorbar": {
             "outlinewidth": 0,
             "ticks": ""
            },
            "type": "choropleth"
           }
          ],
          "contour": [
           {
            "colorbar": {
             "outlinewidth": 0,
             "ticks": ""
            },
            "colorscale": [
             [
              0,
              "#0d0887"
             ],
             [
              0.1111111111111111,
              "#46039f"
             ],
             [
              0.2222222222222222,
              "#7201a8"
             ],
             [
              0.3333333333333333,
              "#9c179e"
             ],
             [
              0.4444444444444444,
              "#bd3786"
             ],
             [
              0.5555555555555556,
              "#d8576b"
             ],
             [
              0.6666666666666666,
              "#ed7953"
             ],
             [
              0.7777777777777778,
              "#fb9f3a"
             ],
             [
              0.8888888888888888,
              "#fdca26"
             ],
             [
              1,
              "#f0f921"
             ]
            ],
            "type": "contour"
           }
          ],
          "contourcarpet": [
           {
            "colorbar": {
             "outlinewidth": 0,
             "ticks": ""
            },
            "type": "contourcarpet"
           }
          ],
          "heatmap": [
           {
            "colorbar": {
             "outlinewidth": 0,
             "ticks": ""
            },
            "colorscale": [
             [
              0,
              "#0d0887"
             ],
             [
              0.1111111111111111,
              "#46039f"
             ],
             [
              0.2222222222222222,
              "#7201a8"
             ],
             [
              0.3333333333333333,
              "#9c179e"
             ],
             [
              0.4444444444444444,
              "#bd3786"
             ],
             [
              0.5555555555555556,
              "#d8576b"
             ],
             [
              0.6666666666666666,
              "#ed7953"
             ],
             [
              0.7777777777777778,
              "#fb9f3a"
             ],
             [
              0.8888888888888888,
              "#fdca26"
             ],
             [
              1,
              "#f0f921"
             ]
            ],
            "type": "heatmap"
           }
          ],
          "heatmapgl": [
           {
            "colorbar": {
             "outlinewidth": 0,
             "ticks": ""
            },
            "colorscale": [
             [
              0,
              "#0d0887"
             ],
             [
              0.1111111111111111,
              "#46039f"
             ],
             [
              0.2222222222222222,
              "#7201a8"
             ],
             [
              0.3333333333333333,
              "#9c179e"
             ],
             [
              0.4444444444444444,
              "#bd3786"
             ],
             [
              0.5555555555555556,
              "#d8576b"
             ],
             [
              0.6666666666666666,
              "#ed7953"
             ],
             [
              0.7777777777777778,
              "#fb9f3a"
             ],
             [
              0.8888888888888888,
              "#fdca26"
             ],
             [
              1,
              "#f0f921"
             ]
            ],
            "type": "heatmapgl"
           }
          ],
          "histogram": [
           {
            "marker": {
             "pattern": {
              "fillmode": "overlay",
              "size": 10,
              "solidity": 0.2
             }
            },
            "type": "histogram"
           }
          ],
          "histogram2d": [
           {
            "colorbar": {
             "outlinewidth": 0,
             "ticks": ""
            },
            "colorscale": [
             [
              0,
              "#0d0887"
             ],
             [
              0.1111111111111111,
              "#46039f"
             ],
             [
              0.2222222222222222,
              "#7201a8"
             ],
             [
              0.3333333333333333,
              "#9c179e"
             ],
             [
              0.4444444444444444,
              "#bd3786"
             ],
             [
              0.5555555555555556,
              "#d8576b"
             ],
             [
              0.6666666666666666,
              "#ed7953"
             ],
             [
              0.7777777777777778,
              "#fb9f3a"
             ],
             [
              0.8888888888888888,
              "#fdca26"
             ],
             [
              1,
              "#f0f921"
             ]
            ],
            "type": "histogram2d"
           }
          ],
          "histogram2dcontour": [
           {
            "colorbar": {
             "outlinewidth": 0,
             "ticks": ""
            },
            "colorscale": [
             [
              0,
              "#0d0887"
             ],
             [
              0.1111111111111111,
              "#46039f"
             ],
             [
              0.2222222222222222,
              "#7201a8"
             ],
             [
              0.3333333333333333,
              "#9c179e"
             ],
             [
              0.4444444444444444,
              "#bd3786"
             ],
             [
              0.5555555555555556,
              "#d8576b"
             ],
             [
              0.6666666666666666,
              "#ed7953"
             ],
             [
              0.7777777777777778,
              "#fb9f3a"
             ],
             [
              0.8888888888888888,
              "#fdca26"
             ],
             [
              1,
              "#f0f921"
             ]
            ],
            "type": "histogram2dcontour"
           }
          ],
          "mesh3d": [
           {
            "colorbar": {
             "outlinewidth": 0,
             "ticks": ""
            },
            "type": "mesh3d"
           }
          ],
          "parcoords": [
           {
            "line": {
             "colorbar": {
              "outlinewidth": 0,
              "ticks": ""
             }
            },
            "type": "parcoords"
           }
          ],
          "pie": [
           {
            "automargin": true,
            "type": "pie"
           }
          ],
          "scatter": [
           {
            "fillpattern": {
             "fillmode": "overlay",
             "size": 10,
             "solidity": 0.2
            },
            "type": "scatter"
           }
          ],
          "scatter3d": [
           {
            "line": {
             "colorbar": {
              "outlinewidth": 0,
              "ticks": ""
             }
            },
            "marker": {
             "colorbar": {
              "outlinewidth": 0,
              "ticks": ""
             }
            },
            "type": "scatter3d"
           }
          ],
          "scattercarpet": [
           {
            "marker": {
             "colorbar": {
              "outlinewidth": 0,
              "ticks": ""
             }
            },
            "type": "scattercarpet"
           }
          ],
          "scattergeo": [
           {
            "marker": {
             "colorbar": {
              "outlinewidth": 0,
              "ticks": ""
             }
            },
            "type": "scattergeo"
           }
          ],
          "scattergl": [
           {
            "marker": {
             "colorbar": {
              "outlinewidth": 0,
              "ticks": ""
             }
            },
            "type": "scattergl"
           }
          ],
          "scattermapbox": [
           {
            "marker": {
             "colorbar": {
              "outlinewidth": 0,
              "ticks": ""
             }
            },
            "type": "scattermapbox"
           }
          ],
          "scatterpolar": [
           {
            "marker": {
             "colorbar": {
              "outlinewidth": 0,
              "ticks": ""
             }
            },
            "type": "scatterpolar"
           }
          ],
          "scatterpolargl": [
           {
            "marker": {
             "colorbar": {
              "outlinewidth": 0,
              "ticks": ""
             }
            },
            "type": "scatterpolargl"
           }
          ],
          "scatterternary": [
           {
            "marker": {
             "colorbar": {
              "outlinewidth": 0,
              "ticks": ""
             }
            },
            "type": "scatterternary"
           }
          ],
          "surface": [
           {
            "colorbar": {
             "outlinewidth": 0,
             "ticks": ""
            },
            "colorscale": [
             [
              0,
              "#0d0887"
             ],
             [
              0.1111111111111111,
              "#46039f"
             ],
             [
              0.2222222222222222,
              "#7201a8"
             ],
             [
              0.3333333333333333,
              "#9c179e"
             ],
             [
              0.4444444444444444,
              "#bd3786"
             ],
             [
              0.5555555555555556,
              "#d8576b"
             ],
             [
              0.6666666666666666,
              "#ed7953"
             ],
             [
              0.7777777777777778,
              "#fb9f3a"
             ],
             [
              0.8888888888888888,
              "#fdca26"
             ],
             [
              1,
              "#f0f921"
             ]
            ],
            "type": "surface"
           }
          ],
          "table": [
           {
            "cells": {
             "fill": {
              "color": "#EBF0F8"
             },
             "line": {
              "color": "white"
             }
            },
            "header": {
             "fill": {
              "color": "#C8D4E3"
             },
             "line": {
              "color": "white"
             }
            },
            "type": "table"
           }
          ]
         },
         "layout": {
          "annotationdefaults": {
           "arrowcolor": "#2a3f5f",
           "arrowhead": 0,
           "arrowwidth": 1
          },
          "autotypenumbers": "strict",
          "coloraxis": {
           "colorbar": {
            "outlinewidth": 0,
            "ticks": ""
           }
          },
          "colorscale": {
           "diverging": [
            [
             0,
             "#8e0152"
            ],
            [
             0.1,
             "#c51b7d"
            ],
            [
             0.2,
             "#de77ae"
            ],
            [
             0.3,
             "#f1b6da"
            ],
            [
             0.4,
             "#fde0ef"
            ],
            [
             0.5,
             "#f7f7f7"
            ],
            [
             0.6,
             "#e6f5d0"
            ],
            [
             0.7,
             "#b8e186"
            ],
            [
             0.8,
             "#7fbc41"
            ],
            [
             0.9,
             "#4d9221"
            ],
            [
             1,
             "#276419"
            ]
           ],
           "sequential": [
            [
             0,
             "#0d0887"
            ],
            [
             0.1111111111111111,
             "#46039f"
            ],
            [
             0.2222222222222222,
             "#7201a8"
            ],
            [
             0.3333333333333333,
             "#9c179e"
            ],
            [
             0.4444444444444444,
             "#bd3786"
            ],
            [
             0.5555555555555556,
             "#d8576b"
            ],
            [
             0.6666666666666666,
             "#ed7953"
            ],
            [
             0.7777777777777778,
             "#fb9f3a"
            ],
            [
             0.8888888888888888,
             "#fdca26"
            ],
            [
             1,
             "#f0f921"
            ]
           ],
           "sequentialminus": [
            [
             0,
             "#0d0887"
            ],
            [
             0.1111111111111111,
             "#46039f"
            ],
            [
             0.2222222222222222,
             "#7201a8"
            ],
            [
             0.3333333333333333,
             "#9c179e"
            ],
            [
             0.4444444444444444,
             "#bd3786"
            ],
            [
             0.5555555555555556,
             "#d8576b"
            ],
            [
             0.6666666666666666,
             "#ed7953"
            ],
            [
             0.7777777777777778,
             "#fb9f3a"
            ],
            [
             0.8888888888888888,
             "#fdca26"
            ],
            [
             1,
             "#f0f921"
            ]
           ]
          },
          "colorway": [
           "#636efa",
           "#EF553B",
           "#00cc96",
           "#ab63fa",
           "#FFA15A",
           "#19d3f3",
           "#FF6692",
           "#B6E880",
           "#FF97FF",
           "#FECB52"
          ],
          "font": {
           "color": "#2a3f5f"
          },
          "geo": {
           "bgcolor": "white",
           "lakecolor": "white",
           "landcolor": "#E5ECF6",
           "showlakes": true,
           "showland": true,
           "subunitcolor": "white"
          },
          "hoverlabel": {
           "align": "left"
          },
          "hovermode": "closest",
          "mapbox": {
           "style": "light"
          },
          "paper_bgcolor": "white",
          "plot_bgcolor": "#E5ECF6",
          "polar": {
           "angularaxis": {
            "gridcolor": "white",
            "linecolor": "white",
            "ticks": ""
           },
           "bgcolor": "#E5ECF6",
           "radialaxis": {
            "gridcolor": "white",
            "linecolor": "white",
            "ticks": ""
           }
          },
          "scene": {
           "xaxis": {
            "backgroundcolor": "#E5ECF6",
            "gridcolor": "white",
            "gridwidth": 2,
            "linecolor": "white",
            "showbackground": true,
            "ticks": "",
            "zerolinecolor": "white"
           },
           "yaxis": {
            "backgroundcolor": "#E5ECF6",
            "gridcolor": "white",
            "gridwidth": 2,
            "linecolor": "white",
            "showbackground": true,
            "ticks": "",
            "zerolinecolor": "white"
           },
           "zaxis": {
            "backgroundcolor": "#E5ECF6",
            "gridcolor": "white",
            "gridwidth": 2,
            "linecolor": "white",
            "showbackground": true,
            "ticks": "",
            "zerolinecolor": "white"
           }
          },
          "shapedefaults": {
           "line": {
            "color": "#2a3f5f"
           }
          },
          "ternary": {
           "aaxis": {
            "gridcolor": "white",
            "linecolor": "white",
            "ticks": ""
           },
           "baxis": {
            "gridcolor": "white",
            "linecolor": "white",
            "ticks": ""
           },
           "bgcolor": "#E5ECF6",
           "caxis": {
            "gridcolor": "white",
            "linecolor": "white",
            "ticks": ""
           }
          },
          "title": {
           "x": 0.05
          },
          "xaxis": {
           "automargin": true,
           "gridcolor": "white",
           "linecolor": "white",
           "ticks": "",
           "title": {
            "standoff": 15
           },
           "zerolinecolor": "white",
           "zerolinewidth": 2
          },
          "yaxis": {
           "automargin": true,
           "gridcolor": "white",
           "linecolor": "white",
           "ticks": "",
           "title": {
            "standoff": 15
           },
           "zerolinecolor": "white",
           "zerolinewidth": 2
          }
         }
        },
        "title": {
         "text": "Drone Flight Plan<br><sup>Height (Z): 30.48m | Capture Speed: 3.09 m/s</sup>"
        },
        "xaxis": {
         "title": {
          "text": "X-coordinate (m)"
         }
        },
        "yaxis": {
         "scaleanchor": "x",
         "scaleratio": 1,
         "title": {
          "text": "Y-coordinate (m)"
         }
        }
       }
      }
     },
     "metadata": {},
     "output_type": "display_data"
    }
   ],
   "source": [
    "# Ablation 2\n",
    "print(\"\\nAblation 2: Increase Sidelap to 0.9\")\n",
    "camera_abl2 = copy.deepcopy(camera_x10)\n",
    "dataset_spec_abl2 = copy.deepcopy(dataset_spec)\n",
    "dataset_spec_abl2.sidelap = 0.9\n",
    "\n",
    "plan_abl2 = generate_photo_plan_on_grid(camera_abl2, dataset_spec_abl2)\n",
    "print(f\"Generated {len(plan_abl2)} waypoints.\")\n",
    "fig_abl2 = plot_photo_plan(plan_abl2)\n",
    "fig_abl2.show()\n"
   ]
  },
  {
   "cell_type": "markdown",
   "id": "f6359f9b",
   "metadata": {},
   "source": [
    "### <font color='darkorange'>Ablation 3: Increase Height</font>\n",
    "\n",
    "*   **Change:** Double `dataset_spec.height` from the baseline (30.48m) to 60.96m.\n",
    "*   **Observation:** The entire flight grid is sparser. Both the horizontal spacing along lines and the vertical spacing between lines have increased. The total number of waypoints is significantly reduced.\n",
    "*   **Reasoning:** Flying higher increases the ground area covered by each photo (the footprint). With constant overlap/sidelap percentages, the drone can travel further both forward and sideways between photos while still meeting the requirements.\n",
    "*   **Implication:** Flying higher covers ground faster with fewer photos, saving time and data. However, this comes at the cost of lower ground resolution (less detail) in the images.\n"
   ]
  },
  {
   "cell_type": "code",
   "execution_count": 67,
   "id": "5e918526",
   "metadata": {},
   "outputs": [
    {
     "name": "stdout",
     "output_type": "stream",
     "text": [
      "\n",
      "Ablation 3: Double Height\n",
      "Generated 48 waypoints.\n"
     ]
    },
    {
     "data": {
      "application/vnd.plotly.v1+json": {
       "config": {
        "plotlyServerURL": "https://plot.ly"
       },
       "data": [
        {
         "line": {
          "color": "LightSkyBlue",
          "width": 2
         },
         "marker": {
          "angleref": "previous",
          "color": "MediumPurple",
          "size": 10,
          "symbol": "arrow"
         },
         "mode": "lines+markers",
         "name": "Flight Path",
         "type": "scatter",
         "x": [
          0,
          30,
          60,
          90,
          120,
          150,
          150,
          120,
          90,
          60,
          30,
          0,
          0,
          30,
          60,
          90,
          120,
          150,
          150,
          120,
          90,
          60,
          30,
          0,
          0,
          30,
          60,
          90,
          120,
          150,
          150,
          120,
          90,
          60,
          30,
          0,
          0,
          30,
          60,
          90,
          120,
          150,
          150,
          120,
          90,
          60,
          30,
          0
         ],
         "y": [
          0,
          0,
          0,
          0,
          0,
          0,
          21.428571428571427,
          21.428571428571427,
          21.428571428571427,
          21.428571428571427,
          21.428571428571427,
          21.428571428571427,
          42.857142857142854,
          42.857142857142854,
          42.857142857142854,
          42.857142857142854,
          42.857142857142854,
          42.857142857142854,
          64.28571428571428,
          64.28571428571428,
          64.28571428571428,
          64.28571428571428,
          64.28571428571428,
          64.28571428571428,
          85.71428571428571,
          85.71428571428571,
          85.71428571428571,
          85.71428571428571,
          85.71428571428571,
          85.71428571428571,
          107.14285714285714,
          107.14285714285714,
          107.14285714285714,
          107.14285714285714,
          107.14285714285714,
          107.14285714285714,
          128.57142857142856,
          128.57142857142856,
          128.57142857142856,
          128.57142857142856,
          128.57142857142856,
          128.57142857142856,
          150,
          150,
          150,
          150,
          150,
          150
         ]
        }
       ],
       "layout": {
        "hovermode": "closest",
        "template": {
         "data": {
          "bar": [
           {
            "error_x": {
             "color": "#2a3f5f"
            },
            "error_y": {
             "color": "#2a3f5f"
            },
            "marker": {
             "line": {
              "color": "#E5ECF6",
              "width": 0.5
             },
             "pattern": {
              "fillmode": "overlay",
              "size": 10,
              "solidity": 0.2
             }
            },
            "type": "bar"
           }
          ],
          "barpolar": [
           {
            "marker": {
             "line": {
              "color": "#E5ECF6",
              "width": 0.5
             },
             "pattern": {
              "fillmode": "overlay",
              "size": 10,
              "solidity": 0.2
             }
            },
            "type": "barpolar"
           }
          ],
          "carpet": [
           {
            "aaxis": {
             "endlinecolor": "#2a3f5f",
             "gridcolor": "white",
             "linecolor": "white",
             "minorgridcolor": "white",
             "startlinecolor": "#2a3f5f"
            },
            "baxis": {
             "endlinecolor": "#2a3f5f",
             "gridcolor": "white",
             "linecolor": "white",
             "minorgridcolor": "white",
             "startlinecolor": "#2a3f5f"
            },
            "type": "carpet"
           }
          ],
          "choropleth": [
           {
            "colorbar": {
             "outlinewidth": 0,
             "ticks": ""
            },
            "type": "choropleth"
           }
          ],
          "contour": [
           {
            "colorbar": {
             "outlinewidth": 0,
             "ticks": ""
            },
            "colorscale": [
             [
              0,
              "#0d0887"
             ],
             [
              0.1111111111111111,
              "#46039f"
             ],
             [
              0.2222222222222222,
              "#7201a8"
             ],
             [
              0.3333333333333333,
              "#9c179e"
             ],
             [
              0.4444444444444444,
              "#bd3786"
             ],
             [
              0.5555555555555556,
              "#d8576b"
             ],
             [
              0.6666666666666666,
              "#ed7953"
             ],
             [
              0.7777777777777778,
              "#fb9f3a"
             ],
             [
              0.8888888888888888,
              "#fdca26"
             ],
             [
              1,
              "#f0f921"
             ]
            ],
            "type": "contour"
           }
          ],
          "contourcarpet": [
           {
            "colorbar": {
             "outlinewidth": 0,
             "ticks": ""
            },
            "type": "contourcarpet"
           }
          ],
          "heatmap": [
           {
            "colorbar": {
             "outlinewidth": 0,
             "ticks": ""
            },
            "colorscale": [
             [
              0,
              "#0d0887"
             ],
             [
              0.1111111111111111,
              "#46039f"
             ],
             [
              0.2222222222222222,
              "#7201a8"
             ],
             [
              0.3333333333333333,
              "#9c179e"
             ],
             [
              0.4444444444444444,
              "#bd3786"
             ],
             [
              0.5555555555555556,
              "#d8576b"
             ],
             [
              0.6666666666666666,
              "#ed7953"
             ],
             [
              0.7777777777777778,
              "#fb9f3a"
             ],
             [
              0.8888888888888888,
              "#fdca26"
             ],
             [
              1,
              "#f0f921"
             ]
            ],
            "type": "heatmap"
           }
          ],
          "heatmapgl": [
           {
            "colorbar": {
             "outlinewidth": 0,
             "ticks": ""
            },
            "colorscale": [
             [
              0,
              "#0d0887"
             ],
             [
              0.1111111111111111,
              "#46039f"
             ],
             [
              0.2222222222222222,
              "#7201a8"
             ],
             [
              0.3333333333333333,
              "#9c179e"
             ],
             [
              0.4444444444444444,
              "#bd3786"
             ],
             [
              0.5555555555555556,
              "#d8576b"
             ],
             [
              0.6666666666666666,
              "#ed7953"
             ],
             [
              0.7777777777777778,
              "#fb9f3a"
             ],
             [
              0.8888888888888888,
              "#fdca26"
             ],
             [
              1,
              "#f0f921"
             ]
            ],
            "type": "heatmapgl"
           }
          ],
          "histogram": [
           {
            "marker": {
             "pattern": {
              "fillmode": "overlay",
              "size": 10,
              "solidity": 0.2
             }
            },
            "type": "histogram"
           }
          ],
          "histogram2d": [
           {
            "colorbar": {
             "outlinewidth": 0,
             "ticks": ""
            },
            "colorscale": [
             [
              0,
              "#0d0887"
             ],
             [
              0.1111111111111111,
              "#46039f"
             ],
             [
              0.2222222222222222,
              "#7201a8"
             ],
             [
              0.3333333333333333,
              "#9c179e"
             ],
             [
              0.4444444444444444,
              "#bd3786"
             ],
             [
              0.5555555555555556,
              "#d8576b"
             ],
             [
              0.6666666666666666,
              "#ed7953"
             ],
             [
              0.7777777777777778,
              "#fb9f3a"
             ],
             [
              0.8888888888888888,
              "#fdca26"
             ],
             [
              1,
              "#f0f921"
             ]
            ],
            "type": "histogram2d"
           }
          ],
          "histogram2dcontour": [
           {
            "colorbar": {
             "outlinewidth": 0,
             "ticks": ""
            },
            "colorscale": [
             [
              0,
              "#0d0887"
             ],
             [
              0.1111111111111111,
              "#46039f"
             ],
             [
              0.2222222222222222,
              "#7201a8"
             ],
             [
              0.3333333333333333,
              "#9c179e"
             ],
             [
              0.4444444444444444,
              "#bd3786"
             ],
             [
              0.5555555555555556,
              "#d8576b"
             ],
             [
              0.6666666666666666,
              "#ed7953"
             ],
             [
              0.7777777777777778,
              "#fb9f3a"
             ],
             [
              0.8888888888888888,
              "#fdca26"
             ],
             [
              1,
              "#f0f921"
             ]
            ],
            "type": "histogram2dcontour"
           }
          ],
          "mesh3d": [
           {
            "colorbar": {
             "outlinewidth": 0,
             "ticks": ""
            },
            "type": "mesh3d"
           }
          ],
          "parcoords": [
           {
            "line": {
             "colorbar": {
              "outlinewidth": 0,
              "ticks": ""
             }
            },
            "type": "parcoords"
           }
          ],
          "pie": [
           {
            "automargin": true,
            "type": "pie"
           }
          ],
          "scatter": [
           {
            "fillpattern": {
             "fillmode": "overlay",
             "size": 10,
             "solidity": 0.2
            },
            "type": "scatter"
           }
          ],
          "scatter3d": [
           {
            "line": {
             "colorbar": {
              "outlinewidth": 0,
              "ticks": ""
             }
            },
            "marker": {
             "colorbar": {
              "outlinewidth": 0,
              "ticks": ""
             }
            },
            "type": "scatter3d"
           }
          ],
          "scattercarpet": [
           {
            "marker": {
             "colorbar": {
              "outlinewidth": 0,
              "ticks": ""
             }
            },
            "type": "scattercarpet"
           }
          ],
          "scattergeo": [
           {
            "marker": {
             "colorbar": {
              "outlinewidth": 0,
              "ticks": ""
             }
            },
            "type": "scattergeo"
           }
          ],
          "scattergl": [
           {
            "marker": {
             "colorbar": {
              "outlinewidth": 0,
              "ticks": ""
             }
            },
            "type": "scattergl"
           }
          ],
          "scattermapbox": [
           {
            "marker": {
             "colorbar": {
              "outlinewidth": 0,
              "ticks": ""
             }
            },
            "type": "scattermapbox"
           }
          ],
          "scatterpolar": [
           {
            "marker": {
             "colorbar": {
              "outlinewidth": 0,
              "ticks": ""
             }
            },
            "type": "scatterpolar"
           }
          ],
          "scatterpolargl": [
           {
            "marker": {
             "colorbar": {
              "outlinewidth": 0,
              "ticks": ""
             }
            },
            "type": "scatterpolargl"
           }
          ],
          "scatterternary": [
           {
            "marker": {
             "colorbar": {
              "outlinewidth": 0,
              "ticks": ""
             }
            },
            "type": "scatterternary"
           }
          ],
          "surface": [
           {
            "colorbar": {
             "outlinewidth": 0,
             "ticks": ""
            },
            "colorscale": [
             [
              0,
              "#0d0887"
             ],
             [
              0.1111111111111111,
              "#46039f"
             ],
             [
              0.2222222222222222,
              "#7201a8"
             ],
             [
              0.3333333333333333,
              "#9c179e"
             ],
             [
              0.4444444444444444,
              "#bd3786"
             ],
             [
              0.5555555555555556,
              "#d8576b"
             ],
             [
              0.6666666666666666,
              "#ed7953"
             ],
             [
              0.7777777777777778,
              "#fb9f3a"
             ],
             [
              0.8888888888888888,
              "#fdca26"
             ],
             [
              1,
              "#f0f921"
             ]
            ],
            "type": "surface"
           }
          ],
          "table": [
           {
            "cells": {
             "fill": {
              "color": "#EBF0F8"
             },
             "line": {
              "color": "white"
             }
            },
            "header": {
             "fill": {
              "color": "#C8D4E3"
             },
             "line": {
              "color": "white"
             }
            },
            "type": "table"
           }
          ]
         },
         "layout": {
          "annotationdefaults": {
           "arrowcolor": "#2a3f5f",
           "arrowhead": 0,
           "arrowwidth": 1
          },
          "autotypenumbers": "strict",
          "coloraxis": {
           "colorbar": {
            "outlinewidth": 0,
            "ticks": ""
           }
          },
          "colorscale": {
           "diverging": [
            [
             0,
             "#8e0152"
            ],
            [
             0.1,
             "#c51b7d"
            ],
            [
             0.2,
             "#de77ae"
            ],
            [
             0.3,
             "#f1b6da"
            ],
            [
             0.4,
             "#fde0ef"
            ],
            [
             0.5,
             "#f7f7f7"
            ],
            [
             0.6,
             "#e6f5d0"
            ],
            [
             0.7,
             "#b8e186"
            ],
            [
             0.8,
             "#7fbc41"
            ],
            [
             0.9,
             "#4d9221"
            ],
            [
             1,
             "#276419"
            ]
           ],
           "sequential": [
            [
             0,
             "#0d0887"
            ],
            [
             0.1111111111111111,
             "#46039f"
            ],
            [
             0.2222222222222222,
             "#7201a8"
            ],
            [
             0.3333333333333333,
             "#9c179e"
            ],
            [
             0.4444444444444444,
             "#bd3786"
            ],
            [
             0.5555555555555556,
             "#d8576b"
            ],
            [
             0.6666666666666666,
             "#ed7953"
            ],
            [
             0.7777777777777778,
             "#fb9f3a"
            ],
            [
             0.8888888888888888,
             "#fdca26"
            ],
            [
             1,
             "#f0f921"
            ]
           ],
           "sequentialminus": [
            [
             0,
             "#0d0887"
            ],
            [
             0.1111111111111111,
             "#46039f"
            ],
            [
             0.2222222222222222,
             "#7201a8"
            ],
            [
             0.3333333333333333,
             "#9c179e"
            ],
            [
             0.4444444444444444,
             "#bd3786"
            ],
            [
             0.5555555555555556,
             "#d8576b"
            ],
            [
             0.6666666666666666,
             "#ed7953"
            ],
            [
             0.7777777777777778,
             "#fb9f3a"
            ],
            [
             0.8888888888888888,
             "#fdca26"
            ],
            [
             1,
             "#f0f921"
            ]
           ]
          },
          "colorway": [
           "#636efa",
           "#EF553B",
           "#00cc96",
           "#ab63fa",
           "#FFA15A",
           "#19d3f3",
           "#FF6692",
           "#B6E880",
           "#FF97FF",
           "#FECB52"
          ],
          "font": {
           "color": "#2a3f5f"
          },
          "geo": {
           "bgcolor": "white",
           "lakecolor": "white",
           "landcolor": "#E5ECF6",
           "showlakes": true,
           "showland": true,
           "subunitcolor": "white"
          },
          "hoverlabel": {
           "align": "left"
          },
          "hovermode": "closest",
          "mapbox": {
           "style": "light"
          },
          "paper_bgcolor": "white",
          "plot_bgcolor": "#E5ECF6",
          "polar": {
           "angularaxis": {
            "gridcolor": "white",
            "linecolor": "white",
            "ticks": ""
           },
           "bgcolor": "#E5ECF6",
           "radialaxis": {
            "gridcolor": "white",
            "linecolor": "white",
            "ticks": ""
           }
          },
          "scene": {
           "xaxis": {
            "backgroundcolor": "#E5ECF6",
            "gridcolor": "white",
            "gridwidth": 2,
            "linecolor": "white",
            "showbackground": true,
            "ticks": "",
            "zerolinecolor": "white"
           },
           "yaxis": {
            "backgroundcolor": "#E5ECF6",
            "gridcolor": "white",
            "gridwidth": 2,
            "linecolor": "white",
            "showbackground": true,
            "ticks": "",
            "zerolinecolor": "white"
           },
           "zaxis": {
            "backgroundcolor": "#E5ECF6",
            "gridcolor": "white",
            "gridwidth": 2,
            "linecolor": "white",
            "showbackground": true,
            "ticks": "",
            "zerolinecolor": "white"
           }
          },
          "shapedefaults": {
           "line": {
            "color": "#2a3f5f"
           }
          },
          "ternary": {
           "aaxis": {
            "gridcolor": "white",
            "linecolor": "white",
            "ticks": ""
           },
           "baxis": {
            "gridcolor": "white",
            "linecolor": "white",
            "ticks": ""
           },
           "bgcolor": "#E5ECF6",
           "caxis": {
            "gridcolor": "white",
            "linecolor": "white",
            "ticks": ""
           }
          },
          "title": {
           "x": 0.05
          },
          "xaxis": {
           "automargin": true,
           "gridcolor": "white",
           "linecolor": "white",
           "ticks": "",
           "title": {
            "standoff": 15
           },
           "zerolinecolor": "white",
           "zerolinewidth": 2
          },
          "yaxis": {
           "automargin": true,
           "gridcolor": "white",
           "linecolor": "white",
           "ticks": "",
           "title": {
            "standoff": 15
           },
           "zerolinecolor": "white",
           "zerolinewidth": 2
          }
         }
        },
        "title": {
         "text": "Drone Flight Plan<br><sup>Height (Z): 60.96m | Capture Speed: 6.17 m/s</sup>"
        },
        "xaxis": {
         "title": {
          "text": "X-coordinate (m)"
         }
        },
        "yaxis": {
         "scaleanchor": "x",
         "scaleratio": 1,
         "title": {
          "text": "Y-coordinate (m)"
         }
        }
       }
      }
     },
     "metadata": {},
     "output_type": "display_data"
    }
   ],
   "source": [
    "# Ablation 3\n",
    "print(\"\\nAblation 3: Double Height\")\n",
    "camera_abl3 = copy.deepcopy(camera_x10)\n",
    "dataset_spec_abl3 = copy.deepcopy(dataset_spec)\n",
    "dataset_spec_abl3.height = dataset_spec.height * 2 # Double the height\n",
    "\n",
    "plan_abl3 = generate_photo_plan_on_grid(camera_abl3, dataset_spec_abl3)\n",
    "print(f\"Generated {len(plan_abl3)} waypoints.\")\n",
    "fig_abl3 = plot_photo_plan(plan_abl3)\n",
    "fig_abl3.show()\n",
    "\n"
   ]
  },
  {
   "cell_type": "markdown",
   "id": "f34558ce",
   "metadata": {},
   "source": [
    "### <font color='crimson'>Ablation 4: Increase Exposure Time</font>\n",
    "\n",
    "*   **Change:** Increase `dataset_spec.exposure_time_ms` from the baseline (2ms) to 1000ms.\n",
    "*   **Observation:** The plotted flight path (waypoint positions and density) appears identical to the baseline plan. However, the \"Capture Speed\" value displayed in the plot title has decreased dramatically.\n",
    "*   **Reasoning:** Exposure time dictates how long the camera shutter is open. It directly influences the maximum speed allowed *during* capture to avoid motion blur but does not affect the geometric layout (waypoint positions) needed to achieve the desired ground coverage and overlap.\n",
    "*   **Implication:** Longer exposure times (needed in low light) force the drone to fly much slower *at the moment of capture*, even if the path itself doesn't change. This can significantly increase the total mission duration compared to flying the same path in bright conditions with short exposures.\n"
   ]
  },
  {
   "cell_type": "code",
   "execution_count": 68,
   "id": "4de48d2a",
   "metadata": {},
   "outputs": [
    {
     "name": "stdout",
     "output_type": "stream",
     "text": [
      "\n",
      "Ablation 4: Increase Exposure Time to 1000ms\n",
      "Generated 165 waypoints.\n"
     ]
    },
    {
     "data": {
      "application/vnd.plotly.v1+json": {
       "config": {
        "plotlyServerURL": "https://plot.ly"
       },
       "data": [
        {
         "line": {
          "color": "LightSkyBlue",
          "width": 2
         },
         "marker": {
          "angleref": "previous",
          "color": "MediumPurple",
          "size": 10,
          "symbol": "arrow"
         },
         "mode": "lines+markers",
         "name": "Flight Path",
         "type": "scatter",
         "x": [
          0,
          15,
          30,
          45,
          60,
          75,
          90,
          105,
          120,
          135,
          150,
          150,
          135,
          120,
          105,
          90,
          75,
          60,
          45,
          30,
          15,
          0,
          0,
          15,
          30,
          45,
          60,
          75,
          90,
          105,
          120,
          135,
          150,
          150,
          135,
          120,
          105,
          90,
          75,
          60,
          45,
          30,
          15,
          0,
          0,
          15,
          30,
          45,
          60,
          75,
          90,
          105,
          120,
          135,
          150,
          150,
          135,
          120,
          105,
          90,
          75,
          60,
          45,
          30,
          15,
          0,
          0,
          15,
          30,
          45,
          60,
          75,
          90,
          105,
          120,
          135,
          150,
          150,
          135,
          120,
          105,
          90,
          75,
          60,
          45,
          30,
          15,
          0,
          0,
          15,
          30,
          45,
          60,
          75,
          90,
          105,
          120,
          135,
          150,
          150,
          135,
          120,
          105,
          90,
          75,
          60,
          45,
          30,
          15,
          0,
          0,
          15,
          30,
          45,
          60,
          75,
          90,
          105,
          120,
          135,
          150,
          150,
          135,
          120,
          105,
          90,
          75,
          60,
          45,
          30,
          15,
          0,
          0,
          15,
          30,
          45,
          60,
          75,
          90,
          105,
          120,
          135,
          150,
          150,
          135,
          120,
          105,
          90,
          75,
          60,
          45,
          30,
          15,
          0,
          0,
          15,
          30,
          45,
          60,
          75,
          90,
          105,
          120,
          135,
          150
         ],
         "y": [
          0,
          0,
          0,
          0,
          0,
          0,
          0,
          0,
          0,
          0,
          0,
          10.714285714285714,
          10.714285714285714,
          10.714285714285714,
          10.714285714285714,
          10.714285714285714,
          10.714285714285714,
          10.714285714285714,
          10.714285714285714,
          10.714285714285714,
          10.714285714285714,
          10.714285714285714,
          21.428571428571427,
          21.428571428571427,
          21.428571428571427,
          21.428571428571427,
          21.428571428571427,
          21.428571428571427,
          21.428571428571427,
          21.428571428571427,
          21.428571428571427,
          21.428571428571427,
          21.428571428571427,
          32.14285714285714,
          32.14285714285714,
          32.14285714285714,
          32.14285714285714,
          32.14285714285714,
          32.14285714285714,
          32.14285714285714,
          32.14285714285714,
          32.14285714285714,
          32.14285714285714,
          32.14285714285714,
          42.857142857142854,
          42.857142857142854,
          42.857142857142854,
          42.857142857142854,
          42.857142857142854,
          42.857142857142854,
          42.857142857142854,
          42.857142857142854,
          42.857142857142854,
          42.857142857142854,
          42.857142857142854,
          53.57142857142857,
          53.57142857142857,
          53.57142857142857,
          53.57142857142857,
          53.57142857142857,
          53.57142857142857,
          53.57142857142857,
          53.57142857142857,
          53.57142857142857,
          53.57142857142857,
          53.57142857142857,
          64.28571428571428,
          64.28571428571428,
          64.28571428571428,
          64.28571428571428,
          64.28571428571428,
          64.28571428571428,
          64.28571428571428,
          64.28571428571428,
          64.28571428571428,
          64.28571428571428,
          64.28571428571428,
          75,
          75,
          75,
          75,
          75,
          75,
          75,
          75,
          75,
          75,
          75,
          85.71428571428571,
          85.71428571428571,
          85.71428571428571,
          85.71428571428571,
          85.71428571428571,
          85.71428571428571,
          85.71428571428571,
          85.71428571428571,
          85.71428571428571,
          85.71428571428571,
          85.71428571428571,
          96.42857142857142,
          96.42857142857142,
          96.42857142857142,
          96.42857142857142,
          96.42857142857142,
          96.42857142857142,
          96.42857142857142,
          96.42857142857142,
          96.42857142857142,
          96.42857142857142,
          96.42857142857142,
          107.14285714285714,
          107.14285714285714,
          107.14285714285714,
          107.14285714285714,
          107.14285714285714,
          107.14285714285714,
          107.14285714285714,
          107.14285714285714,
          107.14285714285714,
          107.14285714285714,
          107.14285714285714,
          117.85714285714285,
          117.85714285714285,
          117.85714285714285,
          117.85714285714285,
          117.85714285714285,
          117.85714285714285,
          117.85714285714285,
          117.85714285714285,
          117.85714285714285,
          117.85714285714285,
          117.85714285714285,
          128.57142857142856,
          128.57142857142856,
          128.57142857142856,
          128.57142857142856,
          128.57142857142856,
          128.57142857142856,
          128.57142857142856,
          128.57142857142856,
          128.57142857142856,
          128.57142857142856,
          128.57142857142856,
          139.28571428571428,
          139.28571428571428,
          139.28571428571428,
          139.28571428571428,
          139.28571428571428,
          139.28571428571428,
          139.28571428571428,
          139.28571428571428,
          139.28571428571428,
          139.28571428571428,
          139.28571428571428,
          150,
          150,
          150,
          150,
          150,
          150,
          150,
          150,
          150,
          150,
          150
         ]
        }
       ],
       "layout": {
        "hovermode": "closest",
        "template": {
         "data": {
          "bar": [
           {
            "error_x": {
             "color": "#2a3f5f"
            },
            "error_y": {
             "color": "#2a3f5f"
            },
            "marker": {
             "line": {
              "color": "#E5ECF6",
              "width": 0.5
             },
             "pattern": {
              "fillmode": "overlay",
              "size": 10,
              "solidity": 0.2
             }
            },
            "type": "bar"
           }
          ],
          "barpolar": [
           {
            "marker": {
             "line": {
              "color": "#E5ECF6",
              "width": 0.5
             },
             "pattern": {
              "fillmode": "overlay",
              "size": 10,
              "solidity": 0.2
             }
            },
            "type": "barpolar"
           }
          ],
          "carpet": [
           {
            "aaxis": {
             "endlinecolor": "#2a3f5f",
             "gridcolor": "white",
             "linecolor": "white",
             "minorgridcolor": "white",
             "startlinecolor": "#2a3f5f"
            },
            "baxis": {
             "endlinecolor": "#2a3f5f",
             "gridcolor": "white",
             "linecolor": "white",
             "minorgridcolor": "white",
             "startlinecolor": "#2a3f5f"
            },
            "type": "carpet"
           }
          ],
          "choropleth": [
           {
            "colorbar": {
             "outlinewidth": 0,
             "ticks": ""
            },
            "type": "choropleth"
           }
          ],
          "contour": [
           {
            "colorbar": {
             "outlinewidth": 0,
             "ticks": ""
            },
            "colorscale": [
             [
              0,
              "#0d0887"
             ],
             [
              0.1111111111111111,
              "#46039f"
             ],
             [
              0.2222222222222222,
              "#7201a8"
             ],
             [
              0.3333333333333333,
              "#9c179e"
             ],
             [
              0.4444444444444444,
              "#bd3786"
             ],
             [
              0.5555555555555556,
              "#d8576b"
             ],
             [
              0.6666666666666666,
              "#ed7953"
             ],
             [
              0.7777777777777778,
              "#fb9f3a"
             ],
             [
              0.8888888888888888,
              "#fdca26"
             ],
             [
              1,
              "#f0f921"
             ]
            ],
            "type": "contour"
           }
          ],
          "contourcarpet": [
           {
            "colorbar": {
             "outlinewidth": 0,
             "ticks": ""
            },
            "type": "contourcarpet"
           }
          ],
          "heatmap": [
           {
            "colorbar": {
             "outlinewidth": 0,
             "ticks": ""
            },
            "colorscale": [
             [
              0,
              "#0d0887"
             ],
             [
              0.1111111111111111,
              "#46039f"
             ],
             [
              0.2222222222222222,
              "#7201a8"
             ],
             [
              0.3333333333333333,
              "#9c179e"
             ],
             [
              0.4444444444444444,
              "#bd3786"
             ],
             [
              0.5555555555555556,
              "#d8576b"
             ],
             [
              0.6666666666666666,
              "#ed7953"
             ],
             [
              0.7777777777777778,
              "#fb9f3a"
             ],
             [
              0.8888888888888888,
              "#fdca26"
             ],
             [
              1,
              "#f0f921"
             ]
            ],
            "type": "heatmap"
           }
          ],
          "heatmapgl": [
           {
            "colorbar": {
             "outlinewidth": 0,
             "ticks": ""
            },
            "colorscale": [
             [
              0,
              "#0d0887"
             ],
             [
              0.1111111111111111,
              "#46039f"
             ],
             [
              0.2222222222222222,
              "#7201a8"
             ],
             [
              0.3333333333333333,
              "#9c179e"
             ],
             [
              0.4444444444444444,
              "#bd3786"
             ],
             [
              0.5555555555555556,
              "#d8576b"
             ],
             [
              0.6666666666666666,
              "#ed7953"
             ],
             [
              0.7777777777777778,
              "#fb9f3a"
             ],
             [
              0.8888888888888888,
              "#fdca26"
             ],
             [
              1,
              "#f0f921"
             ]
            ],
            "type": "heatmapgl"
           }
          ],
          "histogram": [
           {
            "marker": {
             "pattern": {
              "fillmode": "overlay",
              "size": 10,
              "solidity": 0.2
             }
            },
            "type": "histogram"
           }
          ],
          "histogram2d": [
           {
            "colorbar": {
             "outlinewidth": 0,
             "ticks": ""
            },
            "colorscale": [
             [
              0,
              "#0d0887"
             ],
             [
              0.1111111111111111,
              "#46039f"
             ],
             [
              0.2222222222222222,
              "#7201a8"
             ],
             [
              0.3333333333333333,
              "#9c179e"
             ],
             [
              0.4444444444444444,
              "#bd3786"
             ],
             [
              0.5555555555555556,
              "#d8576b"
             ],
             [
              0.6666666666666666,
              "#ed7953"
             ],
             [
              0.7777777777777778,
              "#fb9f3a"
             ],
             [
              0.8888888888888888,
              "#fdca26"
             ],
             [
              1,
              "#f0f921"
             ]
            ],
            "type": "histogram2d"
           }
          ],
          "histogram2dcontour": [
           {
            "colorbar": {
             "outlinewidth": 0,
             "ticks": ""
            },
            "colorscale": [
             [
              0,
              "#0d0887"
             ],
             [
              0.1111111111111111,
              "#46039f"
             ],
             [
              0.2222222222222222,
              "#7201a8"
             ],
             [
              0.3333333333333333,
              "#9c179e"
             ],
             [
              0.4444444444444444,
              "#bd3786"
             ],
             [
              0.5555555555555556,
              "#d8576b"
             ],
             [
              0.6666666666666666,
              "#ed7953"
             ],
             [
              0.7777777777777778,
              "#fb9f3a"
             ],
             [
              0.8888888888888888,
              "#fdca26"
             ],
             [
              1,
              "#f0f921"
             ]
            ],
            "type": "histogram2dcontour"
           }
          ],
          "mesh3d": [
           {
            "colorbar": {
             "outlinewidth": 0,
             "ticks": ""
            },
            "type": "mesh3d"
           }
          ],
          "parcoords": [
           {
            "line": {
             "colorbar": {
              "outlinewidth": 0,
              "ticks": ""
             }
            },
            "type": "parcoords"
           }
          ],
          "pie": [
           {
            "automargin": true,
            "type": "pie"
           }
          ],
          "scatter": [
           {
            "fillpattern": {
             "fillmode": "overlay",
             "size": 10,
             "solidity": 0.2
            },
            "type": "scatter"
           }
          ],
          "scatter3d": [
           {
            "line": {
             "colorbar": {
              "outlinewidth": 0,
              "ticks": ""
             }
            },
            "marker": {
             "colorbar": {
              "outlinewidth": 0,
              "ticks": ""
             }
            },
            "type": "scatter3d"
           }
          ],
          "scattercarpet": [
           {
            "marker": {
             "colorbar": {
              "outlinewidth": 0,
              "ticks": ""
             }
            },
            "type": "scattercarpet"
           }
          ],
          "scattergeo": [
           {
            "marker": {
             "colorbar": {
              "outlinewidth": 0,
              "ticks": ""
             }
            },
            "type": "scattergeo"
           }
          ],
          "scattergl": [
           {
            "marker": {
             "colorbar": {
              "outlinewidth": 0,
              "ticks": ""
             }
            },
            "type": "scattergl"
           }
          ],
          "scattermapbox": [
           {
            "marker": {
             "colorbar": {
              "outlinewidth": 0,
              "ticks": ""
             }
            },
            "type": "scattermapbox"
           }
          ],
          "scatterpolar": [
           {
            "marker": {
             "colorbar": {
              "outlinewidth": 0,
              "ticks": ""
             }
            },
            "type": "scatterpolar"
           }
          ],
          "scatterpolargl": [
           {
            "marker": {
             "colorbar": {
              "outlinewidth": 0,
              "ticks": ""
             }
            },
            "type": "scatterpolargl"
           }
          ],
          "scatterternary": [
           {
            "marker": {
             "colorbar": {
              "outlinewidth": 0,
              "ticks": ""
             }
            },
            "type": "scatterternary"
           }
          ],
          "surface": [
           {
            "colorbar": {
             "outlinewidth": 0,
             "ticks": ""
            },
            "colorscale": [
             [
              0,
              "#0d0887"
             ],
             [
              0.1111111111111111,
              "#46039f"
             ],
             [
              0.2222222222222222,
              "#7201a8"
             ],
             [
              0.3333333333333333,
              "#9c179e"
             ],
             [
              0.4444444444444444,
              "#bd3786"
             ],
             [
              0.5555555555555556,
              "#d8576b"
             ],
             [
              0.6666666666666666,
              "#ed7953"
             ],
             [
              0.7777777777777778,
              "#fb9f3a"
             ],
             [
              0.8888888888888888,
              "#fdca26"
             ],
             [
              1,
              "#f0f921"
             ]
            ],
            "type": "surface"
           }
          ],
          "table": [
           {
            "cells": {
             "fill": {
              "color": "#EBF0F8"
             },
             "line": {
              "color": "white"
             }
            },
            "header": {
             "fill": {
              "color": "#C8D4E3"
             },
             "line": {
              "color": "white"
             }
            },
            "type": "table"
           }
          ]
         },
         "layout": {
          "annotationdefaults": {
           "arrowcolor": "#2a3f5f",
           "arrowhead": 0,
           "arrowwidth": 1
          },
          "autotypenumbers": "strict",
          "coloraxis": {
           "colorbar": {
            "outlinewidth": 0,
            "ticks": ""
           }
          },
          "colorscale": {
           "diverging": [
            [
             0,
             "#8e0152"
            ],
            [
             0.1,
             "#c51b7d"
            ],
            [
             0.2,
             "#de77ae"
            ],
            [
             0.3,
             "#f1b6da"
            ],
            [
             0.4,
             "#fde0ef"
            ],
            [
             0.5,
             "#f7f7f7"
            ],
            [
             0.6,
             "#e6f5d0"
            ],
            [
             0.7,
             "#b8e186"
            ],
            [
             0.8,
             "#7fbc41"
            ],
            [
             0.9,
             "#4d9221"
            ],
            [
             1,
             "#276419"
            ]
           ],
           "sequential": [
            [
             0,
             "#0d0887"
            ],
            [
             0.1111111111111111,
             "#46039f"
            ],
            [
             0.2222222222222222,
             "#7201a8"
            ],
            [
             0.3333333333333333,
             "#9c179e"
            ],
            [
             0.4444444444444444,
             "#bd3786"
            ],
            [
             0.5555555555555556,
             "#d8576b"
            ],
            [
             0.6666666666666666,
             "#ed7953"
            ],
            [
             0.7777777777777778,
             "#fb9f3a"
            ],
            [
             0.8888888888888888,
             "#fdca26"
            ],
            [
             1,
             "#f0f921"
            ]
           ],
           "sequentialminus": [
            [
             0,
             "#0d0887"
            ],
            [
             0.1111111111111111,
             "#46039f"
            ],
            [
             0.2222222222222222,
             "#7201a8"
            ],
            [
             0.3333333333333333,
             "#9c179e"
            ],
            [
             0.4444444444444444,
             "#bd3786"
            ],
            [
             0.5555555555555556,
             "#d8576b"
            ],
            [
             0.6666666666666666,
             "#ed7953"
            ],
            [
             0.7777777777777778,
             "#fb9f3a"
            ],
            [
             0.8888888888888888,
             "#fdca26"
            ],
            [
             1,
             "#f0f921"
            ]
           ]
          },
          "colorway": [
           "#636efa",
           "#EF553B",
           "#00cc96",
           "#ab63fa",
           "#FFA15A",
           "#19d3f3",
           "#FF6692",
           "#B6E880",
           "#FF97FF",
           "#FECB52"
          ],
          "font": {
           "color": "#2a3f5f"
          },
          "geo": {
           "bgcolor": "white",
           "lakecolor": "white",
           "landcolor": "#E5ECF6",
           "showlakes": true,
           "showland": true,
           "subunitcolor": "white"
          },
          "hoverlabel": {
           "align": "left"
          },
          "hovermode": "closest",
          "mapbox": {
           "style": "light"
          },
          "paper_bgcolor": "white",
          "plot_bgcolor": "#E5ECF6",
          "polar": {
           "angularaxis": {
            "gridcolor": "white",
            "linecolor": "white",
            "ticks": ""
           },
           "bgcolor": "#E5ECF6",
           "radialaxis": {
            "gridcolor": "white",
            "linecolor": "white",
            "ticks": ""
           }
          },
          "scene": {
           "xaxis": {
            "backgroundcolor": "#E5ECF6",
            "gridcolor": "white",
            "gridwidth": 2,
            "linecolor": "white",
            "showbackground": true,
            "ticks": "",
            "zerolinecolor": "white"
           },
           "yaxis": {
            "backgroundcolor": "#E5ECF6",
            "gridcolor": "white",
            "gridwidth": 2,
            "linecolor": "white",
            "showbackground": true,
            "ticks": "",
            "zerolinecolor": "white"
           },
           "zaxis": {
            "backgroundcolor": "#E5ECF6",
            "gridcolor": "white",
            "gridwidth": 2,
            "linecolor": "white",
            "showbackground": true,
            "ticks": "",
            "zerolinecolor": "white"
           }
          },
          "shapedefaults": {
           "line": {
            "color": "#2a3f5f"
           }
          },
          "ternary": {
           "aaxis": {
            "gridcolor": "white",
            "linecolor": "white",
            "ticks": ""
           },
           "baxis": {
            "gridcolor": "white",
            "linecolor": "white",
            "ticks": ""
           },
           "bgcolor": "#E5ECF6",
           "caxis": {
            "gridcolor": "white",
            "linecolor": "white",
            "ticks": ""
           }
          },
          "title": {
           "x": 0.05
          },
          "xaxis": {
           "automargin": true,
           "gridcolor": "white",
           "linecolor": "white",
           "ticks": "",
           "title": {
            "standoff": 15
           },
           "zerolinecolor": "white",
           "zerolinewidth": 2
          },
          "yaxis": {
           "automargin": true,
           "gridcolor": "white",
           "linecolor": "white",
           "ticks": "",
           "title": {
            "standoff": 15
           },
           "zerolinecolor": "white",
           "zerolinewidth": 2
          }
         }
        },
        "title": {
         "text": "Drone Flight Plan<br><sup>Height (Z): 30.48m | Capture Speed: 0.01 m/s</sup>"
        },
        "xaxis": {
         "title": {
          "text": "X-coordinate (m)"
         }
        },
        "yaxis": {
         "scaleanchor": "x",
         "scaleratio": 1,
         "title": {
          "text": "Y-coordinate (m)"
         }
        }
       }
      }
     },
     "metadata": {},
     "output_type": "display_data"
    }
   ],
   "source": [
    "# Ablation 4\n",
    "print(\"\\nAblation 4: Increase Exposure Time to 1000ms\")\n",
    "camera_abl4 = copy.deepcopy(camera_x10)\n",
    "dataset_spec_abl4 = copy.deepcopy(dataset_spec)\n",
    "dataset_spec_abl4.exposure_time_ms = 1000 # Drastically increase exposure time\n",
    "\n",
    "plan_abl4 = generate_photo_plan_on_grid(camera_abl4, dataset_spec_abl4)\n",
    "print(f\"Generated {len(plan_abl4)} waypoints.\")\n",
    "fig_abl4 = plot_photo_plan(plan_abl4)\n",
    "fig_abl4.show()\n"
   ]
  },
  {
   "cell_type": "markdown",
   "id": "7a6a142f",
   "metadata": {},
   "source": [
    "### <font color='rebeccapurple'>Ablation 5: Increase Focal Length (Simulated Zoom)</font>\n",
    "\n",
    "*   **Change:** Double the camera's focal length in pixels (`fx`, `fy`) in the copied `camera_` object. Keep `dataset_spec` at baseline.\n",
    "*   **Observation:** The flight grid becomes much denser in both X and Y directions. The spacing between waypoints along lines and between lines decreases significantly, resulting in a much higher total waypoint count.\n",
    "*   **Reasoning:** A higher focal length (in pixels, with sensor/image size constant) corresponds to a more \"zoomed-in\" view, meaning each photo captures a smaller area on the ground (smaller footprint). To maintain \n"
   ]
  },
  {
   "cell_type": "code",
   "execution_count": 72,
   "id": "341a73f6",
   "metadata": {},
   "outputs": [
    {
     "name": "stdout",
     "output_type": "stream",
     "text": [
      "\n",
      "Ablation 5: Double Focal Length (fx, fy)\n",
      "Modified Camera fx=9877.12, fy=9872.98\n",
      "Generated 588 waypoints.\n"
     ]
    },
    {
     "data": {
      "application/vnd.plotly.v1+json": {
       "config": {
        "plotlyServerURL": "https://plot.ly"
       },
       "data": [
        {
         "line": {
          "color": "LightSkyBlue",
          "width": 2
         },
         "marker": {
          "angleref": "previous",
          "color": "MediumPurple",
          "size": 10,
          "symbol": "arrow"
         },
         "mode": "lines+markers",
         "name": "Flight Path",
         "type": "scatter",
         "x": [
          0,
          7.5,
          15,
          22.5,
          30,
          37.5,
          45,
          52.5,
          60,
          67.5,
          75,
          82.5,
          90,
          97.5,
          105,
          112.5,
          120,
          127.5,
          135,
          142.5,
          150,
          150,
          142.5,
          135,
          127.5,
          120,
          112.5,
          105,
          97.5,
          90,
          82.5,
          75,
          67.5,
          60,
          52.5,
          45,
          37.5,
          30,
          22.5,
          15,
          7.5,
          0,
          0,
          7.5,
          15,
          22.5,
          30,
          37.5,
          45,
          52.5,
          60,
          67.5,
          75,
          82.5,
          90,
          97.5,
          105,
          112.5,
          120,
          127.5,
          135,
          142.5,
          150,
          150,
          142.5,
          135,
          127.5,
          120,
          112.5,
          105,
          97.5,
          90,
          82.5,
          75,
          67.5,
          60,
          52.5,
          45,
          37.5,
          30,
          22.5,
          15,
          7.5,
          0,
          0,
          7.5,
          15,
          22.5,
          30,
          37.5,
          45,
          52.5,
          60,
          67.5,
          75,
          82.5,
          90,
          97.5,
          105,
          112.5,
          120,
          127.5,
          135,
          142.5,
          150,
          150,
          142.5,
          135,
          127.5,
          120,
          112.5,
          105,
          97.5,
          90,
          82.5,
          75,
          67.5,
          60,
          52.5,
          45,
          37.5,
          30,
          22.5,
          15,
          7.5,
          0,
          0,
          7.5,
          15,
          22.5,
          30,
          37.5,
          45,
          52.5,
          60,
          67.5,
          75,
          82.5,
          90,
          97.5,
          105,
          112.5,
          120,
          127.5,
          135,
          142.5,
          150,
          150,
          142.5,
          135,
          127.5,
          120,
          112.5,
          105,
          97.5,
          90,
          82.5,
          75,
          67.5,
          60,
          52.5,
          45,
          37.5,
          30,
          22.5,
          15,
          7.5,
          0,
          0,
          7.5,
          15,
          22.5,
          30,
          37.5,
          45,
          52.5,
          60,
          67.5,
          75,
          82.5,
          90,
          97.5,
          105,
          112.5,
          120,
          127.5,
          135,
          142.5,
          150,
          150,
          142.5,
          135,
          127.5,
          120,
          112.5,
          105,
          97.5,
          90,
          82.5,
          75,
          67.5,
          60,
          52.5,
          45,
          37.5,
          30,
          22.5,
          15,
          7.5,
          0,
          0,
          7.5,
          15,
          22.5,
          30,
          37.5,
          45,
          52.5,
          60,
          67.5,
          75,
          82.5,
          90,
          97.5,
          105,
          112.5,
          120,
          127.5,
          135,
          142.5,
          150,
          150,
          142.5,
          135,
          127.5,
          120,
          112.5,
          105,
          97.5,
          90,
          82.5,
          75,
          67.5,
          60,
          52.5,
          45,
          37.5,
          30,
          22.5,
          15,
          7.5,
          0,
          0,
          7.5,
          15,
          22.5,
          30,
          37.5,
          45,
          52.5,
          60,
          67.5,
          75,
          82.5,
          90,
          97.5,
          105,
          112.5,
          120,
          127.5,
          135,
          142.5,
          150,
          150,
          142.5,
          135,
          127.5,
          120,
          112.5,
          105,
          97.5,
          90,
          82.5,
          75,
          67.5,
          60,
          52.5,
          45,
          37.5,
          30,
          22.5,
          15,
          7.5,
          0,
          0,
          7.5,
          15,
          22.5,
          30,
          37.5,
          45,
          52.5,
          60,
          67.5,
          75,
          82.5,
          90,
          97.5,
          105,
          112.5,
          120,
          127.5,
          135,
          142.5,
          150,
          150,
          142.5,
          135,
          127.5,
          120,
          112.5,
          105,
          97.5,
          90,
          82.5,
          75,
          67.5,
          60,
          52.5,
          45,
          37.5,
          30,
          22.5,
          15,
          7.5,
          0,
          0,
          7.5,
          15,
          22.5,
          30,
          37.5,
          45,
          52.5,
          60,
          67.5,
          75,
          82.5,
          90,
          97.5,
          105,
          112.5,
          120,
          127.5,
          135,
          142.5,
          150,
          150,
          142.5,
          135,
          127.5,
          120,
          112.5,
          105,
          97.5,
          90,
          82.5,
          75,
          67.5,
          60,
          52.5,
          45,
          37.5,
          30,
          22.5,
          15,
          7.5,
          0,
          0,
          7.5,
          15,
          22.5,
          30,
          37.5,
          45,
          52.5,
          60,
          67.5,
          75,
          82.5,
          90,
          97.5,
          105,
          112.5,
          120,
          127.5,
          135,
          142.5,
          150,
          150,
          142.5,
          135,
          127.5,
          120,
          112.5,
          105,
          97.5,
          90,
          82.5,
          75,
          67.5,
          60,
          52.5,
          45,
          37.5,
          30,
          22.5,
          15,
          7.5,
          0,
          0,
          7.5,
          15,
          22.5,
          30,
          37.5,
          45,
          52.5,
          60,
          67.5,
          75,
          82.5,
          90,
          97.5,
          105,
          112.5,
          120,
          127.5,
          135,
          142.5,
          150,
          150,
          142.5,
          135,
          127.5,
          120,
          112.5,
          105,
          97.5,
          90,
          82.5,
          75,
          67.5,
          60,
          52.5,
          45,
          37.5,
          30,
          22.5,
          15,
          7.5,
          0,
          0,
          7.5,
          15,
          22.5,
          30,
          37.5,
          45,
          52.5,
          60,
          67.5,
          75,
          82.5,
          90,
          97.5,
          105,
          112.5,
          120,
          127.5,
          135,
          142.5,
          150,
          150,
          142.5,
          135,
          127.5,
          120,
          112.5,
          105,
          97.5,
          90,
          82.5,
          75,
          67.5,
          60,
          52.5,
          45,
          37.5,
          30,
          22.5,
          15,
          7.5,
          0,
          0,
          7.5,
          15,
          22.5,
          30,
          37.5,
          45,
          52.5,
          60,
          67.5,
          75,
          82.5,
          90,
          97.5,
          105,
          112.5,
          120,
          127.5,
          135,
          142.5,
          150,
          150,
          142.5,
          135,
          127.5,
          120,
          112.5,
          105,
          97.5,
          90,
          82.5,
          75,
          67.5,
          60,
          52.5,
          45,
          37.5,
          30,
          22.5,
          15,
          7.5,
          0,
          0,
          7.5,
          15,
          22.5,
          30,
          37.5,
          45,
          52.5,
          60,
          67.5,
          75,
          82.5,
          90,
          97.5,
          105,
          112.5,
          120,
          127.5,
          135,
          142.5,
          150,
          150,
          142.5,
          135,
          127.5,
          120,
          112.5,
          105,
          97.5,
          90,
          82.5,
          75,
          67.5,
          60,
          52.5,
          45,
          37.5,
          30,
          22.5,
          15,
          7.5,
          0
         ],
         "y": [
          0,
          0,
          0,
          0,
          0,
          0,
          0,
          0,
          0,
          0,
          0,
          0,
          0,
          0,
          0,
          0,
          0,
          0,
          0,
          0,
          0,
          5.555555555555555,
          5.555555555555555,
          5.555555555555555,
          5.555555555555555,
          5.555555555555555,
          5.555555555555555,
          5.555555555555555,
          5.555555555555555,
          5.555555555555555,
          5.555555555555555,
          5.555555555555555,
          5.555555555555555,
          5.555555555555555,
          5.555555555555555,
          5.555555555555555,
          5.555555555555555,
          5.555555555555555,
          5.555555555555555,
          5.555555555555555,
          5.555555555555555,
          5.555555555555555,
          11.11111111111111,
          11.11111111111111,
          11.11111111111111,
          11.11111111111111,
          11.11111111111111,
          11.11111111111111,
          11.11111111111111,
          11.11111111111111,
          11.11111111111111,
          11.11111111111111,
          11.11111111111111,
          11.11111111111111,
          11.11111111111111,
          11.11111111111111,
          11.11111111111111,
          11.11111111111111,
          11.11111111111111,
          11.11111111111111,
          11.11111111111111,
          11.11111111111111,
          11.11111111111111,
          16.666666666666664,
          16.666666666666664,
          16.666666666666664,
          16.666666666666664,
          16.666666666666664,
          16.666666666666664,
          16.666666666666664,
          16.666666666666664,
          16.666666666666664,
          16.666666666666664,
          16.666666666666664,
          16.666666666666664,
          16.666666666666664,
          16.666666666666664,
          16.666666666666664,
          16.666666666666664,
          16.666666666666664,
          16.666666666666664,
          16.666666666666664,
          16.666666666666664,
          16.666666666666664,
          22.22222222222222,
          22.22222222222222,
          22.22222222222222,
          22.22222222222222,
          22.22222222222222,
          22.22222222222222,
          22.22222222222222,
          22.22222222222222,
          22.22222222222222,
          22.22222222222222,
          22.22222222222222,
          22.22222222222222,
          22.22222222222222,
          22.22222222222222,
          22.22222222222222,
          22.22222222222222,
          22.22222222222222,
          22.22222222222222,
          22.22222222222222,
          22.22222222222222,
          22.22222222222222,
          27.77777777777778,
          27.77777777777778,
          27.77777777777778,
          27.77777777777778,
          27.77777777777778,
          27.77777777777778,
          27.77777777777778,
          27.77777777777778,
          27.77777777777778,
          27.77777777777778,
          27.77777777777778,
          27.77777777777778,
          27.77777777777778,
          27.77777777777778,
          27.77777777777778,
          27.77777777777778,
          27.77777777777778,
          27.77777777777778,
          27.77777777777778,
          27.77777777777778,
          27.77777777777778,
          33.33333333333333,
          33.33333333333333,
          33.33333333333333,
          33.33333333333333,
          33.33333333333333,
          33.33333333333333,
          33.33333333333333,
          33.33333333333333,
          33.33333333333333,
          33.33333333333333,
          33.33333333333333,
          33.33333333333333,
          33.33333333333333,
          33.33333333333333,
          33.33333333333333,
          33.33333333333333,
          33.33333333333333,
          33.33333333333333,
          33.33333333333333,
          33.33333333333333,
          33.33333333333333,
          38.888888888888886,
          38.888888888888886,
          38.888888888888886,
          38.888888888888886,
          38.888888888888886,
          38.888888888888886,
          38.888888888888886,
          38.888888888888886,
          38.888888888888886,
          38.888888888888886,
          38.888888888888886,
          38.888888888888886,
          38.888888888888886,
          38.888888888888886,
          38.888888888888886,
          38.888888888888886,
          38.888888888888886,
          38.888888888888886,
          38.888888888888886,
          38.888888888888886,
          38.888888888888886,
          44.44444444444444,
          44.44444444444444,
          44.44444444444444,
          44.44444444444444,
          44.44444444444444,
          44.44444444444444,
          44.44444444444444,
          44.44444444444444,
          44.44444444444444,
          44.44444444444444,
          44.44444444444444,
          44.44444444444444,
          44.44444444444444,
          44.44444444444444,
          44.44444444444444,
          44.44444444444444,
          44.44444444444444,
          44.44444444444444,
          44.44444444444444,
          44.44444444444444,
          44.44444444444444,
          50,
          50,
          50,
          50,
          50,
          50,
          50,
          50,
          50,
          50,
          50,
          50,
          50,
          50,
          50,
          50,
          50,
          50,
          50,
          50,
          50,
          55.55555555555556,
          55.55555555555556,
          55.55555555555556,
          55.55555555555556,
          55.55555555555556,
          55.55555555555556,
          55.55555555555556,
          55.55555555555556,
          55.55555555555556,
          55.55555555555556,
          55.55555555555556,
          55.55555555555556,
          55.55555555555556,
          55.55555555555556,
          55.55555555555556,
          55.55555555555556,
          55.55555555555556,
          55.55555555555556,
          55.55555555555556,
          55.55555555555556,
          55.55555555555556,
          61.11111111111111,
          61.11111111111111,
          61.11111111111111,
          61.11111111111111,
          61.11111111111111,
          61.11111111111111,
          61.11111111111111,
          61.11111111111111,
          61.11111111111111,
          61.11111111111111,
          61.11111111111111,
          61.11111111111111,
          61.11111111111111,
          61.11111111111111,
          61.11111111111111,
          61.11111111111111,
          61.11111111111111,
          61.11111111111111,
          61.11111111111111,
          61.11111111111111,
          61.11111111111111,
          66.66666666666666,
          66.66666666666666,
          66.66666666666666,
          66.66666666666666,
          66.66666666666666,
          66.66666666666666,
          66.66666666666666,
          66.66666666666666,
          66.66666666666666,
          66.66666666666666,
          66.66666666666666,
          66.66666666666666,
          66.66666666666666,
          66.66666666666666,
          66.66666666666666,
          66.66666666666666,
          66.66666666666666,
          66.66666666666666,
          66.66666666666666,
          66.66666666666666,
          66.66666666666666,
          72.22222222222221,
          72.22222222222221,
          72.22222222222221,
          72.22222222222221,
          72.22222222222221,
          72.22222222222221,
          72.22222222222221,
          72.22222222222221,
          72.22222222222221,
          72.22222222222221,
          72.22222222222221,
          72.22222222222221,
          72.22222222222221,
          72.22222222222221,
          72.22222222222221,
          72.22222222222221,
          72.22222222222221,
          72.22222222222221,
          72.22222222222221,
          72.22222222222221,
          72.22222222222221,
          77.77777777777777,
          77.77777777777777,
          77.77777777777777,
          77.77777777777777,
          77.77777777777777,
          77.77777777777777,
          77.77777777777777,
          77.77777777777777,
          77.77777777777777,
          77.77777777777777,
          77.77777777777777,
          77.77777777777777,
          77.77777777777777,
          77.77777777777777,
          77.77777777777777,
          77.77777777777777,
          77.77777777777777,
          77.77777777777777,
          77.77777777777777,
          77.77777777777777,
          77.77777777777777,
          83.33333333333333,
          83.33333333333333,
          83.33333333333333,
          83.33333333333333,
          83.33333333333333,
          83.33333333333333,
          83.33333333333333,
          83.33333333333333,
          83.33333333333333,
          83.33333333333333,
          83.33333333333333,
          83.33333333333333,
          83.33333333333333,
          83.33333333333333,
          83.33333333333333,
          83.33333333333333,
          83.33333333333333,
          83.33333333333333,
          83.33333333333333,
          83.33333333333333,
          83.33333333333333,
          88.88888888888889,
          88.88888888888889,
          88.88888888888889,
          88.88888888888889,
          88.88888888888889,
          88.88888888888889,
          88.88888888888889,
          88.88888888888889,
          88.88888888888889,
          88.88888888888889,
          88.88888888888889,
          88.88888888888889,
          88.88888888888889,
          88.88888888888889,
          88.88888888888889,
          88.88888888888889,
          88.88888888888889,
          88.88888888888889,
          88.88888888888889,
          88.88888888888889,
          88.88888888888889,
          94.44444444444444,
          94.44444444444444,
          94.44444444444444,
          94.44444444444444,
          94.44444444444444,
          94.44444444444444,
          94.44444444444444,
          94.44444444444444,
          94.44444444444444,
          94.44444444444444,
          94.44444444444444,
          94.44444444444444,
          94.44444444444444,
          94.44444444444444,
          94.44444444444444,
          94.44444444444444,
          94.44444444444444,
          94.44444444444444,
          94.44444444444444,
          94.44444444444444,
          94.44444444444444,
          100,
          100,
          100,
          100,
          100,
          100,
          100,
          100,
          100,
          100,
          100,
          100,
          100,
          100,
          100,
          100,
          100,
          100,
          100,
          100,
          100,
          105.55555555555556,
          105.55555555555556,
          105.55555555555556,
          105.55555555555556,
          105.55555555555556,
          105.55555555555556,
          105.55555555555556,
          105.55555555555556,
          105.55555555555556,
          105.55555555555556,
          105.55555555555556,
          105.55555555555556,
          105.55555555555556,
          105.55555555555556,
          105.55555555555556,
          105.55555555555556,
          105.55555555555556,
          105.55555555555556,
          105.55555555555556,
          105.55555555555556,
          105.55555555555556,
          111.11111111111111,
          111.11111111111111,
          111.11111111111111,
          111.11111111111111,
          111.11111111111111,
          111.11111111111111,
          111.11111111111111,
          111.11111111111111,
          111.11111111111111,
          111.11111111111111,
          111.11111111111111,
          111.11111111111111,
          111.11111111111111,
          111.11111111111111,
          111.11111111111111,
          111.11111111111111,
          111.11111111111111,
          111.11111111111111,
          111.11111111111111,
          111.11111111111111,
          111.11111111111111,
          116.66666666666666,
          116.66666666666666,
          116.66666666666666,
          116.66666666666666,
          116.66666666666666,
          116.66666666666666,
          116.66666666666666,
          116.66666666666666,
          116.66666666666666,
          116.66666666666666,
          116.66666666666666,
          116.66666666666666,
          116.66666666666666,
          116.66666666666666,
          116.66666666666666,
          116.66666666666666,
          116.66666666666666,
          116.66666666666666,
          116.66666666666666,
          116.66666666666666,
          116.66666666666666,
          122.22222222222221,
          122.22222222222221,
          122.22222222222221,
          122.22222222222221,
          122.22222222222221,
          122.22222222222221,
          122.22222222222221,
          122.22222222222221,
          122.22222222222221,
          122.22222222222221,
          122.22222222222221,
          122.22222222222221,
          122.22222222222221,
          122.22222222222221,
          122.22222222222221,
          122.22222222222221,
          122.22222222222221,
          122.22222222222221,
          122.22222222222221,
          122.22222222222221,
          122.22222222222221,
          127.77777777777777,
          127.77777777777777,
          127.77777777777777,
          127.77777777777777,
          127.77777777777777,
          127.77777777777777,
          127.77777777777777,
          127.77777777777777,
          127.77777777777777,
          127.77777777777777,
          127.77777777777777,
          127.77777777777777,
          127.77777777777777,
          127.77777777777777,
          127.77777777777777,
          127.77777777777777,
          127.77777777777777,
          127.77777777777777,
          127.77777777777777,
          127.77777777777777,
          127.77777777777777,
          133.33333333333331,
          133.33333333333331,
          133.33333333333331,
          133.33333333333331,
          133.33333333333331,
          133.33333333333331,
          133.33333333333331,
          133.33333333333331,
          133.33333333333331,
          133.33333333333331,
          133.33333333333331,
          133.33333333333331,
          133.33333333333331,
          133.33333333333331,
          133.33333333333331,
          133.33333333333331,
          133.33333333333331,
          133.33333333333331,
          133.33333333333331,
          133.33333333333331,
          133.33333333333331,
          138.88888888888889,
          138.88888888888889,
          138.88888888888889,
          138.88888888888889,
          138.88888888888889,
          138.88888888888889,
          138.88888888888889,
          138.88888888888889,
          138.88888888888889,
          138.88888888888889,
          138.88888888888889,
          138.88888888888889,
          138.88888888888889,
          138.88888888888889,
          138.88888888888889,
          138.88888888888889,
          138.88888888888889,
          138.88888888888889,
          138.88888888888889,
          138.88888888888889,
          138.88888888888889,
          144.44444444444443,
          144.44444444444443,
          144.44444444444443,
          144.44444444444443,
          144.44444444444443,
          144.44444444444443,
          144.44444444444443,
          144.44444444444443,
          144.44444444444443,
          144.44444444444443,
          144.44444444444443,
          144.44444444444443,
          144.44444444444443,
          144.44444444444443,
          144.44444444444443,
          144.44444444444443,
          144.44444444444443,
          144.44444444444443,
          144.44444444444443,
          144.44444444444443,
          144.44444444444443,
          150,
          150,
          150,
          150,
          150,
          150,
          150,
          150,
          150,
          150,
          150,
          150,
          150,
          150,
          150,
          150,
          150,
          150,
          150,
          150,
          150
         ]
        }
       ],
       "layout": {
        "hovermode": "closest",
        "template": {
         "data": {
          "bar": [
           {
            "error_x": {
             "color": "#2a3f5f"
            },
            "error_y": {
             "color": "#2a3f5f"
            },
            "marker": {
             "line": {
              "color": "#E5ECF6",
              "width": 0.5
             },
             "pattern": {
              "fillmode": "overlay",
              "size": 10,
              "solidity": 0.2
             }
            },
            "type": "bar"
           }
          ],
          "barpolar": [
           {
            "marker": {
             "line": {
              "color": "#E5ECF6",
              "width": 0.5
             },
             "pattern": {
              "fillmode": "overlay",
              "size": 10,
              "solidity": 0.2
             }
            },
            "type": "barpolar"
           }
          ],
          "carpet": [
           {
            "aaxis": {
             "endlinecolor": "#2a3f5f",
             "gridcolor": "white",
             "linecolor": "white",
             "minorgridcolor": "white",
             "startlinecolor": "#2a3f5f"
            },
            "baxis": {
             "endlinecolor": "#2a3f5f",
             "gridcolor": "white",
             "linecolor": "white",
             "minorgridcolor": "white",
             "startlinecolor": "#2a3f5f"
            },
            "type": "carpet"
           }
          ],
          "choropleth": [
           {
            "colorbar": {
             "outlinewidth": 0,
             "ticks": ""
            },
            "type": "choropleth"
           }
          ],
          "contour": [
           {
            "colorbar": {
             "outlinewidth": 0,
             "ticks": ""
            },
            "colorscale": [
             [
              0,
              "#0d0887"
             ],
             [
              0.1111111111111111,
              "#46039f"
             ],
             [
              0.2222222222222222,
              "#7201a8"
             ],
             [
              0.3333333333333333,
              "#9c179e"
             ],
             [
              0.4444444444444444,
              "#bd3786"
             ],
             [
              0.5555555555555556,
              "#d8576b"
             ],
             [
              0.6666666666666666,
              "#ed7953"
             ],
             [
              0.7777777777777778,
              "#fb9f3a"
             ],
             [
              0.8888888888888888,
              "#fdca26"
             ],
             [
              1,
              "#f0f921"
             ]
            ],
            "type": "contour"
           }
          ],
          "contourcarpet": [
           {
            "colorbar": {
             "outlinewidth": 0,
             "ticks": ""
            },
            "type": "contourcarpet"
           }
          ],
          "heatmap": [
           {
            "colorbar": {
             "outlinewidth": 0,
             "ticks": ""
            },
            "colorscale": [
             [
              0,
              "#0d0887"
             ],
             [
              0.1111111111111111,
              "#46039f"
             ],
             [
              0.2222222222222222,
              "#7201a8"
             ],
             [
              0.3333333333333333,
              "#9c179e"
             ],
             [
              0.4444444444444444,
              "#bd3786"
             ],
             [
              0.5555555555555556,
              "#d8576b"
             ],
             [
              0.6666666666666666,
              "#ed7953"
             ],
             [
              0.7777777777777778,
              "#fb9f3a"
             ],
             [
              0.8888888888888888,
              "#fdca26"
             ],
             [
              1,
              "#f0f921"
             ]
            ],
            "type": "heatmap"
           }
          ],
          "heatmapgl": [
           {
            "colorbar": {
             "outlinewidth": 0,
             "ticks": ""
            },
            "colorscale": [
             [
              0,
              "#0d0887"
             ],
             [
              0.1111111111111111,
              "#46039f"
             ],
             [
              0.2222222222222222,
              "#7201a8"
             ],
             [
              0.3333333333333333,
              "#9c179e"
             ],
             [
              0.4444444444444444,
              "#bd3786"
             ],
             [
              0.5555555555555556,
              "#d8576b"
             ],
             [
              0.6666666666666666,
              "#ed7953"
             ],
             [
              0.7777777777777778,
              "#fb9f3a"
             ],
             [
              0.8888888888888888,
              "#fdca26"
             ],
             [
              1,
              "#f0f921"
             ]
            ],
            "type": "heatmapgl"
           }
          ],
          "histogram": [
           {
            "marker": {
             "pattern": {
              "fillmode": "overlay",
              "size": 10,
              "solidity": 0.2
             }
            },
            "type": "histogram"
           }
          ],
          "histogram2d": [
           {
            "colorbar": {
             "outlinewidth": 0,
             "ticks": ""
            },
            "colorscale": [
             [
              0,
              "#0d0887"
             ],
             [
              0.1111111111111111,
              "#46039f"
             ],
             [
              0.2222222222222222,
              "#7201a8"
             ],
             [
              0.3333333333333333,
              "#9c179e"
             ],
             [
              0.4444444444444444,
              "#bd3786"
             ],
             [
              0.5555555555555556,
              "#d8576b"
             ],
             [
              0.6666666666666666,
              "#ed7953"
             ],
             [
              0.7777777777777778,
              "#fb9f3a"
             ],
             [
              0.8888888888888888,
              "#fdca26"
             ],
             [
              1,
              "#f0f921"
             ]
            ],
            "type": "histogram2d"
           }
          ],
          "histogram2dcontour": [
           {
            "colorbar": {
             "outlinewidth": 0,
             "ticks": ""
            },
            "colorscale": [
             [
              0,
              "#0d0887"
             ],
             [
              0.1111111111111111,
              "#46039f"
             ],
             [
              0.2222222222222222,
              "#7201a8"
             ],
             [
              0.3333333333333333,
              "#9c179e"
             ],
             [
              0.4444444444444444,
              "#bd3786"
             ],
             [
              0.5555555555555556,
              "#d8576b"
             ],
             [
              0.6666666666666666,
              "#ed7953"
             ],
             [
              0.7777777777777778,
              "#fb9f3a"
             ],
             [
              0.8888888888888888,
              "#fdca26"
             ],
             [
              1,
              "#f0f921"
             ]
            ],
            "type": "histogram2dcontour"
           }
          ],
          "mesh3d": [
           {
            "colorbar": {
             "outlinewidth": 0,
             "ticks": ""
            },
            "type": "mesh3d"
           }
          ],
          "parcoords": [
           {
            "line": {
             "colorbar": {
              "outlinewidth": 0,
              "ticks": ""
             }
            },
            "type": "parcoords"
           }
          ],
          "pie": [
           {
            "automargin": true,
            "type": "pie"
           }
          ],
          "scatter": [
           {
            "fillpattern": {
             "fillmode": "overlay",
             "size": 10,
             "solidity": 0.2
            },
            "type": "scatter"
           }
          ],
          "scatter3d": [
           {
            "line": {
             "colorbar": {
              "outlinewidth": 0,
              "ticks": ""
             }
            },
            "marker": {
             "colorbar": {
              "outlinewidth": 0,
              "ticks": ""
             }
            },
            "type": "scatter3d"
           }
          ],
          "scattercarpet": [
           {
            "marker": {
             "colorbar": {
              "outlinewidth": 0,
              "ticks": ""
             }
            },
            "type": "scattercarpet"
           }
          ],
          "scattergeo": [
           {
            "marker": {
             "colorbar": {
              "outlinewidth": 0,
              "ticks": ""
             }
            },
            "type": "scattergeo"
           }
          ],
          "scattergl": [
           {
            "marker": {
             "colorbar": {
              "outlinewidth": 0,
              "ticks": ""
             }
            },
            "type": "scattergl"
           }
          ],
          "scattermapbox": [
           {
            "marker": {
             "colorbar": {
              "outlinewidth": 0,
              "ticks": ""
             }
            },
            "type": "scattermapbox"
           }
          ],
          "scatterpolar": [
           {
            "marker": {
             "colorbar": {
              "outlinewidth": 0,
              "ticks": ""
             }
            },
            "type": "scatterpolar"
           }
          ],
          "scatterpolargl": [
           {
            "marker": {
             "colorbar": {
              "outlinewidth": 0,
              "ticks": ""
             }
            },
            "type": "scatterpolargl"
           }
          ],
          "scatterternary": [
           {
            "marker": {
             "colorbar": {
              "outlinewidth": 0,
              "ticks": ""
             }
            },
            "type": "scatterternary"
           }
          ],
          "surface": [
           {
            "colorbar": {
             "outlinewidth": 0,
             "ticks": ""
            },
            "colorscale": [
             [
              0,
              "#0d0887"
             ],
             [
              0.1111111111111111,
              "#46039f"
             ],
             [
              0.2222222222222222,
              "#7201a8"
             ],
             [
              0.3333333333333333,
              "#9c179e"
             ],
             [
              0.4444444444444444,
              "#bd3786"
             ],
             [
              0.5555555555555556,
              "#d8576b"
             ],
             [
              0.6666666666666666,
              "#ed7953"
             ],
             [
              0.7777777777777778,
              "#fb9f3a"
             ],
             [
              0.8888888888888888,
              "#fdca26"
             ],
             [
              1,
              "#f0f921"
             ]
            ],
            "type": "surface"
           }
          ],
          "table": [
           {
            "cells": {
             "fill": {
              "color": "#EBF0F8"
             },
             "line": {
              "color": "white"
             }
            },
            "header": {
             "fill": {
              "color": "#C8D4E3"
             },
             "line": {
              "color": "white"
             }
            },
            "type": "table"
           }
          ]
         },
         "layout": {
          "annotationdefaults": {
           "arrowcolor": "#2a3f5f",
           "arrowhead": 0,
           "arrowwidth": 1
          },
          "autotypenumbers": "strict",
          "coloraxis": {
           "colorbar": {
            "outlinewidth": 0,
            "ticks": ""
           }
          },
          "colorscale": {
           "diverging": [
            [
             0,
             "#8e0152"
            ],
            [
             0.1,
             "#c51b7d"
            ],
            [
             0.2,
             "#de77ae"
            ],
            [
             0.3,
             "#f1b6da"
            ],
            [
             0.4,
             "#fde0ef"
            ],
            [
             0.5,
             "#f7f7f7"
            ],
            [
             0.6,
             "#e6f5d0"
            ],
            [
             0.7,
             "#b8e186"
            ],
            [
             0.8,
             "#7fbc41"
            ],
            [
             0.9,
             "#4d9221"
            ],
            [
             1,
             "#276419"
            ]
           ],
           "sequential": [
            [
             0,
             "#0d0887"
            ],
            [
             0.1111111111111111,
             "#46039f"
            ],
            [
             0.2222222222222222,
             "#7201a8"
            ],
            [
             0.3333333333333333,
             "#9c179e"
            ],
            [
             0.4444444444444444,
             "#bd3786"
            ],
            [
             0.5555555555555556,
             "#d8576b"
            ],
            [
             0.6666666666666666,
             "#ed7953"
            ],
            [
             0.7777777777777778,
             "#fb9f3a"
            ],
            [
             0.8888888888888888,
             "#fdca26"
            ],
            [
             1,
             "#f0f921"
            ]
           ],
           "sequentialminus": [
            [
             0,
             "#0d0887"
            ],
            [
             0.1111111111111111,
             "#46039f"
            ],
            [
             0.2222222222222222,
             "#7201a8"
            ],
            [
             0.3333333333333333,
             "#9c179e"
            ],
            [
             0.4444444444444444,
             "#bd3786"
            ],
            [
             0.5555555555555556,
             "#d8576b"
            ],
            [
             0.6666666666666666,
             "#ed7953"
            ],
            [
             0.7777777777777778,
             "#fb9f3a"
            ],
            [
             0.8888888888888888,
             "#fdca26"
            ],
            [
             1,
             "#f0f921"
            ]
           ]
          },
          "colorway": [
           "#636efa",
           "#EF553B",
           "#00cc96",
           "#ab63fa",
           "#FFA15A",
           "#19d3f3",
           "#FF6692",
           "#B6E880",
           "#FF97FF",
           "#FECB52"
          ],
          "font": {
           "color": "#2a3f5f"
          },
          "geo": {
           "bgcolor": "white",
           "lakecolor": "white",
           "landcolor": "#E5ECF6",
           "showlakes": true,
           "showland": true,
           "subunitcolor": "white"
          },
          "hoverlabel": {
           "align": "left"
          },
          "hovermode": "closest",
          "mapbox": {
           "style": "light"
          },
          "paper_bgcolor": "white",
          "plot_bgcolor": "#E5ECF6",
          "polar": {
           "angularaxis": {
            "gridcolor": "white",
            "linecolor": "white",
            "ticks": ""
           },
           "bgcolor": "#E5ECF6",
           "radialaxis": {
            "gridcolor": "white",
            "linecolor": "white",
            "ticks": ""
           }
          },
          "scene": {
           "xaxis": {
            "backgroundcolor": "#E5ECF6",
            "gridcolor": "white",
            "gridwidth": 2,
            "linecolor": "white",
            "showbackground": true,
            "ticks": "",
            "zerolinecolor": "white"
           },
           "yaxis": {
            "backgroundcolor": "#E5ECF6",
            "gridcolor": "white",
            "gridwidth": 2,
            "linecolor": "white",
            "showbackground": true,
            "ticks": "",
            "zerolinecolor": "white"
           },
           "zaxis": {
            "backgroundcolor": "#E5ECF6",
            "gridcolor": "white",
            "gridwidth": 2,
            "linecolor": "white",
            "showbackground": true,
            "ticks": "",
            "zerolinecolor": "white"
           }
          },
          "shapedefaults": {
           "line": {
            "color": "#2a3f5f"
           }
          },
          "ternary": {
           "aaxis": {
            "gridcolor": "white",
            "linecolor": "white",
            "ticks": ""
           },
           "baxis": {
            "gridcolor": "white",
            "linecolor": "white",
            "ticks": ""
           },
           "bgcolor": "#E5ECF6",
           "caxis": {
            "gridcolor": "white",
            "linecolor": "white",
            "ticks": ""
           }
          },
          "title": {
           "x": 0.05
          },
          "xaxis": {
           "automargin": true,
           "gridcolor": "white",
           "linecolor": "white",
           "ticks": "",
           "title": {
            "standoff": 15
           },
           "zerolinecolor": "white",
           "zerolinewidth": 2
          },
          "yaxis": {
           "automargin": true,
           "gridcolor": "white",
           "linecolor": "white",
           "ticks": "",
           "title": {
            "standoff": 15
           },
           "zerolinecolor": "white",
           "zerolinewidth": 2
          }
         }
        },
        "title": {
         "text": "Drone Flight Plan<br><sup>Height (Z): 30.48m | Capture Speed: 1.54 m/s</sup>"
        },
        "xaxis": {
         "title": {
          "text": "X-coordinate (m)"
         }
        },
        "yaxis": {
         "scaleanchor": "x",
         "scaleratio": 1,
         "title": {
          "text": "Y-coordinate (m)"
         }
        }
       }
      }
     },
     "metadata": {},
     "output_type": "display_data"
    }
   ],
   "source": [
    "# Ablation 5 Code\n",
    "print(\"\\nAblation 5: Double Focal Length (fx, fy)\")\n",
    "camera_abl5 = copy.deepcopy(camera_x10)\n",
    "dataset_spec_abl5 = copy.deepcopy(dataset_spec)\n",
    "camera_abl5.fx = camera_x10.fx * 2.0 # Double fx\n",
    "camera_abl5.fy = camera_x10.fy * 2.0 # Double fy\n",
    "print(f\"Modified Camera fx={camera_abl5.fx:.2f}, fy={camera_abl5.fy:.2f}\")\n",
    "\n",
    "plan_abl5 = generate_photo_plan_on_grid(camera_abl5, dataset_spec_abl5)\n",
    "print(f\"Generated {len(plan_abl5)} waypoints.\")\n",
    "fig_abl5 = plot_photo_plan(plan_abl5)\n",
    "fig_abl5.show()\n"
   ]
  },
  {
   "cell_type": "markdown",
   "id": "a1ad09c2",
   "metadata": {},
   "source": [
    "### <font color='sienna'>Ablation 6: Minimal Overlap & Sidelap</font>\n",
    "\n",
    "*   **Change:** Reduce `dataset_spec.overlap` and `dataset_spec.sidelap` to a minimal value (0.01 , 1%). Keep other parameters at baseline.\n",
    "*   **Observation:** The flight grid becomes extremely sparse. Both horizontal and vertical distances between waypoints are maximized, approaching the full size of the image footprint. Very few waypoints are generated.\n",
    "*   **Reasoning:** With very little required overlap, the drone can travel almost the full width/height of the area captured in one photo before needing to take the next one. This maximizes the spacing between waypoints.\n",
    "*   **Implication:** While drastically reducing photo count and flight time, such minimal overlap is insufficient for reliable map stitching or 3D model generation in photogrammetry. It demonstrates the lower limit of coverage but highlights why higher overlaps are standard practice for quality results.\n"
   ]
  },
  {
   "cell_type": "code",
   "execution_count": null,
   "id": "95d975fa",
   "metadata": {},
   "outputs": [
    {
     "name": "stdout",
     "output_type": "stream",
     "text": [
      "\n",
      "Ablation 6: Minimal Overlap/Sidelap (5%)\n",
      "Generated 20 waypoints.\n"
     ]
    },
    {
     "data": {
      "application/vnd.plotly.v1+json": {
       "config": {
        "plotlyServerURL": "https://plot.ly"
       },
       "data": [
        {
         "line": {
          "color": "LightSkyBlue",
          "width": 2
         },
         "marker": {
          "angleref": "previous",
          "color": "MediumPurple",
          "size": 10,
          "symbol": "arrow"
         },
         "mode": "lines+markers",
         "name": "Flight Path",
         "type": "scatter",
         "x": [
          0,
          50,
          100,
          150,
          150,
          100,
          50,
          0,
          0,
          50,
          100,
          150,
          150,
          100,
          50,
          0,
          0,
          50,
          100,
          150
         ],
         "y": [
          0,
          0,
          0,
          0,
          37.5,
          37.5,
          37.5,
          37.5,
          75,
          75,
          75,
          75,
          112.5,
          112.5,
          112.5,
          112.5,
          150,
          150,
          150,
          150
         ]
        }
       ],
       "layout": {
        "hovermode": "closest",
        "template": {
         "data": {
          "bar": [
           {
            "error_x": {
             "color": "#2a3f5f"
            },
            "error_y": {
             "color": "#2a3f5f"
            },
            "marker": {
             "line": {
              "color": "#E5ECF6",
              "width": 0.5
             },
             "pattern": {
              "fillmode": "overlay",
              "size": 10,
              "solidity": 0.2
             }
            },
            "type": "bar"
           }
          ],
          "barpolar": [
           {
            "marker": {
             "line": {
              "color": "#E5ECF6",
              "width": 0.5
             },
             "pattern": {
              "fillmode": "overlay",
              "size": 10,
              "solidity": 0.2
             }
            },
            "type": "barpolar"
           }
          ],
          "carpet": [
           {
            "aaxis": {
             "endlinecolor": "#2a3f5f",
             "gridcolor": "white",
             "linecolor": "white",
             "minorgridcolor": "white",
             "startlinecolor": "#2a3f5f"
            },
            "baxis": {
             "endlinecolor": "#2a3f5f",
             "gridcolor": "white",
             "linecolor": "white",
             "minorgridcolor": "white",
             "startlinecolor": "#2a3f5f"
            },
            "type": "carpet"
           }
          ],
          "choropleth": [
           {
            "colorbar": {
             "outlinewidth": 0,
             "ticks": ""
            },
            "type": "choropleth"
           }
          ],
          "contour": [
           {
            "colorbar": {
             "outlinewidth": 0,
             "ticks": ""
            },
            "colorscale": [
             [
              0,
              "#0d0887"
             ],
             [
              0.1111111111111111,
              "#46039f"
             ],
             [
              0.2222222222222222,
              "#7201a8"
             ],
             [
              0.3333333333333333,
              "#9c179e"
             ],
             [
              0.4444444444444444,
              "#bd3786"
             ],
             [
              0.5555555555555556,
              "#d8576b"
             ],
             [
              0.6666666666666666,
              "#ed7953"
             ],
             [
              0.7777777777777778,
              "#fb9f3a"
             ],
             [
              0.8888888888888888,
              "#fdca26"
             ],
             [
              1,
              "#f0f921"
             ]
            ],
            "type": "contour"
           }
          ],
          "contourcarpet": [
           {
            "colorbar": {
             "outlinewidth": 0,
             "ticks": ""
            },
            "type": "contourcarpet"
           }
          ],
          "heatmap": [
           {
            "colorbar": {
             "outlinewidth": 0,
             "ticks": ""
            },
            "colorscale": [
             [
              0,
              "#0d0887"
             ],
             [
              0.1111111111111111,
              "#46039f"
             ],
             [
              0.2222222222222222,
              "#7201a8"
             ],
             [
              0.3333333333333333,
              "#9c179e"
             ],
             [
              0.4444444444444444,
              "#bd3786"
             ],
             [
              0.5555555555555556,
              "#d8576b"
             ],
             [
              0.6666666666666666,
              "#ed7953"
             ],
             [
              0.7777777777777778,
              "#fb9f3a"
             ],
             [
              0.8888888888888888,
              "#fdca26"
             ],
             [
              1,
              "#f0f921"
             ]
            ],
            "type": "heatmap"
           }
          ],
          "heatmapgl": [
           {
            "colorbar": {
             "outlinewidth": 0,
             "ticks": ""
            },
            "colorscale": [
             [
              0,
              "#0d0887"
             ],
             [
              0.1111111111111111,
              "#46039f"
             ],
             [
              0.2222222222222222,
              "#7201a8"
             ],
             [
              0.3333333333333333,
              "#9c179e"
             ],
             [
              0.4444444444444444,
              "#bd3786"
             ],
             [
              0.5555555555555556,
              "#d8576b"
             ],
             [
              0.6666666666666666,
              "#ed7953"
             ],
             [
              0.7777777777777778,
              "#fb9f3a"
             ],
             [
              0.8888888888888888,
              "#fdca26"
             ],
             [
              1,
              "#f0f921"
             ]
            ],
            "type": "heatmapgl"
           }
          ],
          "histogram": [
           {
            "marker": {
             "pattern": {
              "fillmode": "overlay",
              "size": 10,
              "solidity": 0.2
             }
            },
            "type": "histogram"
           }
          ],
          "histogram2d": [
           {
            "colorbar": {
             "outlinewidth": 0,
             "ticks": ""
            },
            "colorscale": [
             [
              0,
              "#0d0887"
             ],
             [
              0.1111111111111111,
              "#46039f"
             ],
             [
              0.2222222222222222,
              "#7201a8"
             ],
             [
              0.3333333333333333,
              "#9c179e"
             ],
             [
              0.4444444444444444,
              "#bd3786"
             ],
             [
              0.5555555555555556,
              "#d8576b"
             ],
             [
              0.6666666666666666,
              "#ed7953"
             ],
             [
              0.7777777777777778,
              "#fb9f3a"
             ],
             [
              0.8888888888888888,
              "#fdca26"
             ],
             [
              1,
              "#f0f921"
             ]
            ],
            "type": "histogram2d"
           }
          ],
          "histogram2dcontour": [
           {
            "colorbar": {
             "outlinewidth": 0,
             "ticks": ""
            },
            "colorscale": [
             [
              0,
              "#0d0887"
             ],
             [
              0.1111111111111111,
              "#46039f"
             ],
             [
              0.2222222222222222,
              "#7201a8"
             ],
             [
              0.3333333333333333,
              "#9c179e"
             ],
             [
              0.4444444444444444,
              "#bd3786"
             ],
             [
              0.5555555555555556,
              "#d8576b"
             ],
             [
              0.6666666666666666,
              "#ed7953"
             ],
             [
              0.7777777777777778,
              "#fb9f3a"
             ],
             [
              0.8888888888888888,
              "#fdca26"
             ],
             [
              1,
              "#f0f921"
             ]
            ],
            "type": "histogram2dcontour"
           }
          ],
          "mesh3d": [
           {
            "colorbar": {
             "outlinewidth": 0,
             "ticks": ""
            },
            "type": "mesh3d"
           }
          ],
          "parcoords": [
           {
            "line": {
             "colorbar": {
              "outlinewidth": 0,
              "ticks": ""
             }
            },
            "type": "parcoords"
           }
          ],
          "pie": [
           {
            "automargin": true,
            "type": "pie"
           }
          ],
          "scatter": [
           {
            "fillpattern": {
             "fillmode": "overlay",
             "size": 10,
             "solidity": 0.2
            },
            "type": "scatter"
           }
          ],
          "scatter3d": [
           {
            "line": {
             "colorbar": {
              "outlinewidth": 0,
              "ticks": ""
             }
            },
            "marker": {
             "colorbar": {
              "outlinewidth": 0,
              "ticks": ""
             }
            },
            "type": "scatter3d"
           }
          ],
          "scattercarpet": [
           {
            "marker": {
             "colorbar": {
              "outlinewidth": 0,
              "ticks": ""
             }
            },
            "type": "scattercarpet"
           }
          ],
          "scattergeo": [
           {
            "marker": {
             "colorbar": {
              "outlinewidth": 0,
              "ticks": ""
             }
            },
            "type": "scattergeo"
           }
          ],
          "scattergl": [
           {
            "marker": {
             "colorbar": {
              "outlinewidth": 0,
              "ticks": ""
             }
            },
            "type": "scattergl"
           }
          ],
          "scattermapbox": [
           {
            "marker": {
             "colorbar": {
              "outlinewidth": 0,
              "ticks": ""
             }
            },
            "type": "scattermapbox"
           }
          ],
          "scatterpolar": [
           {
            "marker": {
             "colorbar": {
              "outlinewidth": 0,
              "ticks": ""
             }
            },
            "type": "scatterpolar"
           }
          ],
          "scatterpolargl": [
           {
            "marker": {
             "colorbar": {
              "outlinewidth": 0,
              "ticks": ""
             }
            },
            "type": "scatterpolargl"
           }
          ],
          "scatterternary": [
           {
            "marker": {
             "colorbar": {
              "outlinewidth": 0,
              "ticks": ""
             }
            },
            "type": "scatterternary"
           }
          ],
          "surface": [
           {
            "colorbar": {
             "outlinewidth": 0,
             "ticks": ""
            },
            "colorscale": [
             [
              0,
              "#0d0887"
             ],
             [
              0.1111111111111111,
              "#46039f"
             ],
             [
              0.2222222222222222,
              "#7201a8"
             ],
             [
              0.3333333333333333,
              "#9c179e"
             ],
             [
              0.4444444444444444,
              "#bd3786"
             ],
             [
              0.5555555555555556,
              "#d8576b"
             ],
             [
              0.6666666666666666,
              "#ed7953"
             ],
             [
              0.7777777777777778,
              "#fb9f3a"
             ],
             [
              0.8888888888888888,
              "#fdca26"
             ],
             [
              1,
              "#f0f921"
             ]
            ],
            "type": "surface"
           }
          ],
          "table": [
           {
            "cells": {
             "fill": {
              "color": "#EBF0F8"
             },
             "line": {
              "color": "white"
             }
            },
            "header": {
             "fill": {
              "color": "#C8D4E3"
             },
             "line": {
              "color": "white"
             }
            },
            "type": "table"
           }
          ]
         },
         "layout": {
          "annotationdefaults": {
           "arrowcolor": "#2a3f5f",
           "arrowhead": 0,
           "arrowwidth": 1
          },
          "autotypenumbers": "strict",
          "coloraxis": {
           "colorbar": {
            "outlinewidth": 0,
            "ticks": ""
           }
          },
          "colorscale": {
           "diverging": [
            [
             0,
             "#8e0152"
            ],
            [
             0.1,
             "#c51b7d"
            ],
            [
             0.2,
             "#de77ae"
            ],
            [
             0.3,
             "#f1b6da"
            ],
            [
             0.4,
             "#fde0ef"
            ],
            [
             0.5,
             "#f7f7f7"
            ],
            [
             0.6,
             "#e6f5d0"
            ],
            [
             0.7,
             "#b8e186"
            ],
            [
             0.8,
             "#7fbc41"
            ],
            [
             0.9,
             "#4d9221"
            ],
            [
             1,
             "#276419"
            ]
           ],
           "sequential": [
            [
             0,
             "#0d0887"
            ],
            [
             0.1111111111111111,
             "#46039f"
            ],
            [
             0.2222222222222222,
             "#7201a8"
            ],
            [
             0.3333333333333333,
             "#9c179e"
            ],
            [
             0.4444444444444444,
             "#bd3786"
            ],
            [
             0.5555555555555556,
             "#d8576b"
            ],
            [
             0.6666666666666666,
             "#ed7953"
            ],
            [
             0.7777777777777778,
             "#fb9f3a"
            ],
            [
             0.8888888888888888,
             "#fdca26"
            ],
            [
             1,
             "#f0f921"
            ]
           ],
           "sequentialminus": [
            [
             0,
             "#0d0887"
            ],
            [
             0.1111111111111111,
             "#46039f"
            ],
            [
             0.2222222222222222,
             "#7201a8"
            ],
            [
             0.3333333333333333,
             "#9c179e"
            ],
            [
             0.4444444444444444,
             "#bd3786"
            ],
            [
             0.5555555555555556,
             "#d8576b"
            ],
            [
             0.6666666666666666,
             "#ed7953"
            ],
            [
             0.7777777777777778,
             "#fb9f3a"
            ],
            [
             0.8888888888888888,
             "#fdca26"
            ],
            [
             1,
             "#f0f921"
            ]
           ]
          },
          "colorway": [
           "#636efa",
           "#EF553B",
           "#00cc96",
           "#ab63fa",
           "#FFA15A",
           "#19d3f3",
           "#FF6692",
           "#B6E880",
           "#FF97FF",
           "#FECB52"
          ],
          "font": {
           "color": "#2a3f5f"
          },
          "geo": {
           "bgcolor": "white",
           "lakecolor": "white",
           "landcolor": "#E5ECF6",
           "showlakes": true,
           "showland": true,
           "subunitcolor": "white"
          },
          "hoverlabel": {
           "align": "left"
          },
          "hovermode": "closest",
          "mapbox": {
           "style": "light"
          },
          "paper_bgcolor": "white",
          "plot_bgcolor": "#E5ECF6",
          "polar": {
           "angularaxis": {
            "gridcolor": "white",
            "linecolor": "white",
            "ticks": ""
           },
           "bgcolor": "#E5ECF6",
           "radialaxis": {
            "gridcolor": "white",
            "linecolor": "white",
            "ticks": ""
           }
          },
          "scene": {
           "xaxis": {
            "backgroundcolor": "#E5ECF6",
            "gridcolor": "white",
            "gridwidth": 2,
            "linecolor": "white",
            "showbackground": true,
            "ticks": "",
            "zerolinecolor": "white"
           },
           "yaxis": {
            "backgroundcolor": "#E5ECF6",
            "gridcolor": "white",
            "gridwidth": 2,
            "linecolor": "white",
            "showbackground": true,
            "ticks": "",
            "zerolinecolor": "white"
           },
           "zaxis": {
            "backgroundcolor": "#E5ECF6",
            "gridcolor": "white",
            "gridwidth": 2,
            "linecolor": "white",
            "showbackground": true,
            "ticks": "",
            "zerolinecolor": "white"
           }
          },
          "shapedefaults": {
           "line": {
            "color": "#2a3f5f"
           }
          },
          "ternary": {
           "aaxis": {
            "gridcolor": "white",
            "linecolor": "white",
            "ticks": ""
           },
           "baxis": {
            "gridcolor": "white",
            "linecolor": "white",
            "ticks": ""
           },
           "bgcolor": "#E5ECF6",
           "caxis": {
            "gridcolor": "white",
            "linecolor": "white",
            "ticks": ""
           }
          },
          "title": {
           "x": 0.05
          },
          "xaxis": {
           "automargin": true,
           "gridcolor": "white",
           "linecolor": "white",
           "ticks": "",
           "title": {
            "standoff": 15
           },
           "zerolinecolor": "white",
           "zerolinewidth": 2
          },
          "yaxis": {
           "automargin": true,
           "gridcolor": "white",
           "linecolor": "white",
           "ticks": "",
           "title": {
            "standoff": 15
           },
           "zerolinecolor": "white",
           "zerolinewidth": 2
          }
         }
        },
        "title": {
         "text": "Drone Flight Plan<br><sup>Height (Z): 30.48m | Capture Speed: 3.09 m/s</sup>"
        },
        "xaxis": {
         "title": {
          "text": "X-coordinate (m)"
         }
        },
        "yaxis": {
         "scaleanchor": "x",
         "scaleratio": 1,
         "title": {
          "text": "Y-coordinate (m)"
         }
        }
       }
      }
     },
     "metadata": {},
     "output_type": "display_data"
    }
   ],
   "source": [
    "# Ablation 6 Code\n",
    "print(\"\\nAblation 6: Minimal Overlap/Sidelap (1%)\")\n",
    "camera_abl6 = copy.deepcopy(camera_x10)\n",
    "dataset_spec_abl6 = copy.deepcopy(dataset_spec)\n",
    "dataset_spec_abl6.overlap = 0.01 # Set overlap to 1%\n",
    "dataset_spec_abl6.sidelap = 0.01 # Set sidelap to 1%\n",
    "\n",
    "plan_abl6 = generate_photo_plan_on_grid(camera_abl6, dataset_spec_abl6)\n",
    "print(f\"Generated {len(plan_abl6)} waypoints.\")\n",
    "fig_abl6 = plot_photo_plan(plan_abl6)\n",
    "fig_abl6.show()\n"
   ]
  },
  {
   "cell_type": "markdown",
   "id": "8a1fbd76",
   "metadata": {},
   "source": [
    "### <font color='aqua'>Key Takeaways | Learning Outcomes</font>\n",
    "\n",
    "This project brought together camera modeling, flight planning, and data visualization for drone-based mapping. These are the main insights I gained:\n",
    "\n",
    "*   **Camera & Photogrammetry Basics:** I started with very little knowledge of camera optics or drone surveying. Building the pinhole camera model in code helped me understand how focal length and sensor size determine the ground footprint of each image, and why overlap between photos is essential for stitching and 3D reconstruction.\n",
    "\n",
    "*   **Visual Feedback with Plotly:** Plotting the flight paths made the concepts click.Seeing how adjusting height or overlap changed the density and layout, reinforced the math behind it.\n",
    "\n",
    "*   **New Tools & Workflows:** This was my first project using:\n",
    "    *   **Jupyter Notebooks** for combining explanations, code, and plots.\n",
    "    *   **Plotly** for interactive, customizable visualizations.\n",
    "    *   **Git branches and Pull Requests** to manage development and code review.\n",
    "\n",
    "Overall, assembling the planner step by step and testing different parameters gave me practical experience in translating mathematical concepts into a working system—and in communicating results effectively through visualization."
   ]
  }
 ],
 "metadata": {
  "kernelspec": {
   "display_name": "drone-trajectory-g6vvMrTf-py3.12",
   "language": "python",
   "name": "python3"
  },
  "language_info": {
   "codemirror_mode": {
    "name": "ipython",
    "version": 3
   },
   "file_extension": ".py",
   "mimetype": "text/x-python",
   "name": "python",
   "nbconvert_exporter": "python",
   "pygments_lexer": "ipython3",
   "version": "3.12.3"
  }
 },
 "nbformat": 4,
 "nbformat_minor": 5
}
